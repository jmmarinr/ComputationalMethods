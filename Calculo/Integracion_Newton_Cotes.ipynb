{
  "nbformat": 4,
  "nbformat_minor": 0,
  "metadata": {
    "colab": {
      "provenance": [],
      "authorship_tag": "ABX9TyNT5nVuzWIO4lt9Q2yYXBQ2",
      "include_colab_link": true
    },
    "kernelspec": {
      "name": "python3",
      "display_name": "Python 3"
    },
    "language_info": {
      "name": "python"
    }
  },
  "cells": [
    {
      "cell_type": "markdown",
      "metadata": {
        "id": "view-in-github",
        "colab_type": "text"
      },
      "source": [
        "<a href=\"https://colab.research.google.com/github/jmmarinr/ComputationalMethods/blob/master/Calculo/Integracion_Newton_Cotes.ipynb\" target=\"_parent\"><img src=\"https://colab.research.google.com/assets/colab-badge.svg\" alt=\"Open In Colab\"/></a>"
      ]
    },
    {
      "cell_type": "code",
      "execution_count": null,
      "metadata": {
        "id": "ZGiaYPkoyu6o"
      },
      "outputs": [],
      "source": [
        "#@title Librerias\n",
        "import numpy as np\n",
        "import matplotlib.pyplot as plt"
      ]
    },
    {
      "cell_type": "markdown",
      "source": [
        "# Métodos de Integración Numérica\n",
        "\n",
        "---\n",
        "\n",
        "### Profesor: Juan Marcos Marín\n",
        "\n",
        "---\n",
        "\n",
        "## Introducción\n",
        "\n",
        "La integración numérica es una técnica fundamental en el análisis numérico que permite aproximar el valor de integrales definidas cuando no es posible obtener una solución analítica exacta. Los métodos presentados a continuación se basan en la aproximación de la función integrando mediante polinomios interpoladores.\n",
        "\n",
        "## Métodos de Newton-Cotes\n",
        "\n",
        "Los métodos de Newton-Cotes constituyen una familia de fórmulas de integración numérica que aproximan una integral definida dividiendo el intervalo de integración en subintervalos y aproximando la función mediante polinomios interpoladores de grado específico.\n",
        "\n",
        "\n",
        "Para un intervalo [a,b] dividido en n subintervalos:\n",
        "\n",
        "$$\\int_a^b f(x)dx \\approx (b-a) \\sum_{i=0}^{n} C_i \\cdot f(x_i)$$\n",
        "\n",
        "Donde:\n",
        "- $C_i$ son los coeficientes de Newton-Cotes\n",
        "- $x_i$ son los puntos de evaluación equidistantes\n",
        "- $h = \\frac{b-a}{n}$ es el paso de integración"
      ],
      "metadata": {
        "id": "-yPKDkwvyvvI"
      }
    },
    {
      "cell_type": "markdown",
      "source": [
        "## 1. Método de cuadratura (Riemman)\n",
        "   Divide el intervalo de integración en subintervalos, y en cada uno de ellos aproxima el área bajo la curva usando un rectángulo. Existen varias variantes:\n",
        "\n",
        "   - **Rectángulo Izquierdo**: usa el valor de la función en el extremo izquierdo de cada subintervalo.\n",
        "   - **Rectángulo Derecho**: usa el valor de la función en el extremo derecho de cada subintervalo.\n",
        "\n",
        "La **fórmula del punto medio** para la cuadratura de Riemann en un intervalo $[a, b]$ es una aproximación de la integral definida utilizando el valor de la función en el punto medio de cada subintervalo.\n",
        "\n",
        "Para una función $f(x)$ en el intervalo $[a, b]$, si dividimos el intervalo en $n$ subintervalos de igual longitud $h$, la fórmula del punto medio se expresa como:\n",
        "\n",
        "$$\n",
        "\\int_a^b f(x) \\, dx \\approx h \\sum_{i=0}^{n-1} f\\left( x_i + \\frac{h}{2} \\right)\n",
        "$$\n",
        "\n",
        "donde:\n",
        "\n",
        "- $h = \\frac{b - a}{n}$ es el ancho de cada subintervalo.\n",
        "- $x_i = a + i \\cdot h$ es el punto de inicio del $i$-ésimo subintervalo.\n",
        "- $x_i + \\frac{h}{2}$ es el **punto medio** del $i$-ésimo subintervalo.\n",
        "\n"
      ],
      "metadata": {
        "id": "M5ShbiebzDJp"
      }
    },
    {
      "cell_type": "code",
      "source": [
        "def Cuadratura_Simple(f, a, b, n):\n",
        "    \"\"\"\n",
        "    Cuadratura simple para aproximar la integral de f en [a, b] con n puntos.\n",
        "    Entrada:\n",
        "    f : función a integrar\n",
        "    a : límite inferior de integración\n",
        "    b : límite superior de integración\n",
        "    n : número de subintervalos (debe ser un entero positivo)\n",
        "    Salida:\n",
        "    integral : valor aproximado de la integral de f en [a, b]\n",
        "    \"\"\"\n",
        "    if n <= 0 or not isinstance(n, int):\n",
        "        raise ValueError(\"n debe ser un entero positivo\")\n",
        "    if n == 1:\n",
        "        return f((a + b) / 2) * (b - a)\n",
        "    if n % 2 == 1:\n",
        "        raise ValueError(\"n debe ser un número par para la Cuadratura Simple\")\n",
        "    if a >= b:\n",
        "        raise ValueError(\"El límite inferior a debe ser menor que el límite superior b\")\n",
        "    if not callable(f):\n",
        "        raise ValueError(\"f debe ser una función callable\")\n",
        "    # Calcular el ancho de los subintervalos\n",
        "    h = (b - a) / n\n",
        "    # Inicializar la suma de la integral\n",
        "    integral = 0\n",
        "    # Calcular la integral usando la regla del punto medio\n",
        "    for i in range(n):\n",
        "        x_i = a + i * h # punto inicial del subintervalo\n",
        "        integral +=  f(x_i + h/2) # valor de la función en el punto medio\n",
        "    return integral * h"
      ],
      "metadata": {
        "id": "9suLZzh0zH9q"
      },
      "execution_count": null,
      "outputs": []
    },
    {
      "cell_type": "markdown",
      "source": [
        "# Ejemplo\n",
        "\n",
        "Veamos la integral de $x^2$ entre $[0, 3]$\n",
        "\n",
        "$$\n",
        "I = \\int_0^3 x^2 dx\n",
        "$$"
      ],
      "metadata": {
        "id": "PDWrjlfP1BgW"
      }
    },
    {
      "cell_type": "code",
      "source": [
        "# Función y limites\n",
        "f = lambda x: x**2\n",
        "a = 0\n",
        "b = 3\n",
        "\n",
        "\n",
        "# Grafica\n",
        "x = np.linspace(a, b, 100)\n",
        "y = f(x)\n",
        "plt.plot(x, y)\n",
        "plt.fill_between(x, y, color = 'olive', alpha=0.5)\n",
        "plt.xlabel('x')\n",
        "plt.ylabel('f(x)')\n",
        "plt.grid(True)\n",
        "plt.show()\n",
        "\n",
        "\n",
        "# Número de intervalos\n",
        "n = 6\n",
        "\n",
        "Integral = Cuadratura_Simple(f, a, b, n)\n",
        "print(f'Valor de la integral con n = {n} segmentos es {Integral}')"
      ],
      "metadata": {
        "colab": {
          "base_uri": "https://localhost:8080/",
          "height": 467
        },
        "id": "zC5CE1Lv0Z94",
        "outputId": "c345194e-9d5c-4415-f513-10f323b73a2f"
      },
      "execution_count": null,
      "outputs": [
        {
          "output_type": "display_data",
          "data": {
            "text/plain": [
              "<Figure size 640x480 with 1 Axes>"
            ],
            "image/png": "[encoded data removed]"
          },
          "metadata": {}
        },
        {
          "output_type": "stream",
          "name": "stdout",
          "text": [
            "Valor de la integral con n = 6 segmentos es 8.9375\n"
          ]
        }
      ]
    },
    {
      "cell_type": "markdown",
      "source": [
        "## 2. Regla del Trapecio\n",
        "\n",
        "\n",
        "La regla del trapecio es el método de Newton-Cotes más simple, que aproxima la función mediante una línea recta entre los puntos extremos del intervalo.\n",
        "\n",
        "Para el intervalo [a,b]:\n",
        "\n",
        "$$\\int_a^b f(x)dx \\approx \\frac{b-a}{2} \\cdot [f(a) + f(b)]$$\n",
        "\n",
        "\n",
        "\n",
        "\n",
        "\n",
        "## Método del Trapecio compuesta\n",
        "   En lugar de usar rectángulos, se aproxima el área bajo la curva usando trapecios, lo cual da una mejor aproximación en algunos casos.\n",
        "\n",
        "\n",
        "La **fórmula del método del trapecio** para aproximar una integral definida en el intervalo $[a, b]$ divide el área bajo la curva en una serie de trapecios, en lugar de rectángulos. Esta fórmula se expresa como:\n",
        "\n",
        "$$\n",
        "\\int_a^b f(x) \\, dx \\approx \\frac{h}{2} \\left[ f(a) + 2 \\sum_{i=1}^{n-1} f(x_i) + f(b) \\right] -\\frac{h^3}{12}f''(\\xi)\n",
        "$$\n",
        "\n",
        "donde:\n",
        "\n",
        "- $h = \\frac{b - a}{n}$ es el ancho de cada subintervalo.\n",
        "- $f(a)$ y $f(b)$ son los valores de la función en los extremos del intervalo.\n",
        "- $x_i = a + i \\cdot h$ son los puntos intermedios donde se evalúa la función, con $i = 1, 2, \\ldots, n-1$."
      ],
      "metadata": {
        "id": "LkNmlAyK2pFa"
      }
    },
    {
      "cell_type": "code",
      "source": [
        "def Trapecio_Compuesta(f, a, b, n):\n",
        "    \"\"\"\n",
        "    Cuadratura compuesta del trapecio para aproximar la integral de f en [a, b] con n puntos.\n",
        "    Entrada:\n",
        "    f : función a integrar\n",
        "    a : límite inferior de integración\n",
        "    b : límite superior de integración\n",
        "    n : número de subintervalos (debe ser un entero positivo)\n",
        "    Salida:\n",
        "    integral : valor aproximado de la integral de f en [a, b]\n",
        "    \"\"\"\n",
        "    if n <= 0 or not isinstance(n, int):\n",
        "        raise ValueError(\"n debe ser un entero positivo\")\n",
        "    if a >= b:\n",
        "        raise ValueError(\"El límite inferior a debe ser menor que el límite superior b\")\n",
        "    if not callable(f):\n",
        "        raise ValueError(\"f debe ser una función callable\")\n",
        "    # Calcular el ancho de los subintervalos\n",
        "    h = (b - a) / n\n",
        "    # Inicializar la suma de la integral\n",
        "    integral = 0.5 * (f(a) + f(b)) # extremos\n",
        "    # Calcular la integral usando la regla del trapecio\n",
        "    for i in range(1, n):\n",
        "        x_i = a + i * h # punto del subintervalo\n",
        "        integral += f(x_i) # valor de la función en el punto del subintervalo\n",
        "    return integral * h"
      ],
      "metadata": {
        "id": "D9YNNZuh0yKZ"
      },
      "execution_count": null,
      "outputs": []
    },
    {
      "cell_type": "code",
      "source": [
        "# Función y limites\n",
        "f = lambda x: x**2\n",
        "a = 0\n",
        "b = 3\n",
        "\n",
        "\n",
        "# Grafica\n",
        "x = np.linspace(a, b, 100)\n",
        "y = f(x)\n",
        "plt.plot(x, y)\n",
        "plt.fill_between(x, y, color = 'olive', alpha=0.5)\n",
        "plt.xlabel('x')\n",
        "plt.ylabel('f(x)')\n",
        "plt.grid(True)\n",
        "plt.show()\n",
        "\n",
        "\n",
        "# Número de intervalos\n",
        "n = 6\n",
        "\n",
        "Integral = Trapecio_Compuesta(f, a, b, n)\n",
        "print(f'Valor de la integral con n = {n} segmentos es {Integral}')"
      ],
      "metadata": {
        "colab": {
          "base_uri": "https://localhost:8080/",
          "height": 467
        },
        "id": "rCNH1F5B6enX",
        "outputId": "ff8b26dc-fbca-472f-d12f-7665968fc713"
      },
      "execution_count": null,
      "outputs": [
        {
          "output_type": "display_data",
          "data": {
            "text/plain": [
              "<Figure size 640x480 with 1 Axes>"
            ],
            "image/png": "[encoded data removed]"
          },
          "metadata": {}
        },
        {
          "output_type": "stream",
          "name": "stdout",
          "text": [
            "Valor de la integral con n = 6 segmentos es 9.125\n"
          ]
        }
      ]
    },
    {
      "cell_type": "markdown",
      "source": [
        "## 3. Regla de Simpson 1/3\n",
        "\n",
        "\n",
        "La regla de Simpson 1/3 utiliza polinomios cuadráticos (grado 2) para aproximar la función, requiriendo tres puntos de evaluación.\n",
        "\n",
        "\n",
        "Para el intervalo [a,b] con punto medio $c = \\frac{a+b}{2}$:\n",
        "\n",
        "$$\\int_a^b f(x)dx \\approx \\frac{b-a}{6} \\cdot [f(a) + 4f(c) + f(b)]$$\n",
        "\n",
        "\n",
        "\n",
        "## Regla de Simpson Compuesta (1/3)\n",
        "Aplica la regla de Simpson 1/3 a múltiples subintervalos, requiriendo un número par de subintervalos ($n$ par).\n",
        "\n",
        "$$\n",
        "\\int_a^b f(x) \\, dx \\approx \\frac{h}{3} \\left[ f(a) + 4 \\sum_{\\text{impares}} f(x_i) + 2 \\sum_{\\text{pares}} f(x_i) + f(b) \\right] -\\frac{h^5}{90}f^{(4)}(\\xi)\n",
        "$$\n",
        "\n",
        "donde:\n",
        "\n",
        "- $h = \\frac{b - a}{n}$ es el ancho de cada subintervalo, y $n$ debe ser par.\n",
        "- $f(a)$ y $f(b)$ son los valores de la función en los extremos del intervalo.\n",
        "- La suma de los términos **impares** es sobre los valores de $i = 1, 3, 5, \\ldots, n-1$.\n",
        "- La suma de los términos **pares** es sobre los valores de $i = 2, 4, 6, \\ldots, n-2$.\n"
      ],
      "metadata": {
        "id": "dX4dFDS27Sq7"
      }
    },
    {
      "cell_type": "code",
      "source": [
        "def Simpson13_Compuesta(f, a, b, n):\n",
        "    \"\"\"\n",
        "    Cuadratura compuesta de Simpson 1/3 para aproximar la integral de f en [a, b] con n puntos.\n",
        "    Entrada:\n",
        "    f : función a integrar\n",
        "    a : límite inferior de integración\n",
        "    b : límite superior de integración\n",
        "    n : número de subintervalos (debe ser un entero positivo y par)\n",
        "    Salida:\n",
        "    integral : valor aproximado de la integral de f en [a, b]\n",
        "    \"\"\"\n",
        "    if n <= 0 or not isinstance(n, int):\n",
        "        raise ValueError(\"n debe ser un entero positivo\")\n",
        "    if n % 2 == 1:\n",
        "        raise ValueError(\"n debe ser un número par para Simpson 1/3\")\n",
        "    if a >= b:\n",
        "        raise ValueError(\"El límite inferior a debe ser menor que el límite superior b\")\n",
        "    if not callable(f):\n",
        "        raise ValueError(\"f debe ser una función callable\")\n",
        "    # Calcular el ancho de los subintervalos\n",
        "    h = (b - a) / n\n",
        "    # Inicializar la suma de la integral\n",
        "    integral = f(a) + f(b) # extremos\n",
        "    integral_pares = 0\n",
        "    integral_impares = 0\n",
        "    # Valores\n",
        "    for i in range(1, n):\n",
        "      # Calcular el punto del subintervalo\n",
        "      x_i = a + i * h\n",
        "      if i % 2 == 0:\n",
        "        integral_pares += f(x_i)\n",
        "      else:\n",
        "        integral_impares += f(x_i)\n",
        "\n",
        "    integral += 4 * integral_impares + 2 * integral_pares # valor de la función en el punto medio\n",
        "    return integral * h / 3\n",
        "\n"
      ],
      "metadata": {
        "id": "2RBV8ae06kME"
      },
      "execution_count": null,
      "outputs": []
    },
    {
      "cell_type": "code",
      "source": [
        "# Función y limites\n",
        "f = lambda x: x**2\n",
        "a = 0\n",
        "b = 3\n",
        "\n",
        "\n",
        "# Grafica\n",
        "x = np.linspace(a, b, 100)\n",
        "y = f(x)\n",
        "plt.plot(x, y)\n",
        "plt.fill_between(x, y, color = 'olive', alpha=0.5)\n",
        "plt.xlabel('x')\n",
        "plt.ylabel('f(x)')\n",
        "plt.grid(True)\n",
        "plt.show()\n",
        "\n",
        "\n",
        "# Número de intervalos\n",
        "n = 8\n",
        "\n",
        "Integral = Simpson13_Compuesta(f, a, b, n)\n",
        "print(f'Valor de la integral con n = {n} segmentos es {Integral}')"
      ],
      "metadata": {
        "colab": {
          "base_uri": "https://localhost:8080/",
          "height": 467
        },
        "id": "IZggy7m18-Fv",
        "outputId": "13aad236-2125-45b2-f012-a1cce1b2718c"
      },
      "execution_count": null,
      "outputs": [
        {
          "output_type": "display_data",
          "data": {
            "text/plain": [
              "<Figure size 640x480 with 1 Axes>"
            ],
            "image/png": "[encoded data removed]"
          },
          "metadata": {}
        },
        {
          "output_type": "stream",
          "name": "stdout",
          "text": [
            "Valor de la integral con n = 8 segmentos es 9.0\n"
          ]
        }
      ]
    },
    {
      "cell_type": "markdown",
      "source": [
        "### Método de Simpson 3/8\n",
        "\n",
        "La regla de Simpson 3/8 utiliza polinomios cúbicos (grado 3) y requiere cuatro puntos de evaluación igualmente espaciados.\n",
        "\n",
        "$$\n",
        "\\int_a^b f(x) \\, dx \\approx \\frac{3h}{8} \\left[ f(a) + 3 \\sum_{\\text{no múltiplos de 3}} f(x_i) + 2 \\sum_{\\text{múltiplos de 3}} f(x_i) + f(b) \\right]\n",
        "$$\n",
        "\n",
        "\n",
        "donde:\n",
        "\n",
        "- $h = \\frac{b - a}{n}$ es el ancho de cada subintervalo, y $n$ debe ser múltiplo de 3.\n",
        "- $f(a)$ y $f(b)$ son los valores de la función en los extremos del intervalo.\n",
        "- La suma de los términos con coeficiente 3 es sobre los valores de $f(x_i)$ donde $i$ no es múltiplo de 3.\n",
        "- La suma de los términos con coeficiente 2 es sobre los valores de $f(x_i)$ donde $i$ es múltiplo de 3, excluyendo $a$ y $b$.\n",
        "\n",
        "Su error es:\n",
        "\n",
        "$$E = -\\frac{3h^5}{80} \\cdot f^{(4)}(\\xi)$$"
      ],
      "metadata": {
        "id": "olkmTnNh9YcO"
      }
    },
    {
      "cell_type": "code",
      "source": [
        "def Simpson38_Compuesta(f, a, b, n):\n",
        "    \"\"\"\n",
        "    Cuadratura compuesta de Simpson 3/8 para aproximar la integral de f en [a, b] con n puntos.\n",
        "    Entrada:\n",
        "    f : función a integrar\n",
        "    a : límite inferior de integración\n",
        "    b : límite superior de integración\n",
        "    n : número de subintervalos (debe ser un entero positivo y múltiplo de 3)\n",
        "    Salida:\n",
        "    integral : valor aproximado de la integral de f en [a, b]\n",
        "    \"\"\"\n",
        "    if n <= 0 or not isinstance(n, int):\n",
        "        raise ValueError(\"n debe ser un entero positivo\")\n",
        "    if n % 3 != 0:\n",
        "        raise ValueError(\"n debe ser un múltiplo de 3 para Simpson 3/8\")\n",
        "    if a >= b:\n",
        "        raise ValueError(\"El límite inferior a debe ser menor que el límite superior b\")\n",
        "    if not callable(f):\n",
        "        raise ValueError(\"f debe ser una función callable\")\n",
        "    # Calcular el ancho de los subintervalos\n",
        "    h = (b - a) / n\n",
        "    # Inicializar la suma de la integral en extremos y puntos intermedios\n",
        "    integral = (3 * h / 8) * (f(a) + f(b))\n",
        "    integral_3 = 0\n",
        "    integral_no3 = 0\n",
        "\n",
        "    for i in range(1, n):\n",
        "        # Calcular el punto del subintervalo\n",
        "        x_i = a + i * h\n",
        "        # Si el índice es múltiplo de 3, aplicar coeficiente 2, de lo contrario aplicar coeficiente 3\n",
        "        if i % 3 == 0:\n",
        "            # Coeficiente 3 para los puntos que son múltiplos de 3\n",
        "            integral_3 += 2 * f(x_i)\n",
        "        else:\n",
        "            # Coeficiente 3 para los puntos que no son múltiplos de 3\n",
        "            integral_no3 += 3 * f(x_i)\n",
        "\n",
        "    # Multiplicar por el factor de Simpson 3/8\n",
        "    integral += (3 * h / 8) * (integral_3 + integral_no3)\n",
        "\n",
        "    return integral"
      ],
      "metadata": {
        "id": "iUumbANH9DF6"
      },
      "execution_count": null,
      "outputs": []
    },
    {
      "cell_type": "code",
      "source": [
        "# Función y limites\n",
        "f = lambda x: x**2\n",
        "a = 0\n",
        "b = 3\n",
        "\n",
        "\n",
        "# Grafica\n",
        "x = np.linspace(a, b, 100)\n",
        "y = f(x)\n",
        "plt.plot(x, y)\n",
        "plt.fill_between(x, y, color = 'olive', alpha=0.5)\n",
        "plt.xlabel('x')\n",
        "plt.ylabel('f(x)')\n",
        "plt.grid(True)\n",
        "plt.show()\n",
        "\n",
        "\n",
        "# Número de intervalos\n",
        "n = 3\n",
        "\n",
        "Integral = Simpson38_Compuesta(f, a, b, n)\n",
        "print(f'Valor de la integral con n = {n} segmentos es {Integral}')"
      ],
      "metadata": {
        "colab": {
          "base_uri": "https://localhost:8080/",
          "height": 467
        },
        "id": "RO2GHUDH99pa",
        "outputId": "d7f060fd-8825-4e3f-f0f9-961d9b750ecc"
      },
      "execution_count": null,
      "outputs": [
        {
          "output_type": "display_data",
          "data": {
            "text/plain": [
              "<Figure size 640x480 with 1 Axes>"
            ],
            "image/png": "[encoded data removed]"
          },
          "metadata": {}
        },
        {
          "output_type": "stream",
          "name": "stdout",
          "text": [
            "Valor de la integral con n = 3 segmentos es 9.0\n"
          ]
        }
      ]
    },
    {
      "cell_type": "markdown",
      "source": [
        "# Animación\n",
        "\n",
        "[Visualización](https://integral-simpson-trapz-medio.streamlit.app/)"
      ],
      "metadata": {
        "id": "KKxG2z93ARYc"
      }
    },
    {
      "cell_type": "markdown",
      "source": [
        "# Integración usando `scipy.integrate`\n",
        "\n",
        "La integración numérica es útil cuando necesitamos calcular el área bajo una curva o resolver una integral definida, pero no tenemos una solución analítica o cuando estamos trabajando con datos discretos en lugar de una función continua. Scipy tiene algunos métodos númericos que nos pueden ayudar [ver documentación](https://docs.scipy.org/doc/scipy/reference/integrate.html)."
      ],
      "metadata": {
        "id": "nLKawEwyNs7t"
      }
    },
    {
      "cell_type": "code",
      "source": [
        "from scipy.integrate import trapezoid # Método trapezoidal\n",
        "from scipy.integrate import simpson # Método Simpson\n"
      ],
      "metadata": {
        "id": "Sh_bbnseOCXl"
      },
      "execution_count": null,
      "outputs": []
    },
    {
      "cell_type": "code",
      "source": [
        "a,b  = 0, 3\n",
        "f = lambda x: x**2\n",
        "n =8\n",
        "x = np.linspace(a, b, n)\n",
        "\n",
        "integral_trapezoidal = trapezoid(f(x), x)\n",
        "integral_simpson = simpson(f(x), x=x)\n",
        "\n",
        "print(\"Integral Trapezoidal:\", integral_trapezoidal)\n",
        "print(\"Integral Simpson:\", integral_simpson)\n"
      ],
      "metadata": {
        "colab": {
          "base_uri": "https://localhost:8080/"
        },
        "id": "5zZQCekEOXLI",
        "outputId": "42c2abe5-e53e-4e16-e573-36f54db970b0"
      },
      "execution_count": null,
      "outputs": [
        {
          "output_type": "stream",
          "name": "stdout",
          "text": [
            "Integral Trapezoidal: 9.091836734693878\n",
            "Integral Simpson: 9.0\n"
          ]
        }
      ]
    },
    {
      "cell_type": "markdown",
      "source": [
        "# Solución *exacta*\n",
        "\n",
        "En ocasiones podemos obtener la solución simbólica exacta usando `sympy`"
      ],
      "metadata": {
        "id": "uD7_nQsMQYbQ"
      }
    },
    {
      "cell_type": "code",
      "source": [
        "from sympy import integrate, symbols, sin, exp"
      ],
      "metadata": {
        "id": "y3JpfmVyQW8W"
      },
      "execution_count": null,
      "outputs": []
    },
    {
      "cell_type": "code",
      "source": [
        "t = symbols('t')\n",
        "f = t**2\n",
        "integrate(f, (t, 0, 3))"
      ],
      "metadata": {
        "colab": {
          "base_uri": "https://localhost:8080/",
          "height": 37
        },
        "id": "-Rp9zQg-Qi8v",
        "outputId": "dcaedc4f-5921-4636-be5c-c7a55ac83a5c"
      },
      "execution_count": null,
      "outputs": [
        {
          "output_type": "execute_result",
          "data": {
            "text/plain": [
              "9"
            ],
            "text/latex": "$\\displaystyle 9$"
          },
          "metadata": {},
          "execution_count": 54
        }
      ]
    },
    {
      "cell_type": "markdown",
      "source": [
        "Veamos el tiempo de cálculo"
      ],
      "metadata": {
        "id": "fFn2cIdAEwjQ"
      }
    },
    {
      "cell_type": "code",
      "source": [
        "import time\n",
        "from sympy import symbols, integrate\n",
        "from scipy.integrate import trapezoid  # Método trapezoidal\n",
        "from scipy.integrate import simpson  # Método Simpson\n",
        "\n",
        "a,b = 0, 3\n",
        "# Define funciones numéricas y simbólicas\n",
        "f = lambda x: x**2  # Función numérica\n",
        "x_sym = symbols('x')\n",
        "f_sym = x_sym**2    # Función simbólica\n",
        "\n",
        "# Medir tiempo de métodos numéricos\n",
        "start_time = time.time()\n",
        "integral_trapezoidal = trapezoid(f(x), x)\n",
        "tiempo_trapezoidal = time.time() - start_time\n",
        "\n",
        "start_time = time.time()\n",
        "integral_simpson = simpson(f(x), x)\n",
        "tiempo_simpson = time.time() - start_time\n",
        "\n",
        "# Medir tiempo del método simbólico\n",
        "start_time = time.time()\n",
        "integral_simbolica = float(integrate(f_sym, (x_sym, a, b)))\n",
        "tiempo_simbolico = time.time() - start_time\n",
        "\n",
        "print(f\"Tiempo Trapezoidal: {tiempo_trapezoidal:.6f} segundos\")\n",
        "print(f\"Tiempo Simpson: {tiempo_simpson:.6f} segundos\")\n",
        "print(f\"Tiempo simbólico: {tiempo_simbolico:.6f} segundos\")\n"
      ],
      "metadata": {
        "colab": {
          "base_uri": "https://localhost:8080/"
        },
        "id": "0VJurxJtBCHI",
        "outputId": "9e0333cc-15a5-4f77-83ce-34d3b4ec79a9"
      },
      "execution_count": null,
      "outputs": [
        {
          "output_type": "stream",
          "name": "stdout",
          "text": [
            "Tiempo Trapezoidal: 0.000538 segundos\n",
            "Tiempo Simpson: 0.000531 segundos\n",
            "Tiempo simbólico: 0.032086 segundos\n"
          ]
        }
      ]
    }
  ]
}