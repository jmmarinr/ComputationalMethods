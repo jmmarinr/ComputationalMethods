{
  "nbformat": 4,
  "nbformat_minor": 0,
  "metadata": {
    "colab": {
      "provenance": [],
      "authorship_tag": "ABX9TyMdJb93/19VvgTO3bgJUx/+",
      "include_colab_link": true
    },
    "kernelspec": {
      "name": "python3",
      "display_name": "Python 3"
    },
    "language_info": {
      "name": "python"
    }
  },
  "cells": [
    {
      "cell_type": "markdown",
      "metadata": {
        "id": "view-in-github",
        "colab_type": "text"
      },
      "source": [
        "<a href=\"https://colab.research.google.com/github/jmmarinr/ComputationalMethods/blob/master/Calculo/Impropias_Multiples.ipynb\" target=\"_parent\"><img src=\"https://colab.research.google.com/assets/colab-badge.svg\" alt=\"Open In Colab\"/></a>"
      ]
    },
    {
      "cell_type": "code",
      "execution_count": 18,
      "metadata": {
        "cellView": "form",
        "id": "E4M5Pjnb4rNO"
      },
      "outputs": [],
      "source": [
        "#@title Librerias\n",
        "import numpy as np\n",
        "import matplotlib.pyplot as plt\n",
        "from scipy.integrate import quad, dblquad, nquad, tplquad\n",
        "import sympy as sp"
      ]
    },
    {
      "cell_type": "markdown",
      "source": [
        "# Integrales impropias y múltiples\n",
        "\n",
        "---\n",
        "### Profesor: Juan Marcos Marín\n",
        "---"
      ],
      "metadata": {
        "id": "q6qB2LZK5tMc"
      }
    },
    {
      "cell_type": "markdown",
      "source": [
        "# Integrales Impropias\n",
        "\n",
        "\n",
        "Una integral impropia es una integral definida en un intervalo infinito o en un intervalo donde la función presenta una discontinuidad.\n",
        "\n",
        "## Tipos\n",
        "* Integral impropia de primera especie: Intervalo de integración infinito\n",
        "* Integral impropia de segunda especie: Función con discontinuidad en el intervalo\n",
        "\n",
        "## Ejemplo\n",
        "La integral\n",
        "$$I = \\int_{a}^{b} \\frac{dx}{(x-a)^p}$$\n",
        "es una integral impropia de primera especie.\n",
        "\n"
      ],
      "metadata": {
        "id": "QKoHTlmHy04N"
      }
    },
    {
      "cell_type": "code",
      "source": [
        "import sympy as sp\n",
        "x = sp.Symbol('x')\n",
        "\n",
        "sp.Integral(1/x, (x, 0, 1)).principal_value()"
      ],
      "metadata": {
        "id": "NGfknAeIyDyi",
        "colab": {
          "base_uri": "https://localhost:8080/",
          "height": 297
        },
        "outputId": "3fae0fac-3c2b-40aa-f2a6-45f4aeaf875a"
      },
      "execution_count": 19,
      "outputs": [
        {
          "output_type": "error",
          "ename": "ValueError",
          "evalue": "The principal value is not defined in the given interval due to singularity at 0.",
          "traceback": [
            "\u001b[0;31m---------------------------------------------------------------------------\u001b[0m",
            "\u001b[0;31mValueError\u001b[0m                                Traceback (most recent call last)",
            "\u001b[0;32m<ipython-input-19-1457287714>\u001b[0m in \u001b[0;36m<cell line: 0>\u001b[0;34m()\u001b[0m\n\u001b[1;32m      2\u001b[0m \u001b[0mx\u001b[0m \u001b[0;34m=\u001b[0m \u001b[0msp\u001b[0m\u001b[0;34m.\u001b[0m\u001b[0mSymbol\u001b[0m\u001b[0;34m(\u001b[0m\u001b[0;34m'x'\u001b[0m\u001b[0;34m)\u001b[0m\u001b[0;34m\u001b[0m\u001b[0;34m\u001b[0m\u001b[0m\n\u001b[1;32m      3\u001b[0m \u001b[0;34m\u001b[0m\u001b[0m\n\u001b[0;32m----> 4\u001b[0;31m \u001b[0msp\u001b[0m\u001b[0;34m.\u001b[0m\u001b[0mIntegral\u001b[0m\u001b[0;34m(\u001b[0m\u001b[0;36m1\u001b[0m\u001b[0;34m/\u001b[0m\u001b[0mx\u001b[0m\u001b[0;34m,\u001b[0m \u001b[0;34m(\u001b[0m\u001b[0mx\u001b[0m\u001b[0;34m,\u001b[0m \u001b[0;36m0\u001b[0m\u001b[0;34m,\u001b[0m \u001b[0;36m1\u001b[0m\u001b[0;34m)\u001b[0m\u001b[0;34m)\u001b[0m\u001b[0;34m.\u001b[0m\u001b[0mprincipal_value\u001b[0m\u001b[0;34m(\u001b[0m\u001b[0;34m)\u001b[0m\u001b[0;34m\u001b[0m\u001b[0;34m\u001b[0m\u001b[0m\n\u001b[0m",
            "\u001b[0;32m/usr/local/lib/python3.11/dist-packages/sympy/integrals/integrals.py\u001b[0m in \u001b[0;36mprincipal_value\u001b[0;34m(self, **kwargs)\u001b[0m\n\u001b[1;32m   1389\u001b[0m         \u001b[0;32mfor\u001b[0m \u001b[0mi\u001b[0m \u001b[0;32min\u001b[0m \u001b[0msingularities_list\u001b[0m\u001b[0;34m:\u001b[0m\u001b[0;34m\u001b[0m\u001b[0;34m\u001b[0m\u001b[0m\n\u001b[1;32m   1390\u001b[0m             \u001b[0;32mif\u001b[0m \u001b[0mi\u001b[0m \u001b[0;32min\u001b[0m \u001b[0;34m(\u001b[0m\u001b[0ma\u001b[0m\u001b[0;34m,\u001b[0m \u001b[0mb\u001b[0m\u001b[0;34m)\u001b[0m\u001b[0;34m:\u001b[0m\u001b[0;34m\u001b[0m\u001b[0;34m\u001b[0m\u001b[0m\n\u001b[0;32m-> 1391\u001b[0;31m                 raise ValueError(\n\u001b[0m\u001b[1;32m   1392\u001b[0m                     'The principal value is not defined in the given interval due to singularity at %d.' % (i))\n\u001b[1;32m   1393\u001b[0m         \u001b[0mF\u001b[0m \u001b[0;34m=\u001b[0m \u001b[0mintegrate\u001b[0m\u001b[0;34m(\u001b[0m\u001b[0mf\u001b[0m\u001b[0;34m,\u001b[0m \u001b[0mx\u001b[0m\u001b[0;34m,\u001b[0m \u001b[0;34m**\u001b[0m\u001b[0mkwargs\u001b[0m\u001b[0;34m)\u001b[0m\u001b[0;34m\u001b[0m\u001b[0;34m\u001b[0m\u001b[0m\n",
            "\u001b[0;31mValueError\u001b[0m: The principal value is not defined in the given interval due to singularity at 0."
          ]
        }
      ]
    },
    {
      "cell_type": "markdown",
      "source": [
        "Los cambios de variable que mencionas son muy útiles para transformar **integrales impropias** o con singularidades en el dominio en **integrales definidas**, lo cual es esencial para métodos numéricos como la cuadratura gaussiana, ya que estos métodos requieren intervalos finitos y funciones bien definidas.\n",
        "\n",
        "---\n",
        "\n",
        "## 1. Cambio de variable para $[a, \\infty)$\n",
        "\n",
        "Si la integral tiene límites $[a, \\infty)$, utiliza:\n",
        "$$\n",
        "x = \\frac{1}{t}, \\quad dx = -\\frac{1}{t^2} dt.\n",
        "$$\n",
        "\n",
        "La integral original:\n",
        "$$\n",
        "I = \\int_a^\\infty f(x) \\, dx\n",
        "$$\n",
        "se transforma en:\n",
        "$$\n",
        "I = \\int_0^{1/a} f\\left(\\frac{1}{t}\\right) \\frac{1}{t^2} \\, dt.\n",
        "$$\n",
        "\n",
        "\n",
        "---\n",
        "\n",
        "## 2. Cambio de variable para $(-\\infty, \\infty) $\n",
        "\n",
        "\n",
        "Si la integral tiene límites en $(-\\infty, \\infty) $, utiliza:\n",
        "$$\n",
        "x = \\tan(\\theta), \\quad dx = \\sec^2(\\theta) d\\theta.\n",
        "$$\n",
        "\n",
        "La integral original:\n",
        "$$\n",
        "I = \\int_{-\\infty}^\\infty f(x) \\, dx\n",
        "$$\n",
        "se transforma en:\n",
        "$$\n",
        "I = \\int_{-\\pi/2}^{\\pi/2} f(\\tan(\\theta)) \\sec^2(\\theta) \\, d\\theta.\n",
        "$$\n",
        "\n",
        "\n",
        "\n",
        "---\n",
        "\n",
        "## 3. Cambio de variable para $[a, \\infty) $ o $ (-\\infty, b] $ con una singularidad\n",
        "\n",
        "Si la función $ f(x) $ tiene una singularidad en $x = c $, puedes usar el cambio:\n",
        "$$\n",
        "x = c + \\frac{1}{t}, \\quad dx = -\\frac{1}{t^2} dt.\n",
        "$$\n",
        "\n",
        "\n",
        "La integral original:\n",
        "$$\n",
        "I = \\int_a^\\infty \\frac{f(x)}{(x - c)} \\, dx\n",
        "$$\n",
        "se transforma en:\n",
        "$$\n",
        "I = \\int_0^{1/(a-c)} f\\left(c + \\frac{1}{t}\\right) \\frac{1}{t^2} \\, dt.\n",
        "$$\n",
        "\n",
        "\n",
        "\n",
        "---\n",
        "\n",
        "## 4. Cambio de variable para integrales con singularidades en $[a, b] $\n",
        "\n",
        "Si $f(x)$ tiene una singularidad dentro del intervalo $ [a, b] $, por ejemplo en $x = c$, se puede usar:\n",
        "$$\n",
        "x = c + (b - a) t, \\quad dx = (b - a) dt.\n",
        "$$\n",
        "\n",
        "La integral original:\n",
        "$$\n",
        "I = \\int_a^b \\frac{f(x)}{(x - c)^p} \\, dx\n",
        "$$\n",
        "se transforma en:\n",
        "$$\n",
        "I = \\int_0^1 \\frac{f(c + (b - a)t)}{[(b - a)t]^p} (b - a) \\, dt.\n",
        "$$\n",
        "\n",
        "\n",
        "\n"
      ],
      "metadata": {
        "id": "kMUdlJ295Wlc"
      }
    },
    {
      "cell_type": "markdown",
      "source": [
        "---\n",
        "\n",
        "### Ejemplo Práctico\n",
        "\n",
        "Resolvamos:\n",
        "$$\n",
        "I = \\int_1^\\infty \\frac{e^{-x}}{x^2} \\, dx\n",
        "$$\n",
        "usando el cambio $x = \\frac{1}{t}$, $dx = -\\frac{1}{t^2} dt $.\n",
        "\n",
        "**Transformación:**\n",
        "$$\n",
        "I = \\int_1^\\infty \\frac{e^{-x}}{x^2} \\, dx\n",
        "= \\int_0^1 e^{-1/t} t \\, dt.\n",
        "$$\n"
      ],
      "metadata": {
        "id": "HY6-P9mWa5_W"
      }
    },
    {
      "cell_type": "code",
      "source": [
        "f = lambda t: np.exp(-1/t) * t\n",
        "resultado, error = quad(f, 0, 1)\n",
        "print(f\"Resultado de la integral: {resultado}, Error estimado: {error}\")"
      ],
      "metadata": {
        "id": "AvDOYbBx2WJF",
        "colab": {
          "base_uri": "https://localhost:8080/"
        },
        "outputId": "27264aa9-976b-4efc-b87c-8ea932a1a412"
      },
      "execution_count": 34,
      "outputs": [
        {
          "output_type": "stream",
          "name": "stdout",
          "text": [
            "Resultado de la integral: 0.10969196719785052, Error estimado: 5.412889614957981e-09\n"
          ]
        }
      ]
    },
    {
      "cell_type": "markdown",
      "source": [
        "---\n",
        "## Resolución de Integrales Impropias en Python con SciPy\n",
        "\n",
        "Las integrales impropias son aquellas en las que el intervalo de integración es infinito o la función tiene una discontinuidad infinita dentro del intervalo. SciPy las maneja a través de su función principal `scipy.integrate.quad` (para integrales de una sola variable) y, con ciertas precauciones, también se pueden aplicar a las funciones para integrales múltiples (`dblquad`, `tplquad`) si se manejan las singularidades.\n",
        "\n",
        "### 1. Integrales Impropias con Límites Infinitos (`scipy.integrate.quad`)\n",
        "\n",
        "La función `quad` es la más utilizada para integrales de una sola variable y puede manejar límites infinitos.\n",
        "\n",
        "\n",
        "**Parámetros clave para integrales impropias:**\n",
        "\n",
        "* `a`, `b`: Los límites de integración. Puedes usar `np.inf` (infinito positivo) y `-np.inf` (infinito negativo) de NumPy para representar límites infinitos.\n",
        "\n",
        "**Ejemplo 1: Integral con límite superior infinito**\n",
        "\n",
        "Calcular\n",
        "$$\\int_{1}^{\\infty} \\frac{1}{x^2} \\,dx$$"
      ],
      "metadata": {
        "id": "RAeaTbih1phS"
      }
    },
    {
      "cell_type": "code",
      "source": [
        "# Función a integrar\n",
        "def f(x):\n",
        "    return 1 / x**2\n",
        "\n",
        "# Límites de integración\n",
        "a = 1\n",
        "b = np.inf # Infinito positivo\n",
        "\n",
        "# Calcular la integral impropia\n",
        "result, abserr = quad(f, a, b)\n",
        "\n",
        "print(f\"Resultado de la integral impropia: {result}\")\n",
        "print(f\"Error absoluto estimado: {abserr}\")\n"
      ],
      "metadata": {
        "colab": {
          "base_uri": "https://localhost:8080/"
        },
        "id": "XcsT5fNr2GGo",
        "outputId": "51d1c79a-ff57-49fb-e302-23993acde81d"
      },
      "execution_count": 35,
      "outputs": [
        {
          "output_type": "stream",
          "name": "stdout",
          "text": [
            "Resultado de la integral impropia: 1.0\n",
            "Error absoluto estimado: 1.1102230246251565e-14\n"
          ]
        }
      ]
    },
    {
      "cell_type": "markdown",
      "source": [
        "**Ejemplo 2: Integral con ambos límites infinitos**\n",
        "\n",
        "Calcular la integral Gaussiana $$\\int_{-\\infty}^{\\infty} e^{-x^2} \\,dx$$\n",
        "\n",
        "\n"
      ],
      "metadata": {
        "id": "VNH7JMyH2S9H"
      }
    },
    {
      "cell_type": "code",
      "source": [
        "# Función a integrar\n",
        "def g(x):\n",
        "    return np.exp(-x**2)\n",
        "\n",
        "# Límites de integración\n",
        "a = -np.inf\n",
        "b = np.inf\n",
        "\n",
        "# Calcular la integral impropia\n",
        "result, abserr = quad(g, a, b)\n",
        "\n",
        "print(f\"Resultado de la integral impropia: {result}\")\n",
        "print(f\"Error absoluto estimado: {abserr}\")\n",
        "\n",
        "\n",
        "# Limites grandes\n",
        "a = -100\n",
        "b = 100\n",
        "\n",
        "# Calcular la integral impropia\n",
        "result, abserr = quad(g, a, b)\n",
        "\n",
        "print(f\"Resultado de la integral impropia: {result}\")"
      ],
      "metadata": {
        "colab": {
          "base_uri": "https://localhost:8080/"
        },
        "id": "DzGegZ_x2Yn6",
        "outputId": "c9a1fa92-0d02-4d9b-be5e-6f347a814ef5"
      },
      "execution_count": 36,
      "outputs": [
        {
          "output_type": "stream",
          "name": "stdout",
          "text": [
            "Resultado de la integral impropia: 1.7724538509055159\n",
            "Error absoluto estimado: 1.4202636780944923e-08\n",
            "Resultado de la integral impropia: 1.772453850905516\n"
          ]
        }
      ]
    },
    {
      "cell_type": "markdown",
      "source": [
        "### 2. Integrales Impropias con Singularidades en el Intervalo\n",
        "\n",
        "Cuando la función tiene una discontinuidad infinita dentro del intervalo de integración, `quad` también puede manejarla si se le informa de los \"puntos de ruptura\" (points of discontinuity).\n",
        "\n",
        "**Sintaxis clave:**\n",
        "\n",
        "```python\n",
        "scipy.integrate.quad(func, a, b, points=(p1, p2, ...))\n",
        "```\n",
        "\n",
        "* `points`: Una tupla de puntos dentro del intervalo `(a, b)` donde la función tiene singularidades. `quad` subdividirá el intervalo en esos puntos y calculará las integrales por separado.\n",
        "\n",
        "**Ejemplo: Integral con singularidad en el límite inferior**\n",
        "\n",
        "Calcular $$\\int_{0}^{1} \\frac{1}{\\sqrt{x}} \\,dx$$\n",
        "\n",
        "La función tiene una singularidad en $x=0$.\n",
        "\n"
      ],
      "metadata": {
        "id": "VUyX9NRv2ucb"
      }
    },
    {
      "cell_type": "code",
      "source": [
        "# Función a integrar\n",
        "def h(x):\n",
        "    return 1 / np.sqrt(x)\n",
        "\n",
        "# Límites de integración\n",
        "a = 0\n",
        "b = 1\n",
        "\n",
        "# Calcular la integral impropia, especificando la singularidad\n",
        "# Aunque 0 es un límite, es bueno indicarlo si hay una singularidad ahí.\n",
        "# Para singularidades EN el intervalo, es crucial.\n",
        "result, abserr = quad(h, a, b, points=[0])\n",
        "\n",
        "print(f\"Resultado de la integral impropia: {result}\")\n",
        "print(f\"Error absoluto estimado: {abserr}\")"
      ],
      "metadata": {
        "colab": {
          "base_uri": "https://localhost:8080/"
        },
        "id": "4PdW85T427uB",
        "outputId": "f20a70be-7633-4c05-8d38-2e721e7fb300"
      },
      "execution_count": 37,
      "outputs": [
        {
          "output_type": "stream",
          "name": "stdout",
          "text": [
            "Resultado de la integral impropia: 1.9999999999999984\n",
            "Error absoluto estimado: 5.773159728050814e-15\n"
          ]
        }
      ]
    },
    {
      "cell_type": "markdown",
      "source": [
        "# Integrales múltiples\n",
        "\n",
        "Resolver integrales múltiples implica extender los conceptos de la integración de una sola variable a funciones de varias variables.\n",
        "\n",
        "La clave para resolver una integral múltiple es convertirla en una serie de **integrales iteradas**. Esto significa que integrarás una variable a la vez, tratando las otras variables como constantes.\n",
        "\n",
        "Por ejemplo, una integral doble $\\iint_R f(x,y) \\,dA$ se puede resolver como:\n",
        "\n",
        "$$\\int_a^b \\left( \\int_c^d f(x,y) \\,dy \\right) \\,dx \\quad \\text{o} \\quad \\int_c^d \\left( \\int_a^b f(x,y) \\,dx \\right) \\,dy$$\n",
        "\n",
        "El orden de integración ($dy\\,dx$ o $dx\\,dy$) puede depender de la región de integración o de la facilidad de cálculo.\n",
        "\n",
        "\n",
        "**Siempre se debe resolver la integral \"más interna\" primero.**\n",
        "\n",
        "## Ejemplo con una integral doble:\n",
        "\n",
        "Para $$\\int_0^1 \\int_x^{2x} (x+y) \\,dy \\,dx$$\n",
        "\n",
        "1.  **Integra con respecto a $y$ primero:**\n",
        "    $$\\int_x^{2x} (x+y) \\,dy = \\left[ xy + \\frac{y^2}{2} \\right]_x^{2x}$$\n",
        "    Evaluando los límites:\n",
        "    $$(x(2x) + \\frac{(2x)^2}{2}) - (x(x) + \\frac{x^2}{2})$$\n",
        "    $$(2x^2 + \\frac{4x^2}{2}) - (x^2 + \\frac{x^2}{2})$$\n",
        "    $$(2x^2 + 2x^2) - (x^2 + \\frac{x^2}{2})$$\n",
        "    $$4x^2 - \\frac{3x^2}{2} = \\frac{8x^2 - 3x^2}{2} = \\frac{5x^2}{2}$$\n",
        "\n",
        "2.  **Ahora integra el resultado con respecto a $x$:**\n",
        "    $$\\int_0^1 \\frac{5x^2}{2} \\,dx = \\left[ \\frac{5x^3}{6} \\right]_0^1$$\n",
        "    Evaluando los límites:\n",
        "    $$\\frac{5(1)^3}{6} - \\frac{5(0)^3}{6} = \\frac{5}{6}$$\n"
      ],
      "metadata": {
        "id": "nACo9opGvBVv"
      }
    },
    {
      "cell_type": "markdown",
      "metadata": {
        "id": "MscEa_NCu8p4"
      },
      "source": [
        "## Integral doble usando solo `quad`\n",
        "Queremos resolver:\n",
        "\n",
        "$$\\int_0^1 \\int_x^{2x} (x+y) \\,dy \\,dx$$"
      ]
    },
    {
      "cell_type": "code",
      "execution_count": 38,
      "metadata": {
        "id": "pl7xRIbTu8p5",
        "outputId": "152c0362-54f2-4963-e21b-7528cc126174",
        "colab": {
          "base_uri": "https://localhost:8080/"
        }
      },
      "outputs": [
        {
          "output_type": "execute_result",
          "data": {
            "text/plain": [
              "(0.8333333333333333, 9.25185853854297e-15)"
            ]
          },
          "metadata": {},
          "execution_count": 38
        }
      ],
      "source": [
        "def integral_interna(x):\n",
        "    integrando = lambda y: x + y\n",
        "    resultado, _ = quad(integrando, x, 2*x)\n",
        "    return resultado\n",
        "\n",
        "resultado_doble_quad, error_doble_quad = quad(integral_interna, 0, 1)\n",
        "resultado_doble_quad, error_doble_quad"
      ]
    },
    {
      "cell_type": "markdown",
      "metadata": {
        "id": "z-JJUlbhu8p7"
      },
      "source": [
        "## Integral triple usando solo `quad`\n",
        "Queremos resolver:\n",
        "$$\n",
        "\\int_0^1 \\int_0^x \\int_0^y xyz \\, dz \\, dy \\, dx\n",
        "$$"
      ]
    },
    {
      "cell_type": "code",
      "execution_count": 39,
      "metadata": {
        "id": "KBFuWtvGu8p7",
        "outputId": "5a01c972-9d8a-4e52-a0eb-fa6640b73bc8",
        "colab": {
          "base_uri": "https://localhost:8080/"
        }
      },
      "outputs": [
        {
          "output_type": "execute_result",
          "data": {
            "text/plain": [
              "(0.020833333333333336, 2.312964634635743e-16)"
            ]
          },
          "metadata": {},
          "execution_count": 39
        }
      ],
      "source": [
        "def integral_mas_interna(y, x):\n",
        "    integrando = lambda z: x * y * z\n",
        "    resultado, _ = quad(integrando, 0, y)\n",
        "    return resultado\n",
        "\n",
        "def integral_intermedia(x):\n",
        "    integrando = lambda y: integral_mas_interna(y, x)\n",
        "    resultado, _ = quad(integrando, 0, x)\n",
        "    return resultado\n",
        "\n",
        "resultado_triple_quad, error_triple_quad = quad(integral_intermedia, 0, 1)\n",
        "resultado_triple_quad, error_triple_quad"
      ]
    },
    {
      "cell_type": "markdown",
      "source": [
        "## Integración Numérica de Integrales Múltiples con SciPy en Python\n",
        "\n",
        "Cuando las integrales no pueden resolverse analíticamente o son demasiado complejas para calcular a mano, la integración numérica es una herramienta invaluable. La librería `scipy.integrate` en Python ofrece funciones poderosas para este propósito, incluyendo `dblquad` para integrales dobles y `tplquad` para integrales triples.\n",
        "\n",
        "---\n",
        "\n",
        "La función `dblquad` se utiliza para calcular integrales dobles de la forma:\n",
        "\n",
        "$$\\int_{a}^{b} \\int_{g(x)}^{h(x)} f(x, y) \\,dy \\,dx$$\n",
        "\n",
        "**Sintaxis básica:**\n",
        "\n",
        "```python\n",
        "scipy.integrate.dblquad(func, a, b, gfun, hfun, args=(), epsabs=1.49e-08, epsrel=1.49e-08)\n",
        "```\n",
        "\n",
        "**Parámetros:**\n",
        "\n",
        "* `func`: La función a integrar, debe aceptar `y` como primer argumento y `x` como segundo argumento: `func(y, x)`.\n",
        "* `a`, `b`: Los límites inferiores y superiores de la integración de `x` (constantes).\n",
        "* `gfun`: La función que define el límite inferior de `y`. Debe aceptar `x` como argumento: `gfun(x)`.\n",
        "* `hfun`: La función que define el límite superior de `y`. Debe aceptar `x` como argumento: `hfun(x)`.\n",
        "* `args`: (Opcional) Tupla de argumentos adicionales para pasar a `func`, `gfun` y `hfun`.\n",
        "* `epsabs`, `epsrel`: Tolerancias de error absoluto y relativo.\n",
        "\n",
        "\n",
        "## Ejemplo\n",
        "Resolvamos\n",
        "\n",
        "$$\\int_0^1 \\int_x^{2x} (x+y) \\,dy \\,dx$$"
      ],
      "metadata": {
        "id": "ScI90lZ-0Lq-"
      }
    },
    {
      "cell_type": "code",
      "execution_count": 40,
      "metadata": {
        "id": "XtUsJSM7u8p8",
        "outputId": "5b3520be-e25f-425f-fc3e-89602e93db98",
        "colab": {
          "base_uri": "https://localhost:8080/"
        }
      },
      "outputs": [
        {
          "output_type": "execute_result",
          "data": {
            "text/plain": [
              "(0.8333333333333333, 2.7635168544761055e-14)"
            ]
          },
          "metadata": {},
          "execution_count": 40
        }
      ],
      "source": [
        "from scipy.integrate import dblquad\n",
        "\n",
        "f = lambda y, x: x + y\n",
        "resultado_dblquad, error_dblquad = dblquad(f, 0, 1, lambda x: x, lambda x: 2*x)\n",
        "resultado_dblquad, error_dblquad"
      ]
    },
    {
      "cell_type": "markdown",
      "source": [
        "La función `tplquad` se utiliza para calcular integrales triples de la forma:\n",
        "\n",
        "$$\\int_{a}^{b} \\int_{g(x)}^{h(x)} \\int_{q(x, y)}^{r(x, y)} f(x, y, z) \\,dz \\,dy \\,dx$$\n",
        "\n",
        "**Sintaxis básica:**\n",
        "\n",
        "```python\n",
        "scipy.integrate.tplquad(func, a, b, gfun, hfun, qfun, rfun, args=(), epsabs=1.49e-08, epsrel=1.49e-08)\n",
        "```\n",
        "\n",
        "**Parámetros:**\n",
        "\n",
        "* `func`: La función a integrar, debe aceptar `z` como primer argumento, `y` como segundo y `x` como tercero: `func(z, y, x)`.\n",
        "* `a`, `b`: Los límites inferiores y superiores de la integración de `x` (constantes).\n",
        "* `gfun`, `hfun`: Funciones que definen los límites inferiores y superiores de `y`. Deben aceptar `x` como argumento: `gfun(x)`, `hfun(x)`.\n",
        "* `qfun`, `rfun`: Funciones que definen los límites inferiores y superiores de `z`. Deben aceptar `x` e `y` como argumentos: `qfun(x, y)`, `rfun(x, y)`.\n",
        "* `args`: (Opcional) Tupla de argumentos adicionales para pasar a `func`, `gfun`, `hfun`, `qfun` y `rfun`.\n",
        "* `epsabs`, `epsrel`: Tolerancias de error absoluto y relativo.\n",
        "\n",
        "\n",
        "## Ejemplo\n",
        "\n",
        "Resolvamos\n",
        "\n",
        "$$\n",
        "\\int_0^1 \\int_0^x \\int_0^y xyz \\, dz \\, dy \\, dx\n",
        "$$"
      ],
      "metadata": {
        "id": "msi08q_l00Ph"
      }
    },
    {
      "cell_type": "code",
      "execution_count": 41,
      "metadata": {
        "id": "uLaMAeXQu8p9",
        "outputId": "fa1f05ed-24a6-46dd-ea44-74c378a36fc4",
        "colab": {
          "base_uri": "https://localhost:8080/"
        }
      },
      "outputs": [
        {
          "output_type": "execute_result",
          "data": {
            "text/plain": [
              "(0.020833333333333336, 5.4672862306750106e-15)"
            ]
          },
          "metadata": {},
          "execution_count": 41
        }
      ],
      "source": [
        "from scipy.integrate import tplquad\n",
        "\n",
        "f_triple = lambda z, y, x: x * y * z\n",
        "resultado_tplquad, error_tplquad = tplquad(f_triple, 0, 1,\n",
        "                                          lambda x: 0, lambda x: x,\n",
        "                                          lambda x, y: 0, lambda x, y: y)\n",
        "resultado_tplquad, error_tplquad"
      ]
    },
    {
      "cell_type": "code",
      "source": [
        "# Definir la función a integrar\n",
        "f = lambda z, y, x: x * y * z\n",
        "\n",
        "# Límite inferior y superior de z\n",
        "z_lower = lambda x, y: 0\n",
        "z_upper = lambda x, y: y\n",
        "\n",
        "# Límite inferior y superior de y\n",
        "y_lower = lambda x: 0\n",
        "y_upper = lambda x: x\n",
        "\n",
        "# Límite inferior y superior de x\n",
        "x_lower = 0\n",
        "x_upper = 1\n",
        "\n",
        "# Ejecutar la integral triple\n",
        "resultado, error = tplquad(f, x_lower, x_upper, y_lower, y_upper, z_lower, z_upper)\n",
        "\n",
        "\n",
        "print(f\"Resultado de la integral: {resultado}\")\n",
        "print(f\"Error estimado: {error}\")\n"
      ],
      "metadata": {
        "colab": {
          "base_uri": "https://localhost:8080/"
        },
        "id": "1pxhyuIHCjh5",
        "outputId": "55680ee4-a8f2-43b5-ead9-460baf5e89a3"
      },
      "execution_count": 42,
      "outputs": [
        {
          "output_type": "stream",
          "name": "stdout",
          "text": [
            "Resultado de la integral: 0.020833333333333336\n",
            "Error estimado: 5.4672862306750106e-15\n"
          ]
        }
      ]
    },
    {
      "cell_type": "markdown",
      "source": [
        "### Consideraciones Importantes:\n",
        "\n",
        "* **Orden de los argumentos de la función:** Es crucial que la función `func` acepte los argumentos en el orden **invertido** al de la integración. Para `dblquad`, es `(y, x)`. Para `tplquad`, es `(z, y, x)`.\n",
        "* **Definición de los límites:** Los límites interiores deben ser funciones de las variables exteriores. Si los límites son constantes, simplemente devuelve el valor constante de la función.\n",
        "* **`args` para parámetros adicionales:** Si la función `func` o funciones de límites necesitan parámetros adicionales que no son las variables de integración, puedes pasarlas a través del argumento `args`."
      ],
      "metadata": {
        "id": "vcmFUeVJ1B9E"
      }
    },
    {
      "cell_type": "markdown",
      "source": [
        "# Integración Simbólica con SymPy\n",
        "\n",
        "Para encontrar la antiderivada de una función, usamos la función `integrate()` de SymPy. Necesitamos definir las variables simbólicas con `Symbol()`.\n",
        "\n",
        "## Integrales indefinidas\n",
        "\n",
        "Encontremos\n",
        "\n",
        "$$\n",
        "\\int x^2 + 2x + 1 \\, dx\n",
        "$$\n"
      ],
      "metadata": {
        "id": "OimiPCLW18P_"
      }
    },
    {
      "cell_type": "code",
      "source": [
        "x = sp.symbols('x')\n",
        "f = x**2 + 2*x + 1\n",
        "\n",
        "resultado_integral = sp.integrate(f, x)\n",
        "display(resultado_integral)\n"
      ],
      "metadata": {
        "colab": {
          "base_uri": "https://localhost:8080/",
          "height": 54
        },
        "id": "ZXT9ngwy2b4s",
        "outputId": "a567196e-6f9f-447a-c9e2-11c68af1fae6"
      },
      "execution_count": 43,
      "outputs": [
        {
          "output_type": "display_data",
          "data": {
            "text/plain": [
              "x**3/3 + x**2 + x"
            ],
            "text/latex": "$\\displaystyle \\frac{x^{3}}{3} + x^{2} + x$"
          },
          "metadata": {}
        }
      ]
    },
    {
      "cell_type": "markdown",
      "source": [
        "# Integrales definidas\n",
        "\n",
        "Para calcular una integral definida, pasamos una tupla al argumento de la variable de integración. La tupla contiene la variable, el límite inferior y el límite superior.\n",
        "\n",
        "Enocentremos\n",
        "\n",
        "$$\n",
        "\\int_0^1 x^2 + 2x + 1 \\, dx\n",
        "$$\n"
      ],
      "metadata": {
        "id": "poQyFcsn2wXy"
      }
    },
    {
      "cell_type": "code",
      "source": [
        "resultado_integral_definida = sp.integrate(f, (x, 0, 1))\n",
        "print('Valor de la integral definida')\n",
        "display(resultado_integral_definida)\n",
        "display(resultado_integral_definida.evalf()) # Evalf nos permite el valor númerico"
      ],
      "metadata": {
        "colab": {
          "base_uri": "https://localhost:8080/",
          "height": 89
        },
        "id": "nid4cwxx2qky",
        "outputId": "0707218b-1f77-493e-aca5-a93366544d8f"
      },
      "execution_count": 44,
      "outputs": [
        {
          "output_type": "stream",
          "name": "stdout",
          "text": [
            "Valor de la integral definida\n"
          ]
        },
        {
          "output_type": "display_data",
          "data": {
            "text/plain": [
              "7/3"
            ],
            "text/latex": "$\\displaystyle \\frac{7}{3}$"
          },
          "metadata": {}
        },
        {
          "output_type": "display_data",
          "data": {
            "text/plain": [
              "2.33333333333333"
            ],
            "text/latex": "$\\displaystyle 2.33333333333333$"
          },
          "metadata": {}
        }
      ]
    },
    {
      "cell_type": "markdown",
      "source": [
        "# Integrales impropias\n",
        "\n",
        "Las integrales impropias son aquellas donde uno o ambos límites de integración son infinitos, o donde la función tiene una discontinuidad infinita dentro del intervalo de integración. SymPy puede manejar el infinito usando `sympy.oo`.\n",
        "\n",
        "Encontremos\n",
        "\n",
        "$$\n",
        "\\int_0^1 \\frac{1}{\\sqrt{x}}\\, dx\n",
        "$$\n",
        "\n",
        "$$\n",
        "\\int_0^\\infty \\frac{1}{x^2} \\, dx\n",
        "$$\n",
        "\n"
      ],
      "metadata": {
        "id": "my0qMlwE3kZZ"
      }
    },
    {
      "cell_type": "code",
      "source": [
        "f = 1/sp.sqrt(x)\n",
        "\n",
        "integral_impropia = sp.integrate(f, (x, 0, 1))\n",
        "display(integral_impropia)"
      ],
      "metadata": {
        "colab": {
          "base_uri": "https://localhost:8080/",
          "height": 37
        },
        "id": "9o9vYAAL29IP",
        "outputId": "22cd323f-1bde-40c9-9103-f36412d8f4a8"
      },
      "execution_count": 45,
      "outputs": [
        {
          "output_type": "display_data",
          "data": {
            "text/plain": [
              "2"
            ],
            "text/latex": "$\\displaystyle 2$"
          },
          "metadata": {}
        }
      ]
    },
    {
      "cell_type": "code",
      "source": [
        "f = 1/x**2\n",
        "\n",
        "integral_impropia = sp.integrate(f, (x, 0, sp.oo))\n",
        "display(integral_impropia)"
      ],
      "metadata": {
        "colab": {
          "base_uri": "https://localhost:8080/",
          "height": 37
        },
        "id": "Cf2LYA6f3wAD",
        "outputId": "7a43f4e4-8c43-41eb-ab48-8e1ac25f18b0"
      },
      "execution_count": 46,
      "outputs": [
        {
          "output_type": "display_data",
          "data": {
            "text/plain": [
              "oo"
            ],
            "text/latex": "$\\displaystyle \\infty$"
          },
          "metadata": {}
        }
      ]
    },
    {
      "cell_type": "markdown",
      "source": [
        "# Integrales Dobles y triples\n",
        "\n",
        "Para integrales dobles, simplemente anidamos las llamadas a `integrate()`. El orden de integración importa, y se especifica de adentro hacia afuera.\n",
        "\n",
        "$$\n",
        "\\int_0^2\\int_0^x xy \\, dy\\, dx\n",
        "$$"
      ],
      "metadata": {
        "id": "riLG2jZF4RlR"
      }
    },
    {
      "cell_type": "code",
      "source": [
        "x, y = sp.symbols('x y')\n",
        "f = x * y\n",
        "\n",
        "integral_dobles = sp.integrate(f, (y, 0, x), (x, 0, 2))\n",
        "display(integral_dobles)"
      ],
      "metadata": {
        "colab": {
          "base_uri": "https://localhost:8080/",
          "height": 37
        },
        "id": "zOsqmBmK4Fn-",
        "outputId": "36dea0fa-fd37-4522-b14a-1942c62c4d79"
      },
      "execution_count": 47,
      "outputs": [
        {
          "output_type": "display_data",
          "data": {
            "text/plain": [
              "2"
            ],
            "text/latex": "$\\displaystyle 2$"
          },
          "metadata": {}
        }
      ]
    },
    {
      "cell_type": "markdown",
      "source": [
        "$$\n",
        "\\int_0^2\\int_0^x\\int_0^z xyz\\, dz\\, dy\\, dx\n",
        "$$"
      ],
      "metadata": {
        "id": "t0nAzfH55FR-"
      }
    },
    {
      "cell_type": "code",
      "source": [
        "x, y, z = sp.symbols('x y z')\n",
        "f = x * y * z\n",
        "\n",
        "integral_triples = sp.integrate(f, (z, 0, y), (y, 0, x), (x, 0, 2))\n",
        "display(integral_triples)"
      ],
      "metadata": {
        "colab": {
          "base_uri": "https://localhost:8080/",
          "height": 51
        },
        "id": "lqaxDj9q4xzT",
        "outputId": "6943458f-8cd0-4d9e-ad01-4b0bdaee6f58"
      },
      "execution_count": 48,
      "outputs": [
        {
          "output_type": "display_data",
          "data": {
            "text/plain": [
              "4/3"
            ],
            "text/latex": "$\\displaystyle \\frac{4}{3}$"
          },
          "metadata": {}
        }
      ]
    }
  ]
}