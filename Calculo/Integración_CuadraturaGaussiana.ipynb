{
  "cells": [
    {
      "cell_type": "markdown",
      "metadata": {
        "id": "view-in-github",
        "colab_type": "text"
      },
      "source": [
        "<a href=\"https://colab.research.google.com/github/jmmarinr/ComputationalMethods/blob/master/Calculo/Integraci%C3%B3n_CuadraturaGaussiana.ipynb\" target=\"_parent\"><img src=\"https://colab.research.google.com/assets/colab-badge.svg\" alt=\"Open In Colab\"/></a>"
      ]
    },
    {
      "cell_type": "code",
      "execution_count": 1,
      "metadata": {
        "cellView": "form",
        "id": "tkYu9qjYcm18"
      },
      "outputs": [],
      "source": [
        "#@title Librerias\n",
        "from sympy import legendre, symbols, diff, expand, factor, simplify\n",
        "from scipy.special import legendre as legendre_scipy\n",
        "import numpy as np\n",
        "import matplotlib.pyplot as plt\n",
        "\n"
      ]
    },
    {
      "cell_type": "markdown",
      "source": [
        "# Cuadratura Gaussiana\n",
        "\n",
        "---\n",
        "\n",
        "### Profesor: Juan Marcos Marín\n",
        "\n",
        "---\n",
        "\n",
        "La cuadratura Gaussiana es una técnica de integración numérica que busca obtener la mayor precisión posible al aproximar una integral definida. A diferencia de otros métodos que usan puntos equiespaciados, la cuadratura Gaussiana elige estratégicamente los \"nodos\" (puntos de evaluación de la función) y los \"pesos\" asociados para lograr que la fórmula sea exacta para polinomios de un grado tan alto como sea posible.\n",
        "\n",
        "Las variantes más comunes de la cuadratura Gaussiana son:\n",
        "\n",
        "* Cuadratura de Gauss-Legendre,\n",
        "* Cuadratura de Gauss-Chebyshev,\n",
        "* Cuadratura de Gauss-Laguerre,\n",
        "* Cuadratura de Gauss-Hermite.\n",
        "\n"
      ],
      "metadata": {
        "id": "F1IeVRkcmqaL"
      }
    },
    {
      "cell_type": "markdown",
      "metadata": {
        "id": "OBOyjVcoQZWc"
      },
      "source": [
        "# Polinomios de Legendre\n",
        "\n",
        "Los **polinomios de Legendre** son una familia de polinomios ortogonales que surgen como soluciones de la **ecuación diferencial de Legendre**:\n",
        "\n",
        "$$\n",
        "(1 - x^2) \\frac{d^2y}{dx^2} - 2x \\frac{dy}{dx} + n(n+1)y = 0,\n",
        "$$\n",
        "\n",
        "donde $n$ es un número entero no negativo.\n",
        "\n",
        "\n",
        "Los polinomios de Legendre, $P_n(x)$, se definen mediante la fórmula de Rodrigues:\n",
        "\n",
        "$$\n",
        "P_n(x) = \\frac{1}{2^n n!} \\frac{d^n}{dx^n} \\left[(x^2 - 1)^n\\right].\n",
        "$$\n",
        "\n",
        "\n",
        "\n",
        "## Primeros 5 polinomios de Legendre\n",
        "\n",
        "1. $P_0(x) = 1$\n",
        "2. $P_1(x) = x$\n",
        "3. $P_2(x) = \\frac{1}{2}(3x^2 - 1)$\n",
        "4. $P_3(x) = \\frac{1}{2}(5x^3 - 3x)$\n",
        "5. $P_4(x) = \\frac{1}{8}(35x^4 - 30x^2 + 3)$\n"
      ]
    },
    {
      "cell_type": "code",
      "execution_count": 2,
      "metadata": {
        "colab": {
          "base_uri": "https://localhost:8080/",
          "height": 171
        },
        "id": "3BILE_XJdmq_",
        "outputId": "b3399252-a8a7-411e-83c2-5c69c41b6d0a"
      },
      "outputs": [
        {
          "output_type": "display_data",
          "data": {
            "text/plain": [
              "1"
            ],
            "text/latex": "$\\displaystyle 1$"
          },
          "metadata": {}
        },
        {
          "output_type": "display_data",
          "data": {
            "text/plain": [
              "x"
            ],
            "text/latex": "$\\displaystyle x$"
          },
          "metadata": {}
        },
        {
          "output_type": "display_data",
          "data": {
            "text/plain": [
              "3*x**2/2 - 1/2"
            ],
            "text/latex": "$\\displaystyle \\frac{3 x^{2}}{2} - \\frac{1}{2}$"
          },
          "metadata": {}
        },
        {
          "output_type": "display_data",
          "data": {
            "text/plain": [
              "x*(5*x**2 - 3)/2"
            ],
            "text/latex": "$\\displaystyle \\frac{x \\left(5 x^{2} - 3\\right)}{2}$"
          },
          "metadata": {}
        },
        {
          "output_type": "display_data",
          "data": {
            "text/plain": [
              "35*x**4/8 - 15*x**2/4 + 3/8"
            ],
            "text/latex": "$\\displaystyle \\frac{35 x^{4}}{8} - \\frac{15 x^{2}}{4} + \\frac{3}{8}$"
          },
          "metadata": {}
        }
      ],
      "source": [
        "x = symbols('x')\n",
        "\n",
        "for i in range(5):\n",
        "    display(simplify(legendre(i, x)))"
      ]
    },
    {
      "cell_type": "code",
      "execution_count": 3,
      "metadata": {
        "colab": {
          "base_uri": "https://localhost:8080/",
          "height": 472
        },
        "id": "H_7lsHsEax7J",
        "outputId": "3068efe5-da75-47cd-f371-6c507725733f"
      },
      "outputs": [
        {
          "output_type": "display_data",
          "data": {
            "text/plain": [
              "<Figure size 640x480 with 1 Axes>"
            ],
            "image/png": "[encoded data removed]"
          },
          "metadata": {}
        }
      ],
      "source": [
        "def plot_legendre_polynomials(order):\n",
        "    # Crear un arreglo de valores entre -1 y 1 para evaluar los polinomios\n",
        "    x = np.linspace(-1, 1, 400)\n",
        "\n",
        "    for n in range(order):\n",
        "        # Obtener el polinomio de Legendre de grado n\n",
        "        P_n = legendre_scipy(n)\n",
        "        # Evaluar el polinomio en los puntos x\n",
        "        y = P_n(x)\n",
        "        # Graficar el polinomio\n",
        "        plt.plot(x, y, label=f'$P_{n}(x)$')\n",
        "\n",
        "    # Configurar el gráfico\n",
        "    plt.xlabel('$x$')\n",
        "    plt.ylabel('$P_n(x)$')\n",
        "    plt.title(f'Polinomios de Legendre de grado 0 a {order-1}')\n",
        "    plt.legend()\n",
        "    plt.grid(True)\n",
        "    plt.show()\n",
        "\n",
        "# Llamar a la función para graficar los polinomios\n",
        "plot_legendre_polynomials(5)\n"
      ]
    },
    {
      "cell_type": "markdown",
      "metadata": {
        "id": "5nuGLsSKRu-V"
      },
      "source": [
        "# Método de Cuadratura Gaussiana\n",
        "\n",
        "El método de **cuadratura gaussiana** es una técnica para aproximar integrales definidas de la forma:\n",
        "\n",
        "$$\n",
        "\\int_a^b f(x) \\, dx,\n",
        "$$\n",
        "\n",
        "mediante una suma ponderada de valores de la función en ciertos puntos dentro del intervalo. Es especialmente útil para obtener una aproximación precisa con un número mínimo de evaluaciones de la función.\n",
        "\n",
        "En la cuadratura gaussiana, se elige una familia de polinomios ortogonales (como los *polinomios de Legendre*) para determinar:\n",
        "\n",
        "1. **Los puntos de evaluación**: Las raíces de los polinomios ortogonales.\n",
        "2. **Los pesos de la cuadratura**: Coeficientes asociados a cada raíz.\n",
        "\n",
        "La integral se aproxima como:\n",
        "\n",
        "$$\n",
        "\\int_{-1}^1 f(x) \\, dx \\approx \\sum_{i=1}^n w_i f(x_i),\n",
        "$$\n",
        "\n",
        "donde:\n",
        "- $x_i$ son las **raíces** del polinomio de Legendre $P_n(x)$.\n",
        "- $w_i$ son los **pesos** determinados de manera que la fórmula sea exacta para polinomios de grado $2n - 1$ o menor.\n",
        "\n",
        "## Uso de los polinomios de Legendre\n",
        "\n",
        "1. **Raíces de $P_n(x)$**:\n",
        "   - Los puntos $x_i$ se eligen como las raíces del polinomio de Legendre $P_n(x)$. Estos puntos son simétricos respecto al origen ($x_i \\in [-1, 1]$).\n",
        "   \n",
        "2. **Cálculo de los pesos**:\n",
        "   Los pesos $w_i$ se calculan mediante la fórmula:\n",
        "   $$\n",
        "   w_i = \\frac{2}{(1 - x_i^2) \\left[P_n'(x_i)\\right]^2},\n",
        "   $$\n",
        "   donde $P_n'(x)$ es la derivada del polinomio de Legendre $P_n(x)$.\n",
        "\n",
        "3. **Extensión a intervalos generales**:\n",
        "   Si la integral está definida en un intervalo arbitrario $[a, b]$, se realiza un cambio de variable:\n",
        "   $$\n",
        "   \\int_a^b f(x) \\, dx = \\frac{b-a}{2} \\int_{-1}^1 f\\left(\\frac{b-a}{2}x + \\frac{a+b}{2}\\right) \\, dx.\n",
        "   $$\n",
        "   Luego, se aplica la cuadratura en el intervalo $[-1, 1]$.\n",
        "\n",
        "  así la integral es aproximadamente igual a\n",
        "\n",
        "  $$\\int_a^b f(x)\\,dx \\approx \\frac{b-a}{2} \\sum_{i=1}^n w_i\\,f\\left(\\frac{b-a}{2}x_i + \\frac{a+b}{2}\\right).$$\n",
        "\n",
        "Si se usan $n$ puntos se puede demostrar que el error es proporcional a la $2n$-esima derivada ósea,\n",
        "\n",
        "$$\\epsilon=\\frac{(b-a)^{2n+1} (n!)^4}{(2n+1)[(2n)!]^3} f^{(2n)} (\\xi),$$\n",
        "\n",
        "con $a < \\xi < b$.\n",
        "\n",
        "\n",
        "\n",
        "\n"
      ]
    },
    {
      "cell_type": "code",
      "execution_count": 4,
      "metadata": {
        "colab": {
          "base_uri": "https://localhost:8080/"
        },
        "id": "QBWx_PZVmSTb",
        "outputId": "6fb1260e-49d6-4a76-fa1c-da3397cb998e"
      },
      "outputs": [
        {
          "output_type": "stream",
          "name": "stdout",
          "text": [
            "Raíces (puntos de Gauss) para n = 2\n",
            "[-0.57735027  0.57735027]\n",
            "\n",
            "Pesos para n = 2\n",
            "[1. 1.]\n"
          ]
        }
      ],
      "source": [
        "from scipy.special import roots_legendre\n",
        "\n",
        "# Elegir el grado del polinomio de Legendre (y el número de puntos para cuadratura)\n",
        "n = 2  # Puedes cambiar el valor de n\n",
        "\n",
        "# Obtener raíces y pesos\n",
        "x_i, w_i = roots_legendre(n)\n",
        "\n",
        "# Mostrar resultados\n",
        "print(\"Raíces (puntos de Gauss) para n =\", n)\n",
        "print(x_i)\n",
        "print(\"\\nPesos para n =\", n)\n",
        "print(w_i)"
      ]
    },
    {
      "cell_type": "markdown",
      "metadata": {
        "id": "AQM7q5JjU1zR"
      },
      "source": [
        "# Tabla de Raíces y Pesos de Polinomios de Legendre\n",
        "\n",
        "| Grado $n$ | Raíces ($x_i$)                                     | Pesos ($w_i$)                              |\n",
        "|-----------|----------------------------------------------------|--------------------------------------------|\n",
        "| **1**     | $x_1 = 0$                                          | $w_1 = 2$                                  |\n",
        "| **2**     | $x_1 = -\\sqrt{\\frac{1}{3}}, \\, x_2 = \\sqrt{\\frac{1}{3}}$ | $w_1 = w_2 = 1$                            |\n",
        "| **3**     | $x_1 = -\\sqrt{\\frac{3}{5}}, \\, x_2 = 0, \\, x_3 = \\sqrt{\\frac{3}{5}}$ | $w_1 = w_3 = \\frac{5}{9}, \\, w_2 = \\frac{8}{9}$ |\n",
        "| **4**     | $x_1 = -\\sqrt{\\frac{3}{7} + \\frac{2\\sqrt{6/5}}{7}},$ | $w_1 = w_4 = \\frac{18 - \\sqrt{30}}{36}$    |\n",
        "|           | $x_2 = -\\sqrt{\\frac{3}{7} - \\frac{2\\sqrt{6/5}}{7}},$ | $w_2 = w_3 = \\frac{18 + \\sqrt{30}}{36}$    |\n",
        "|           | $x_3 = \\sqrt{\\frac{3}{7} - \\frac{2\\sqrt{6/5}}{7}},$ |                                            |\n",
        "|           | $x_4 = \\sqrt{\\frac{3}{7} + \\frac{2\\sqrt{6/5}}{7}}$  |                                            |\n",
        "| **5**     | $x_1 = -\\frac{1}{3}\\sqrt{5 + 2\\sqrt{\\frac{10}{7}}},$ | $w_1 = w_5 = \\frac{322 - 13\\sqrt{70}}{900}$ |\n",
        "|           | $x_2 = -\\frac{1}{3}\\sqrt{5 - 2\\sqrt{\\frac{10}{7}}},$ | $w_2 = w_4 = \\frac{322 + 13\\sqrt{70}}{900}$ |\n",
        "|           | $x_3 = 0$                                          | $w_3 = \\frac{128}{225}$                    |\n",
        "\n",
        "\n",
        "1. Los valores para $x_i$ y $w_i$ se calculan con fórmulas exactas, pero en la práctica se suelen usar sus aproximaciones numéricas.\n",
        "2. Para integrales definidas en $[-1, 1]$, estos valores se usan directamente.\n",
        "3. Para integrales en un intervalo $[a, b]$, se realiza un cambio de variable para mapear el intervalo.\n",
        "\n"
      ]
    },
    {
      "cell_type": "markdown",
      "metadata": {
        "id": "C8YhC4WpSU20"
      },
      "source": [
        "# Ejemplo: Cuadratura Gaussiana para una Integral\n",
        "\n",
        "Queremos aproximar la integral:\n",
        "\n",
        "$$\n",
        "\\int_{-1}^1 e^x \\, dx.\n",
        "$$\n",
        "\n",
        "Usaremos **cuadratura gaussiana con $n = 2$** (dos puntos de evaluación).\n",
        "\n",
        "## Paso 1: Raíces de $P_2(x)$\n",
        "El polinomio de Legendre de grado 2 es:\n",
        "\n",
        "$$\n",
        "P_2(x) = \\frac{1}{2}(3x^2 - 1).\n",
        "$$\n",
        "\n",
        "Sus raíces, que son los puntos de evaluación $x_1$ y $x_2$, son:\n",
        "\n",
        "$$\n",
        "x_1 = -\\sqrt{\\frac{1}{3}}, \\quad x_2 = \\sqrt{\\frac{1}{3}}.\n",
        "$$\n",
        "\n",
        "## Paso 2: Pesos asociados\n",
        "Para $n = 2$, los pesos son iguales:\n",
        "\n",
        "$$\n",
        "w_1 = w_2 = 1.\n",
        "$$\n",
        "\n",
        "## Paso 3: Aproximación de la integral\n",
        "La fórmula de cuadratura gaussiana para $n = 2$ es:\n",
        "\n",
        "$$\n",
        "\\int_{-1}^1 e^x \\, dx \\approx w_1 f(x_1) + w_2 f(x_2).\n",
        "$$\n",
        "\n",
        "Sustituyendo los valores de $w_1$, $w_2$, $x_1$, y $x_2$:\n",
        "\n",
        "$$\n",
        "\\int_{-1}^1 e^x \\, dx \\approx 1 \\cdot e^{- \\sqrt{\\frac{1}{3}}} + 1 \\cdot e^{\\sqrt{\\frac{1}{3}}}.\n",
        "$$\n",
        "\n",
        "## Paso 4: Evaluación numérica\n",
        "Calculamos los valores numéricos:\n",
        "\n",
        "1. $\\sqrt{\\frac{1}{3}} \\approx 0.57735$.\n",
        "2. $e^{0.57735} \\approx 1.781312$.\n",
        "3. $e^{-0.57735} \\approx 0.561383$.\n",
        "\n",
        "Por lo tanto:\n",
        "\n",
        "$$\n",
        "\\int_{-1}^1 e^x \\, dx \\approx 1.781312 + 0.561383 = 2.342695.\n",
        "$$\n",
        "\n",
        "## Resultado exacto\n",
        "La integral exacta de $e^x$ en $[-1, 1]$ es:\n",
        "\n",
        "$$\n",
        "\\int_{-1}^1 e^x \\, dx = e^1 - e^{-1} \\approx 2.350402.\n",
        "$$\n",
        "\n",
        "\n"
      ]
    },
    {
      "cell_type": "code",
      "execution_count": 5,
      "metadata": {
        "id": "mH1mZv-qSjr8"
      },
      "outputs": [],
      "source": [
        "#@title Cuadratura Gaussiana\n",
        "def gauss_quad_standard(func, n):\n",
        "    \"\"\"\n",
        "    Calcula la integral de una función en el intervalo [-1, 1]\n",
        "    utilizando cuadratura gaussiana.\n",
        "\n",
        "    Parameters:\n",
        "    - func: La función a integrar.\n",
        "    - n: Número de puntos para la cuadratura (grado del polinomio de Legendre).\n",
        "\n",
        "    Returns:\n",
        "    - Aproximación de la integral.\n",
        "    \"\"\"\n",
        "    # Obtener raíces y pesos del polinomio de Legendre\n",
        "    x, w = roots_legendre(n)\n",
        "\n",
        "    # Evaluar la suma ponderada\n",
        "    integral = np.sum(w * func(x))\n",
        "    return integral"
      ]
    },
    {
      "cell_type": "code",
      "execution_count": 6,
      "metadata": {
        "colab": {
          "base_uri": "https://localhost:8080/"
        },
        "id": "5HAEx75xY_TM",
        "outputId": "df09e35b-8df9-4d18-ecb8-b5a83b98a866"
      },
      "outputs": [
        {
          "output_type": "stream",
          "name": "stdout",
          "text": [
            "La aproximación de la integral es: 2.3426960879097307\n"
          ]
        }
      ],
      "source": [
        "f = lambda x: np.exp(x)\n",
        "\n",
        "# Número de puntos (grado del polinomio de Legendre)\n",
        "n = 2\n",
        "\n",
        "# Calcular la integral en [-1, 1]\n",
        "result = gauss_quad_standard(f, n)\n",
        "print(f\"La aproximación de la integral es: {result}\")\n"
      ]
    },
    {
      "cell_type": "markdown",
      "metadata": {
        "id": "ODj5kELdf-Cn"
      },
      "source": [
        "## Cuadratura Gaussiana en SciPy\n",
        "\n",
        "En **SciPy**, existe un método llamado **`fixed_quad`** que realiza integración utilizando la **cuadratura gaussiana fija**. Este método es similar a la cuadratura gaussiana, ya que utiliza una cantidad fija de puntos de Gauss para aproximar la integral.\n",
        "\n",
        "Este método implementa la **cuadratura gaussiana** con un número especificado de puntos de Gauss, es decir, no se adapta dinámicamente al comportamiento de la función a integrar. Requiere que se defina el número de puntos de Gauss para obtener la precisión deseada.\n",
        "\n",
        "\n",
        "\n",
        "```python\n",
        "scipy.integrate.fixed_quad(func, a, b, n=5, args=(), **kwargs)\n"
      ]
    },
    {
      "cell_type": "code",
      "execution_count": 7,
      "metadata": {
        "colab": {
          "base_uri": "https://localhost:8080/"
        },
        "id": "96lwqultgj9m",
        "outputId": "f903f51a-bba9-4654-b754-8a67d8cf1958"
      },
      "outputs": [
        {
          "output_type": "stream",
          "name": "stdout",
          "text": [
            "La aproximación de la integral es: 2.3426960879097307\n"
          ]
        }
      ],
      "source": [
        "from scipy.integrate import fixed_quad\n",
        "\n",
        "f = lambda x: np.exp(x)\n",
        "\n",
        "# Número de puntos (grado del polinomio de Legendre)\n",
        "n = 2\n",
        "\n",
        "# Calcular la integral en [-1, 1]\n",
        "result, _ = fixed_quad(f, -1, 1, n=n)\n",
        "print(f\"La aproximación de la integral es: {result}\")"
      ]
    }
  ],
  "metadata": {
    "colab": {
      "provenance": [],
      "include_colab_link": true
    },
    "kernelspec": {
      "display_name": "Python 3",
      "name": "python3"
    },
    "language_info": {
      "name": "python"
    }
  },
  "nbformat": 4,
  "nbformat_minor": 0
}