{
 "cells": [
  {
   "cell_type": "markdown",
   "id": "10fc66ca",
   "metadata": {},
   "source": [
    "# Laboratorio 03: Raíces.\n",
    "\n",
    "---\n",
    "### Profesor: Daniel Ruiz Mejía\n",
    "### Nombre: ______\n",
    "*Métodos computacionales 2025-I*\n",
    "\n",
    "---"
   ]
  },
  {
   "cell_type": "markdown",
   "id": "e9a9e514",
   "metadata": {},
   "source": [
    "# 1\n",
    "\n",
    "La ecuación de Kepler juega un papel importante en la mecánica celeste, ya que permite el calculo de la posición angular de objetos orbitantes. Para todas las órbitas elipticas, la ecuación\n",
    "\n",
    "$$M = E- e\\sin(E)$$\n",
    "\n",
    "siendo $M$ la anomalía media, $E$ la anomalía excéntrica y $e$ la excentricidad ($e= \\sqrt{1-b/a}$) (con $a>b$ los semiejes). Los astrónomos definen las \"anomalías\"  como posiciones angulares: la anomalía media $M$ es la posición angular del objeto en una órbita circular ficticia y, suponiendo una velocidad angular constante, puede relacionarse con el lapso de tiempo transcurrido desde el paso por el perihelio\n",
    "\n",
    "$$M= \\frac{2\\pi}{T} (t-t_0)$$\n",
    "\n",
    "donde $T$ es el periodo orbital y $t_0$ el tiempo cuando el objeto está en el perihelio.\n",
    "\n",
    "Para el cometa Halley $e=0.9672671$, $T=75.96000$ años y $t_0=1986.1113$ años (Febrero 9 de 1986).\n",
    "\n",
    "* Encuentre $E$ para el cometa Halley el 1 de abril de 1986. Para esto, haga una gráfica de\n",
    "\n",
    "$$f(E) = E - e\\sin(E) - M$$\n",
    "\n",
    "para $E\\in [0,1]$.\n",
    "\n",
    "* Grafique $E=E(t)$ para todo un periodo de revolución y resuelva usando el método de Newton y secante\n",
    "\n",
    "$$E-e\\sin(E) - M(t) = 0$$\n",
    "\n",
    "con un paso de $\\Delta t = T/100$. $t_i = t_0 + (i)*\\Delta t$, comenzando en $E(t_0) = 0$"
   ]
  },
  {
   "cell_type": "code",
   "execution_count": null,
   "id": "972c1124",
   "metadata": {},
   "outputs": [],
   "source": [
    "#Aquí va su código"
   ]
  },
  {
   "cell_type": "markdown",
   "id": "ece2016b",
   "metadata": {},
   "source": [
    "# 2\n",
    "En la teoria de campo medio, la magnetización como función de la temperatura de un material magnético puede ser calculada como:\n",
    "\n",
    "$$\n",
    "m(T) = \\tanh\\left( \\frac{m(T)}{T} \\right)\n",
    "$$\n",
    "\n",
    "donde $m$ y $T$ son la magnetizacion y temperatura reducida respectivamente\n",
    "\n",
    "\n",
    "Para $T = 0.5$, determine:\n",
    "\n",
    "- La magnetización reducida empleando el metodo de la secante y Newton-Raphson (Muestre su resultado con 4 cifras).\n",
    "\n",
    "- Valide su respuestado con el metodo de punto fijo (Muestre su resultado con 4 cifras).\n",
    "\n",
    "Ahora, defina `T = np.linspace(0.1,0.99,100)`, y emple el metodo de la secante para construir un gráfico de magnetización reducida como función de la temperatura para los  100 valores  de T."
   ]
  },
  {
   "cell_type": "code",
   "execution_count": null,
   "id": "5fa6624e",
   "metadata": {},
   "outputs": [],
   "source": [
    "#Aquí va su código"
   ]
  },
  {
   "cell_type": "markdown",
   "id": "12b2b75c",
   "metadata": {},
   "source": [
    "# 3\n",
    "\n",
    "La energía libre de Gibbs para 1 mol de hidrógeno a una temperatura $T$ está dada por:\n",
    "\n",
    "$$G = -RT \\ln \\left[ \\left( \\frac{T}{T_0} \\right)^{5/2} \\right]$$\n",
    "\n",
    "donde:  \n",
    "- $ R = 8.314 \\, \\text{J/K} $ es la constante de los gases.  \n",
    "- $ T_0 = 4.444 \\, \\text{J/K} $ es una constante de referencia.  \n",
    "\n",
    "Determinar la temperatura $ T $ a la cual $ G = -10^5 \\, \\text{J}$.  \n",
    "\n"
   ]
  },
  {
   "cell_type": "code",
   "execution_count": null,
   "id": "e81c8b00",
   "metadata": {},
   "outputs": [],
   "source": [
    "#Aquí va su código"
   ]
  },
  {
   "cell_type": "markdown",
   "id": "143ed749",
   "metadata": {},
   "source": [
    "# 4\n",
    "\n",
    "La distribución de intensidad en la difracción de Fraunhofer por una rendija de ancho $W$ y altura infinita, iluminada con luz monocromática de longitud de onda $\\lambda$, está dada por:\n",
    "\n",
    "$$I(\\theta) = I_0 \\left[ \\frac{\\sin(\\pi W \\sin \\theta / \\lambda)}{\\pi W \\sin \\theta / \\lambda} \\right]^2,$$\n",
    "\n",
    "donde $\\theta$ es el ángulo de observación respecto a la dirección incidente. Introduciendo la variable adimensional:\n",
    "\n",
    "$$x = \\pi W \\sin \\theta / \\lambda,$$\n",
    "\n",
    "la intensidad y su derivada se expresan como:\n",
    "\n",
    "$$I(x) = I_0 \\left( \\frac{\\sin x}{x} \\right)^2, \\quad I(0) = I_0,$$\n",
    "$$I'(x) = \\frac{2I_0}{x} \\left( \\cos x - \\frac{\\sin x}{x} \\right) \\frac{\\sin x}{x}, \\quad I'(0) = 0.$$\n",
    "\n",
    "- Graficar $I(x)$ y $I'(x)$ en el intervalo $x \\in [-10, 10]$.\n",
    "\n",
    "- Calcular el valor $x_{1/2}$ (positivo) donde $I(x) = I_0/2$, resolviendo la ecuación $I(x) - I_0/2 = 0$ con el método de la secante y aproximación inicial $x_0 = \\pi$.\n",
    "\n",
    "- Encontrar los máximos locales $x_i \\in [-10, 10]$ resolviendo $I'(x) = 0$.  \n",
    "- Usar un paso $h = 0.5$ para separar raíces y aplicar el *método de la regula falsi* (falsa posición) para mantenerlas acotadas.\n",
    "\n",
    "**Nota:**  \n",
    "Puede tomar $I_0=1$."
   ]
  },
  {
   "cell_type": "code",
   "execution_count": null,
   "id": "fa12489f",
   "metadata": {},
   "outputs": [],
   "source": [
    "#Aquí va su código"
   ]
  },
  {
   "cell_type": "markdown",
   "id": "7bbe5268",
   "metadata": {},
   "source": [
    "# 5\n",
    "\n",
    "La ley de Planck describe la densidad espectral de energía de la radiación electromagnética emitida por un cuerpo negro en equilibrio térmico (Toda et al., 1998):\n",
    "\n",
    "$$u(\\lambda,T)=\\frac{8\\pi hc}{\\lambda^{5}}\\,\\frac{1}{\\exp\\left(hc/\\left(\\lambda k_{B}T\\right)\\right)-1},$$\n",
    "\n",
    "donde:\n",
    "- $T$ = temperatura de equilibrio (K)\n",
    "- $\\lambda$ = longitud de onda (m)\n",
    "- $h=6.626 \\times 10^{-34}$ J $\\cdot$ s (constante de Planck)\n",
    "- $k_{B}=1.381 \\times 10^{-23}$ J$\\cdot$K$^{-1}$ (constante de Boltzmann)\n",
    "- $c=2.998 \\times 10^{8}$ m$\\cdot$s$^{-1}$ (velocidad de la luz)\n",
    "\n",
    "Introduciendo las variables adimensionales:\n",
    "$$x=\\frac{\\lambda}{\\lambda_{0}}, \\quad \\lambda_{0}=\\frac{hc}{k_{B}T}, \\quad K=\\frac{8\\pi k_{B}T}{\\lambda_{0}^{4}},$$\n",
    "\n",
    "la ley se simplifica a:\n",
    "$$u(\\lambda,T)=K\\frac{1}{x^{5}\\left(e^{1/x}-1\\right)}.$$\n",
    "\n",
    "La derivada (para encontrar máximos):\n",
    "$$\\frac{\\partial u}{\\partial\\lambda}=K\\lambda_{0}\\frac{5x+(1-5x)e^{1/x}}{x^{7}(e^{1/x}-1)^{2}}. $$\n",
    "\n",
    "- Graficar $u(\\lambda,T)$ y $\\partial u/\\partial\\lambda$ para $T=4000, 5000, 6000$ K.\n",
    "\n",
    "- Resolver $\\partial u/\\partial\\lambda=0$ para $T=5778$ K con el método de Bisección y de Newton.\n",
    "\n",
    "- Validar la ley de desplazamiento de Wien: $\\lambda_{\\rm max}T \\approx 2.898 \\times 10^{-3}$ m $\\cdot$ K"
   ]
  },
  {
   "cell_type": "code",
   "execution_count": null,
   "id": "84300b4d",
   "metadata": {},
   "outputs": [],
   "source": [
    "#Aquí va su código"
   ]
  },
  {
   "cell_type": "markdown",
   "id": "10ba6824",
   "metadata": {},
   "source": [
    "# 6\n",
    "\n",
    "Considere un pozo de potencial cuadrado de ancho $w$, con paredes de altura $V$:\n",
    "\n",
    "![image.png](data:image/png;base64,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)\n",
    "\n",
    "Usando la ecuación de Schrödinger, se puede demostrar que las energías permitidas $E$ de una partícula cuántica de masa $m$ atrapada en el pozo son soluciones de:\n",
    "\n",
    "$$\\tan \\sqrt{w^2 m E / 2 \\hbar^2} = \n",
    "\\begin{cases} \n",
    "\\sqrt{(V - E) / E} & \\text{para los estados pares,} \\\\\n",
    "-\\sqrt{E / (V - E)} & \\text{para los estados impares,}\n",
    "\\end{cases}$$\n",
    "\n",
    "donde los estados se numeran comenzando desde 0, siendo el estado base el estado 0, el primer estado excitado el estado 1, y así sucesivamente.\n",
    "\n",
    "- Para un electrón (masa $ 9.11 \\times 10^{-31} \\, \\text{kg} $) en un pozo con $ V = 20 \\, \\text{eV} $ y $ w = 1 \\, \\text{nm} $, escriba un programa en Python para graficar las tres cantidades:\n",
    "\n",
    "$$y_1 = \\tan \\sqrt{w^2 m E / 2 \\hbar^2}, \\quad y_2 = \\sqrt{\\frac{V - E}{E}}, \\quad y_3 = -\\sqrt{\\frac{E}{V - E}},$$\n",
    "\n",
    "en el mismo gráfico, como función de $ E $ desde $ E = 0 $ hasta $ E = 20 \\, \\text{eV} $. A partir de su gráfico, haga estimaciones aproximadas de las energías de los primeros seis niveles de energía de la partícula.\n",
    "\n",
    "- Escriba un segundo programa para calcular los valores de los primeros seis niveles de energía en electrón-voltios con una precisión de $ 0.001 \\, \\text{eV} $ usando el método de la bisección."
   ]
  },
  {
   "cell_type": "code",
   "execution_count": null,
   "id": "4cece972",
   "metadata": {},
   "outputs": [],
   "source": [
    "#Aquí va su código"
   ]
  },
  {
   "cell_type": "markdown",
   "id": "fc6a3589",
   "metadata": {},
   "source": [
    "# 7\n",
    "\n",
    "Existe un punto entre la Tierra y la Luna, llamado punto de Lagrange $L_1$, donde un satélite orbitará la Tierra en perfecta sincronía con la Luna, permaneciendo siempre entre ambas. Esto funciona porque la atracción hacia adentro de la Tierra y la atracción hacia afuera de la Luna se combinan para crear exactamente la fuerza centrípeta necesaria que mantiene al satélite en su órbita.\n",
    "\n",
    "Asumiendo órbitas circulares y que la Tierra es mucho más masiva que la Luna o el satélite, la distancia $r$ desde el centro de la Tierra hasta el punto $L_1$ satisface:\n",
    "\n",
    "$$\\frac{GM}{r^2} - \\frac{Gm}{(R-r)^2} = \\omega^2 r,$$\n",
    "\n",
    "donde $M$ y $m$ son las masas de la Tierra y la Luna respectivamente, $G$ es la constante gravitacional de Newton y $ \\omega $ es la velocidad angular tanto de la Luna como del satélite.\n",
    "\n",
    "- La ecuación anterior es una ecuación polinómica de quinto grado en $r$ (también llamada ecuación quíntica). Este tipo de ecuaciones no puede resolverse exactamente en forma cerrada, pero es sencillo resolverlas numéricamente. Escriba un programa que use el método de Newton o el método de la secante para resolver la distancia $r$ desde la Tierra hasta el punto $L_1$.\n",
    "\n",
    "Los valores de los diversos parámetros son:\n",
    "\n",
    "$$G = 6.674 \\times 10^{-11} \\, \\text{m}^3 \\text{kg}^{-1} \\text{s}^{-2},$$\n",
    "\n",
    "$$M = 5.974 \\times 10^{24} \\, \\text{kg},$$\n",
    "\n",
    "$$m = 7.348 \\times 10^{22} \\, \\text{kg},$$\n",
    "\n",
    "$$R = 3.844 \\times 10^8 \\, \\text{m},$$\n",
    "\n",
    "$$\\omega = 2.662 \\times 10^{-6} \\, \\text{s}^{-1}.$$\n",
    "\n",
    "También necesitará elegir un valor inicial adecuado para $r$, o dos valores iniciales si utiliza el método de la secante."
   ]
  },
  {
   "cell_type": "code",
   "execution_count": null,
   "id": "fc6a6d31",
   "metadata": {},
   "outputs": [],
   "source": [
    "#Aquí va su código"
   ]
  }
 ],
 "metadata": {
  "kernelspec": {
   "display_name": "Python 3",
   "language": "python",
   "name": "python3"
  },
  "language_info": {
   "name": "python",
   "version": "3.12.6"
  }
 },
 "nbformat": 4,
 "nbformat_minor": 5
}
