{
 "cells": [
  {
   "cell_type": "markdown",
   "id": "5833cba4",
   "metadata": {},
   "source": [
    "# Laboratorio 02: Representación Numérica, Errores y Estabilidad.\n",
    "\n",
    "---\n",
    "### Profesor: Daniel Ruiz Mejía\n",
    "### Nombre: ______\n",
    "*Métodos computacionales 2025-I*\n",
    "\n",
    "---"
   ]
  },
  {
   "cell_type": "markdown",
   "id": "204306de",
   "metadata": {},
   "source": [
    "# 1.\n",
    "Cree una función llamada `myint` pero que a partir de un número binario con base de 16 bits encuentre el entero correspondiente. Compare su resultado con `int(0b1000011100001)`"
   ]
  },
  {
   "cell_type": "code",
   "execution_count": null,
   "id": "6b0117ca",
   "metadata": {},
   "outputs": [],
   "source": [
    "#Aquí va su código"
   ]
  },
  {
   "cell_type": "markdown",
   "id": "bb956b56",
   "metadata": {},
   "source": [
    "# 2.\n",
    "Generar una función llamada `number64` para flotantes de precisión doble (64bits) donde a partir de un número binario encuentre el valor real. Compruebe su solución usando\n",
    "\n",
    "```\n",
    "number64(\"0100000000111011100100001111111111111111111111111111111111111111\")\n",
    "```"
   ]
  },
  {
   "cell_type": "code",
   "execution_count": null,
   "id": "8d675a1e",
   "metadata": {},
   "outputs": [],
   "source": [
    "#Aquí va su código"
   ]
  },
  {
   "cell_type": "markdown",
   "id": "a5693385",
   "metadata": {},
   "source": [
    "# 3. Aproximación de $\\pi$\n",
    "\n",
    "La serie de Maclaurin para la función tangente inversa converge en $-1 < x \\leq 1$ y está dada por:\n",
    "\n",
    "$$\n",
    "\\arctan x = \\lim_{n \\to \\infty} P_n(x) = \\lim_{n \\to \\infty} \\sum_{i=1}^n (-1)^{i+1} \\frac{x^{2i-1}}{2i-1}\n",
    "$$\n",
    "\n",
    "- **Aproximación básica**\n",
    "    - Utilizando el hecho de que $\\tan(\\pi/4) = 1$, implemente en Python una función que calcule $4P_n(1)$ y determina el número mínimo de términos $n$ necesarios para que $|4P_n(1) - \\pi| < 10^{-3}$. Compare su resultado con el valor de $\\pi$ de la librería math.\n",
    "    - Requiriendo que el valor de $\\pi$ esté dentro de un error de $10^{-4}$. ¿Cuántos términos de la serie se necesitaría sumar para obtener esta precisión? Implemente una solución en Python para encontrar este valor.\n",
    "- **Mejora de la convergencia**\n",
    "    El método anterior puede mejorarse significativamente usando la identidad:\n",
    "    $$\n",
    "    \\frac{\\pi}{4} = \\arctan\\left(\\frac{1}{2}\\right) + \\arctan\\left(\\frac{1}{3}\\right)\n",
    "    $$\n",
    "    - Implemente en Python una función que evalúe la serie para $\\arctan(1/2)$ y $\\arctan(1/3)$ por separado y luego las sume. Determine el número mínimo de términos necesarios para cada serie (pueden ser diferentes) para aproximar $\\pi$ con un error menor a $10^{-3}$ y $10^{-6}$.\n",
    "\n",
    "- **Método de alta precisión**\n",
    "    Para obtener una convergencia aún más rápida, usamos la identidad:\n",
    "    $$\n",
    "    \\frac{\\pi}{4} = 4\\arctan\\left(\\frac{1}{5}\\right) - \\arctan\\left(\\frac{1}{239}\\right)\n",
    "    $$\n",
    "    Desarrolle un programa en Python que implemente esta fórmula y determine:\n",
    "    - El número mínimo de términos necesarios en cada serie para aproximar $\\pi$ con error menor a $10^{-3}$ y $10^{-6}$.\n",
    "    - Compare el rendimiento (número de términos requeridos) con los métodos anteriores.\n",
    " \n",
    " "
   ]
  },
  {
   "cell_type": "code",
   "execution_count": null,
   "id": "8aef365a",
   "metadata": {},
   "outputs": [],
   "source": [
    "#Aquí va su código"
   ]
  },
  {
   "cell_type": "markdown",
   "id": "ca9640b7",
   "metadata": {},
   "source": [
    "# 4. Serie Exponencial\n",
    "Considere la serie para $e^{-x}$\n",
    "\n",
    "$$\n",
    "e^{-x}=\\sum_{n=0}^{N}  (-1)^n \\frac{x^{n}}{n!}\n",
    "$$\n",
    "\n",
    "- Calcula la serie para $x \\le 1$ y compárela con la función incorporada `np.exp(x)` (asuma que la función exponencial incorporada es exacta). Elegir un $N$ para el cual el siguiente término en la serie no sea más que $10^{-7}$ de la suma hasta ese punto.\n",
    "\n",
    "$$\n",
    "\\left| \\frac{(-x)^{N+1}}{(N+1)!} \\right | \\le \\left| 10^{-7} \\sum_{N=0}^{N} \\frac{(-x)^{n}}{n!} \\right|\n",
    "$$\n",
    "\n",
    "- Examine los términos de la serie para $x\\approx 10$ y observa las cancelaciones sustractivas significativas que ocurren cuando términos grandes se suman para dar respuestas pequeñas. En particular, imprime la cancelación casi perfecta en $n \\approx x − 1$.\n",
    "\n",
    "- Compruebe si se obtiene una mejor precisión siendo ingenioso y usando $e^{−x} = \\frac{1}{e^x}$ para valores grandes de $x$. Esto elimina la cancelación sustractiva, pero no elimina todos los errores de redondeo.\n",
    "\n",
    "\n",
    "- Incrementando progresivamente $x$ de 1 a 10, y luego de 10 a 100, use el programa para determinar experimentalmente cuándo la serie comienza a perder precisión, y cuándo la serie ya no converge.\n",
    "\n",
    "\n",
    "- Realice una serie de gráficos del error versus $N$ para diferentes valores de $x$."
   ]
  },
  {
   "cell_type": "code",
   "execution_count": null,
   "id": "ad34281d",
   "metadata": {},
   "outputs": [],
   "source": [
    "#Aquí va su código"
   ]
  },
  {
   "cell_type": "markdown",
   "id": "56688fa9",
   "metadata": {},
   "source": [
    "# 5.\n",
    "\n",
    "Supongamos que tenemos una función $f(x)$ y queremos calcular su derivada en un punto $x$. Podemos hacerlo manualmente si conocemos la forma matemática de la función, o podemos hacerlo computacionalmente usando la definición de derivada:\n",
    "\n",
    "$$\n",
    "\\frac{df}{dx} = \\lim_{\\delta \\to 0} \\frac{f(x + \\delta) - f(x)}{\\delta}.\n",
    "$$\n",
    "\n",
    "En el computador no podemos tomar el límite cuando $\\delta$ tiende a cero, pero podemos obtener una aproximación razonable usando valores pequeños de $\\delta$.\n",
    "\n",
    "- Escriba un programa que:\n",
    "    - Defina una función $f(x)$ que retorne el valor $x(x-1)$\n",
    "    - Calcule la derivada de la función en $x = 1$ usando la fórmula anterior con $\\delta = 10^{-2}$\n",
    "    - Compare este resultado con el valor exacto obtenido analíticamente\n",
    "    \n",
    "    Los resultados no coincidirán exactamente. ¿Por qué?\n",
    "    \n",
    "- Repita el cálculo para $\\delta = 10^{-4}, 10^{-6}, 10^{-8}, 10^{-10}, 10^{-12}$, y $10^{-14}$. Observará que la precisión mejora inicialmente al disminuir $\\delta$, pero luego empeora. Explique este comportamiento.\n"
   ]
  },
  {
   "cell_type": "code",
   "execution_count": null,
   "id": "066104c2",
   "metadata": {},
   "outputs": [],
   "source": [
    "#Aquí va su código"
   ]
  }
 ],
 "metadata": {
  "kernelspec": {
   "display_name": "Python 3",
   "language": "python",
   "name": "python3"
  },
  "language_info": {
   "name": "python",
   "version": "3.12.6"
  }
 },
 "nbformat": 4,
 "nbformat_minor": 5
}
