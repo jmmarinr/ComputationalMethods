{
  "nbformat": 4,
  "nbformat_minor": 0,
  "metadata": {
    "colab": {
      "provenance": [],
      "authorship_tag": "ABX9TyNVJyC1cjsJVTWSQcR0cJ//",
      "include_colab_link": true
    },
    "kernelspec": {
      "name": "python3",
      "display_name": "Python 3"
    },
    "language_info": {
      "name": "python"
    }
  },
  "cells": [
    {
      "cell_type": "markdown",
      "metadata": {
        "id": "view-in-github",
        "colab_type": "text"
      },
      "source": [
        "<a href=\"https://colab.research.google.com/github/jmmarinr/ComputationalMethods/blob/master/Raices/Actividad04_Raices.ipynb\" target=\"_parent\"><img src=\"https://colab.research.google.com/assets/colab-badge.svg\" alt=\"Open In Colab\"/></a>"
      ]
    },
    {
      "cell_type": "code",
      "execution_count": null,
      "metadata": {
        "id": "asgdp1RGxryX"
      },
      "outputs": [],
      "source": [
        "#@title Librerias\n",
        "import numpy as np\n",
        "import matplotlib.pyplot as plt"
      ]
    },
    {
      "cell_type": "markdown",
      "source": [
        "# Actividad 04: Raices y ecuaciones de una variable\n",
        "\n",
        "---\n",
        "### Profesor: Juan Marcos Marín Ramírez\n",
        "#### Métodos Computacionales 2025-1\n",
        "---"
      ],
      "metadata": {
        "id": "TrrVramGxvxE"
      }
    },
    {
      "cell_type": "markdown",
      "source": [
        "# 1\n",
        "\n",
        "El método de **Regula Falsi** es una modificación al método de Bisección. Con base en los siguientes pasos, escriba una función que calcule la raiz de una función. Pruebe con $x^2 - 4 = 0$, y examine la convergencia en función de la tolerancia.\n",
        "\n",
        "\n",
        "### Pasos\n",
        "\n",
        "1. **Inicialización**:\n",
        "   - Se parte de un intervalo $[a, b]$ donde $f(a)$ y $f(b)$ tienen signos opuestos.\n",
        "   - Esto garantiza que hay al menos una raíz en el intervalo (por el teorema del valor intermedio).\n",
        "\n",
        "2. **Cálculo del punto de intersección**:\n",
        "   - En lugar de tomar el punto medio como en la bisección, se calcula un punto c usando la siguiente fórmula:\n",
        "     \n",
        "     $$c = \\frac{a \\cdot f(b) - b \\cdot f(a)}{f(b) - f(a)}$$\n",
        "\n",
        "   - Esta fórmula representa la intersección de la línea que conecta los puntos $(a, f(a))$ y $(b, f(b))$ con el eje $x$.\n",
        "\n",
        "3. **Evaluación y actualización del intervalo**:\n",
        "   - Se evalúa $f(c)$.\n",
        "   - Si $f(c) = 0$ (o es menor que una tolerancia establecida), $c$ es la raíz buscada.\n",
        "   - Si $f(c)$ tiene el mismo signo que $f(a)$, se actualiza $a = c$.\n",
        "   - Si $f(c)$ tiene el mismo signo que $f(b)$, se actualiza $b = c$.\n",
        "\n",
        "4. **Iteración**:\n",
        "   - Se repiten los pasos 2 y 3 hasta que se cumpla un criterio de parada (por ejemplo, $|f(c)| < tolerancia$ o se alcance un número máximo de iteraciones)."
      ],
      "metadata": {
        "id": "G8Fxw6RJx4Dx"
      }
    },
    {
      "cell_type": "code",
      "source": [],
      "metadata": {
        "id": "PmoyFP_8xy44"
      },
      "execution_count": null,
      "outputs": []
    },
    {
      "cell_type": "markdown",
      "source": [
        "# 2\n",
        "\n",
        "Una carga total $Q$ se distribuye uniformemente alrededor de un conductor en forma de anillo de radio $a$. Una carga $q$ se encuentra a una distancia $x$ horizontalmente a través del centro del anillo. La fuerza ejercida sobre la carga por el anillo está dada por:\n",
        "\n",
        "$$F = \\frac{1}{4\\piϵ_0}\\frac{qQx}{(x^2+a^2)^{3/2}}$$\n",
        "\n",
        "con $q$ y $Q$ de $2\\times 10^{-5}$C.\n",
        "\n",
        "  * Escriba una función donde ingresen los valores de $a$ y $x$ para hallar la fuerza.\n",
        "  * Haga un gráfico de $F(x)$ para un anillo de radio $a= 0.85$m para $0.1\\leq x\\leq 2.0$m\n",
        "  * Usando el método de Newton-Raphson y otro diferente, para encontrar el valor de $x$ en el cual la fuerza será equivalente a 1.25 N.\n",
        "  * Encuentre qué sucede si disminuimos el radio con respecto a la fuerza que experimentará la carga $q$."
      ],
      "metadata": {
        "id": "8lX5YHJOyZqr"
      }
    },
    {
      "cell_type": "code",
      "source": [],
      "metadata": {
        "id": "EUhHKtwwzWMa"
      },
      "execution_count": null,
      "outputs": []
    },
    {
      "cell_type": "markdown",
      "source": [
        "# 3\n",
        "\n",
        "La velocidad ascendente $v$ de un cohete se puede calcular mediante\n",
        "$$v = u\\ln \\frac{m_0}{m_0 - qt} - gt$$\n",
        "\n",
        "donde $u$ es la velocidad a la que se expulsa el combustible, $m_0$ la masa inicial del cohete en $t = 0$, $q$ la razón de consumo del combustible y $g = 9.81$ m/s$^2$.\n",
        "\n",
        "* Escriba una función para $v$ con las variables asociadas.\n",
        "* Sea $m_0 = 1.6\\times 10^5$ kg, $u = 1800$ m/s y $q = 2600$ kg/s realice un grafico de $v(t)$ para $0\\leq t\\leq 100$ s.\n",
        "* Encuentre el valor de tiempo para el cual $v = 750$ m/s usando el método de Newton-Raphson, Bisección y el de Regula-Falsi\n",
        "* Varie los valores de $u$ (utilice por lo menos 20) y encuentre los tiempos para los cuales el cohete alcanzará la velocidad de 750 m/s. Qué conclusiones puede sacar?\n",
        "\n"
      ],
      "metadata": {
        "id": "rIR0hAWHzYgq"
      }
    },
    {
      "cell_type": "code",
      "source": [],
      "metadata": {
        "id": "Ucwxc8Y51oU9"
      },
      "execution_count": null,
      "outputs": []
    }
  ]
}