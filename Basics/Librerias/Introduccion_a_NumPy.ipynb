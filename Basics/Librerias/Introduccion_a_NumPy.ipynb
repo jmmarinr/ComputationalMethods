{
 "cells": [
  {
   "cell_type": "markdown",
   "id": "087d9da7",
   "metadata": {},
   "source": [
    "## Introducción a NumPy\n"
   ]
  },
  {
   "cell_type": "markdown",
   "id": "2358bf65",
   "metadata": {},
   "source": [
    "## ¿Qué es una librería y cómo funciona?\n",
    "\n",
    "\n",
    "Una librería es un conjunto de funciones y herramientas predefinidas que permiten realizar tareas específicas sin tener que escribir el código desde cero.\n",
    "\n",
    "En Python, las librerías se agrupan en módulos que pueden ser importados usando `import`.\n",
    "\n",
    "Las librerías ayudan a mejorar la eficiencia y reusabilidad del código.\n",
    "\n",
    "**Funcionamiento:**\n",
    "- Las librerías se instalan y se importan en el código.\n",
    "- Los desarrolladores pueden usar las funciones y clases que proporciona la librería.\n",
    "- Esto evita la necesidad de implementar cada funcionalidad desde cero.\n",
    "\n",
    "Ejemplos: NumPy, pandas, Matplotlib, entre otras."
   ]
  },
  {
   "cell_type": "markdown",
   "id": "f7e20794",
   "metadata": {},
   "source": [
    "## Cómo llamar métodos o funciones en una librería"
   ]
  },
  {
   "cell_type": "code",
   "execution_count": 15,
   "id": "41bf667e",
   "metadata": {},
   "outputs": [
    {
     "name": "stdout",
     "output_type": "stream",
     "text": [
      "[1 2 3]\n"
     ]
    }
   ],
   "source": [
    "# Importar la librería\n",
    "import numpy as np\n",
    "\n",
    "# Llamar a una función como np.array()\n",
    "mi_array = np.array([1, 2, 3])\n",
    "print(mi_array)"
   ]
  },
  {
   "cell_type": "markdown",
   "id": "55d2d49c",
   "metadata": {},
   "source": [
    "## ¿Qué es NumPy?\n",
    "\n",
    "\n",
    "NumPy es una librería de Python utilizada para el cálculo numérico.\n",
    "\n",
    "Proporciona soporte para arrays y matrices multidimensionales.\n",
    "\n",
    "NumPy es la base para muchas otras librerías científicas en Python, como SciPy y pandas.\n",
    "\n",
    "```python\n",
    "# Verificar la versión de NumPy instalada\n",
    "import numpy as np\n",
    "print(\"Versión de NumPy:\", np.__version__)\n",
    "```"
   ]
  },
  {
   "cell_type": "code",
   "execution_count": 16,
   "id": "6c9bdd83",
   "metadata": {},
   "outputs": [
    {
     "name": "stdout",
     "output_type": "stream",
     "text": [
      "Versión de NumPy: 1.26.4\n"
     ]
    }
   ],
   "source": [
    "# Imprimir la versión de NumPy\n",
    "print(\"Versión de NumPy:\", np.__version__)"
   ]
  },
  {
   "cell_type": "markdown",
   "id": "2ab936b1",
   "metadata": {},
   "source": [
    "## Importancia de NumPy\n",
    "\n",
    "\n",
    "- Es extremadamente eficiente para trabajar con grandes conjuntos de datos numéricos.\n",
    "- Ofrece operaciones vectorizadas, lo que acelera el cálculo y reduce la necesidad de bucles explícitos.\n",
    "- Compatible con funciones matemáticas avanzadas, como álgebra lineal, transformadas de Fourier y generación de números aleatorios.\n",
    "- NumPy es fundamental en áreas como análisis de datos, machine learning y simulaciones científicas."
   ]
  },
  {
   "cell_type": "markdown",
   "id": "b7dcc8ed",
   "metadata": {},
   "source": [
    "## Creación de Arrays con NumPy"
   ]
  },
  {
   "cell_type": "code",
   "execution_count": 17,
   "id": "fb6fb71d",
   "metadata": {},
   "outputs": [
    {
     "name": "stdout",
     "output_type": "stream",
     "text": [
      "Array creado a partir de una lista: [1 2 3 4 5]\n",
      "Array de ceros: [0. 0. 0. 0. 0.]\n",
      "Array de unos: [1. 1. 1. 1. 1.]\n",
      "Array con rango de valores: [0 2 4 6 8]\n",
      "Array con valores equidistantes: [0.   0.25 0.5  0.75 1.  ]\n"
     ]
    }
   ],
   "source": [
    "import numpy as np\n",
    "\n",
    "# Crear un array a partir de una lista\n",
    "array1 = np.array([1, 2, 3, 4, 5])\n",
    "print(\"Array creado a partir de una lista:\", array1)\n",
    "\n",
    "# Crear un array lleno de ceros\n",
    "array_zeros = np.zeros(5)\n",
    "print(\"Array de ceros:\", array_zeros)\n",
    "\n",
    "# Crear un array lleno de unos\n",
    "array_ones = np.ones(5)\n",
    "print(\"Array de unos:\", array_ones)\n",
    "\n",
    "# Crear un array con un rango de valores\n",
    "array_range = np.arange(0, 10, 2)\n",
    "print(\"Array con rango de valores:\", array_range)\n",
    "\n",
    "# Crear un array con números equidistantes\n",
    "array_linspace = np.linspace(0, 1, 5)\n",
    "print(\"Array con valores equidistantes:\", array_linspace)"
   ]
  },
  {
   "cell_type": "markdown",
   "id": "bfa9c316",
   "metadata": {},
   "source": [
    "## Operaciones básicas con Arrays 1D"
   ]
  },
  {
   "cell_type": "code",
   "execution_count": 18,
   "id": "2903b9aa",
   "metadata": {},
   "outputs": [
    {
     "name": "stdout",
     "output_type": "stream",
     "text": [
      "Array original: [1 2 3 4]\n",
      "Suma de 2 a cada elemento: [3 4 5 6]\n",
      "Resta de 1 a cada elemento: [0 1 2 3]\n",
      "Multiplicación por 3 de cada elemento: [ 3  6  9 12]\n",
      "División por 2 de cada elemento: [0.5 1.  1.5 2. ]\n",
      "Suma total de los elementos: 10\n",
      "Promedio de los elementos: 2.5\n",
      "Valor máximo: 4\n",
      "Valor mínimo: 1\n"
     ]
    }
   ],
   "source": [
    "import numpy as np\n",
    "\n",
    "array = np.array([1, 2, 3, 4])\n",
    "print(\"Array original:\", array)\n",
    "\n",
    "# Operaciones matemáticas\n",
    "suma = array + 2\n",
    "print(\"Suma de 2 a cada elemento:\", suma)\n",
    "\n",
    "resta = array - 1\n",
    "print(\"Resta de 1 a cada elemento:\", resta)\n",
    "\n",
    "multiplicacion = array * 3\n",
    "print(\"Multiplicación por 3 de cada elemento:\", multiplicacion)\n",
    "\n",
    "division = array / 2\n",
    "print(\"División por 2 de cada elemento:\", division)\n",
    "\n",
    "# Operaciones estadísticas\n",
    "suma_total = np.sum(array)\n",
    "print(\"Suma total de los elementos:\", suma_total)\n",
    "\n",
    "promedio = np.mean(array)\n",
    "print(\"Promedio de los elementos:\", promedio)\n",
    "\n",
    "max_valor = np.max(array)\n",
    "print(\"Valor máximo:\", max_valor)\n",
    "\n",
    "min_valor = np.min(array)\n",
    "print(\"Valor mínimo:\", min_valor)"
   ]
  },
  {
   "cell_type": "markdown",
   "id": "f9fc17c1",
   "metadata": {},
   "source": [
    "## ¿Qué es un ndarray y cómo acceder a sus elementos?\n",
    "\n",
    "\n",
    "### Definición\n",
    "ndarray es el tipo de array principal en NumPy y significa N-dimensional array. Es una estructura de datos que permite almacenar y operar con matrices de cualquier número de dimensiones (1D, 2D, 3D, etc.).\n",
    "\n",
    "- Puede ser un array de una o más dimensiones.\n",
    "- Soporta operaciones matemáticas eficientes.\n",
    "- Todos los elementos deben ser del mismo tipo (tipado homogéneo).\n",
    "\n"
   ]
  },
  {
   "cell_type": "code",
   "execution_count": 19,
   "id": "3ca25bab",
   "metadata": {},
   "outputs": [
    {
     "name": "stdout",
     "output_type": "stream",
     "text": [
      "Array 2D (matriz):\n",
      "[[1 2 3]\n",
      " [4 5 6]]\n",
      "\n",
      "Elemento en la fila 0, columna 1: 2\n",
      "Fila completa (índice 1): [4 5 6]\n",
      "Columna completa (índice 2): [3 6]\n"
     ]
    }
   ],
   "source": [
    "import numpy as np\n",
    "\n",
    "# Crear un ndarray 2D (matriz)\n",
    "array_2d = np.array([[1, 2, 3], [4, 5, 6]])\n",
    "print(\"Array 2D (matriz):\")\n",
    "print(array_2d)\n",
    "\n",
    "# Acceder al elemento en la fila 0, columna 1\n",
    "elemento = array_2d[0, 1]\n",
    "print(\"\\nElemento en la fila 0, columna 1:\", elemento)\n",
    "\n",
    "# Acceder a una fila completa\n",
    "fila = array_2d[1, :]\n",
    "print(\"Fila completa (índice 1):\", fila)\n",
    "\n",
    "# Acceder a una columna completa\n",
    "columna = array_2d[:, 2]\n",
    "print(\"Columna completa (índice 2):\", columna)\n"
   ]
  },
  {
   "cell_type": "markdown",
   "id": "b7d7ca55",
   "metadata": {},
   "source": [
    "## Comparación: Lista de Python vs NumPy Array\n",
    "\n",
    "\n",
    "### Estructura:\n",
    "- **Listas**: Pueden almacenar diferentes tipos de datos (enteros, flotantes, cadenas).\n",
    "- **Arrays de NumPy**: Almacenan solo un tipo de dato (homogéneos).\n",
    "\n",
    "### Operaciones:\n",
    "- **Listas**: Las operaciones aritméticas no están vectorizadas. Necesitas bucles para operaciones sobre todos los elementos.\n",
    "- **Arrays de NumPy**: Soportan operaciones vectorizadas, como suma, resta o multiplicación, aplicadas a todos los elementos sin necesidad de bucles."
   ]
  },
  {
   "cell_type": "code",
   "execution_count": 20,
   "id": "b7ad4c20",
   "metadata": {},
   "outputs": [
    {
     "name": "stdout",
     "output_type": "stream",
     "text": [
      "Lista original: [1, 2, 3, 4, 5]\n",
      "Lista multiplicada por 2: [2, 4, 6, 8, 10]\n",
      "\n",
      "Array original: [1 2 3 4 5]\n",
      "Array multiplicado por 2: [ 2  4  6  8 10]\n"
     ]
    }
   ],
   "source": [
    "import numpy as np\n",
    "\n",
    "# Comparación de operaciones: Lista vs Array NumPy\n",
    "lista = [1, 2, 3, 4, 5]\n",
    "array = np.array([1, 2, 3, 4, 5])\n",
    "\n",
    "# Multiplicación con listas (necesitamos un bucle)\n",
    "print(\"Lista original:\", lista)\n",
    "lista_resultado = []\n",
    "for elemento in lista:\n",
    "    lista_resultado.append(elemento * 2)\n",
    "print(\"Lista multiplicada por 2:\", lista_resultado)\n",
    "\n",
    "# Multiplicación con arrays (vectorizado)\n",
    "print(\"\\nArray original:\", array)\n",
    "array_resultado = array * 2\n",
    "print(\"Array multiplicado por 2:\", array_resultado)"
   ]
  },
  {
   "cell_type": "markdown",
   "id": "fc03a979",
   "metadata": {},
   "source": [
    "\n",
    "### Velocidad y Memoria:\n",
    "- **Listas**: Son más lentas cuando se manejan grandes volúmenes de datos debido a la naturaleza dinámica y heterogénea de las listas.\n",
    "- **Arrays de NumPy**: Son más rápidos debido a su implementación en C y la optimización de operaciones matemáticas.\n",
    "- **Listas**: Ocupan más memoria porque almacenan tipos de datos diferentes y sus referencias.\n",
    "- **Arrays de NumPy**: Son más eficientes en el uso de memoria, ya que todos los elementos son del mismo tipo.`"
   ]
  },
  {
   "cell_type": "code",
   "execution_count": 31,
   "id": "d7983e4d",
   "metadata": {},
   "outputs": [
    {
     "name": "stdout",
     "output_type": "stream",
     "text": [
      "Comparando rendimiento con 1000000 elementos:\n",
      "Espacio en memoria de la lista: 7.629448 MB\n",
      "Espacio en memoria del array: 3.814697 MB\n",
      "Tiempo para multiplicar lista: 0.087289 segundos\n",
      "Tiempo para multiplicar array: 0.001614 segundos\n",
      "NumPy es aproximadamente 54.1 veces más rápido\n"
     ]
    }
   ],
   "source": [
    "import numpy as np\n",
    "import time\n",
    "import sys\n",
    "\n",
    "# Creamos una lista y un array grande para comparar rendimiento\n",
    "size = 1000000\n",
    "print(f\"Comparando rendimiento con {size} elementos:\")\n",
    "\n",
    "# Crear una lista y un array de NumPy\n",
    "lista_grande = list(range(size))\n",
    "array_grande = np.arange(size)\n",
    "\n",
    "# Espacio en memoria\n",
    "memoria_lista_mb = sys.getsizeof(lista_grande) / (1024 ** 2)\n",
    "print(f\"Espacio en memoria de la lista: {memoria_lista_mb:.6f} MB\")\n",
    "\n",
    "memoria_array_mb = array_grande.nbytes / (1024 ** 2)\n",
    "print(f\"Espacio en memoria del array: {memoria_array_mb:.6f} MB\")\n",
    "\n",
    "# Comparar tiempo de operaciones\n",
    "start_time = time.time()\n",
    "lista_resultado = [x * 2 for x in lista_grande]\n",
    "lista_tiempo = time.time() - start_time\n",
    "print(f\"Tiempo para multiplicar lista: {lista_tiempo:.6f} segundos\")\n",
    "\n",
    "start_time = time.time()\n",
    "array_resultado = array_grande * 2\n",
    "array_tiempo = time.time() - start_time\n",
    "print(f\"Tiempo para multiplicar array: {array_tiempo:.6f} segundos\")\n",
    "\n",
    "# Prevención de división por cero\n",
    "if array_tiempo > 0:\n",
    "    print(f\"NumPy es aproximadamente {lista_tiempo / array_tiempo:.1f} veces más rápido\")\n",
    "else:\n",
    "    print(\"El tiempo para NumPy fue demasiado pequeño para ser medido con precisión.\")\n"
   ]
  },
  {
   "cell_type": "markdown",
   "id": "4c955ba4",
   "metadata": {},
   "source": [
    "# Resumen de algunos métodos más importantes de NumPy\n",
    "\n",
    "## Creación de arrays\n",
    "\n",
    "```python\n",
    "import numpy as np\n",
    "\n",
    "# Array desde una lista\n",
    "array = np.array([1, 2, 3, 4, 5])\n",
    "\n",
    "# Arrays con valores específicos\n",
    "zeros = np.zeros((3, 4))       # Array de ceros (3 filas, 4 columnas)\n",
    "ones = np.ones((2, 3))         # Array de unos\n",
    "full = np.full((2, 2), 7)      # Array lleno con un valor específico (7)\n",
    "identity = np.eye(3)           # Matriz identidad 3x3\n",
    "diagonal = np.diag([1, 2, 3])  # Matriz con valores en la diagonal\n",
    "\n",
    "# Arrays con secuencias\n",
    "range_array = np.arange(0, 10, 2)      # [0, 2, 4, 6, 8]\n",
    "linear_space = np.linspace(0, 1, 5)    # 5 puntos equidistantes entre 0 y 1\n",
    "log_space = np.logspace(0, 2, 5)       # 5 puntos en escala logarítmica entre 10^0 y 10^2\n",
    "\n",
    "# Arrays aleatorios\n",
    "random_uniform = np.random.rand(2, 3)             # Valores entre 0 y 1 (distribución uniforme)\n",
    "random_normal = np.random.randn(2, 3)             # Distribución normal (media 0, desviación 1)\n",
    "random_int = np.random.randint(0, 10, (3, 3))     # Enteros aleatorios entre 0 y 9\n",
    "```\n",
    "\n",
    "## Propiedades de arrays\n",
    "\n",
    "```python\n",
    "a = np.array([[1, 2, 3], [4, 5, 6]])\n",
    "\n",
    "a.shape      # Dimensiones (2, 3)\n",
    "a.ndim       # Número de dimensiones (2)\n",
    "a.size       # Número total de elementos (6)\n",
    "a.dtype      # Tipo de datos (int64, float64, etc.)\n",
    "a.itemsize   # Tamaño en bytes de cada elemento\n",
    "```\n",
    "\n",
    "## Operaciones básicas\n",
    "\n",
    "```python\n",
    "# Operaciones aritméticas\n",
    "a + 2        # Suma escalar a cada elemento\n",
    "a * 3        # Multiplicación por escalar\n",
    "a + b        # Suma elemento a elemento entre arrays\n",
    "a * b        # Multiplicación elemento a elemento\n",
    "\n",
    "# Operaciones matriciales\n",
    "np.dot(a, b)     # Producto matricial\n",
    "a @ b            # Producto matricial (sintaxis Python 3.5+)\n",
    "np.matmul(a, b)  # Producto matricial\n",
    "\n",
    "# Operaciones de comparación\n",
    "a > 2        # Devuelve array booleano\n",
    "np.equal(a, b)   # Compara elemento a elemento\n",
    "```\n",
    "\n",
    "## Indexación y modificación\n",
    "\n",
    "```python\n",
    "# Acceso a elementos\n",
    "a[0, 1]      # Elemento en la fila 0, columna 1\n",
    "a[0, :]      # Primera fila completa\n",
    "a[:, 1]      # Segunda columna completa\n",
    "a[0:2, 1:3]  # Submatriz (filas 0-1, columnas 1-2)\n",
    "\n",
    "# Modificar elementos\n",
    "a[0, 0] = 10         # Cambiar un elemento\n",
    "a[:, 0] = [10, 20]   # Cambiar una columna completa\n",
    "```\n",
    "\n",
    "## Manipulación de forma\n",
    "\n",
    "```python\n",
    "a = np.arange(12)\n",
    "\n",
    "a.reshape(3, 4)      # Cambia la forma a una matriz 3x4\n",
    "a.reshape(3, -1)     # -1 significa \"calcular automáticamente\"\n",
    "a.flatten()          # Convierte en array 1D\n",
    "a.ravel()            # Similar a flatten, pero puede devolver una vista\n",
    "\n",
    "# Agregar/eliminar ejes\n",
    "np.expand_dims(a, axis=0)    # Añade un nuevo eje\n",
    "np.squeeze(a)                # Elimina ejes de dimensión 1\n",
    "\n",
    "# Concatenación y división\n",
    "np.concatenate([a, b], axis=0)   # Une arrays a lo largo de un eje\n",
    "np.vstack([a, b])                # Apila verticalmente \n",
    "np.hstack([a, b])                # Apila horizontalmente\n",
    "np.split(a, 3)                   # Divide en 3 partes iguales\n",
    "```\n",
    "\n",
    "## Operaciones estadísticas\n",
    "\n",
    "```python\n",
    "np.min(a)        # Valor mínimo\n",
    "np.max(a)        # Valor máximo\n",
    "np.mean(a)       # Media aritmética\n",
    "np.median(a)     # Mediana\n",
    "np.std(a)        # Desviación estándar\n",
    "np.var(a)        # Varianza\n",
    "np.sum(a)        # Suma de todos los elementos\n",
    "np.sum(a, axis=0)  # Suma a lo largo del eje 0 (por columna)\n",
    "np.cumsum(a)     # Suma acumulativa\n",
    "np.percentile(a, 75)  # Percentil 75\n",
    "```\n",
    "\n",
    "## Álgebra lineal (np.linalg)\n",
    "\n",
    "```python\n",
    "np.linalg.inv(a)         # Matriz inversa\n",
    "np.linalg.det(a)         # Determinante\n",
    "np.linalg.eig(a)         # Autovalores y autovectores\n",
    "np.linalg.svd(a)         # Descomposición en valores singulares\n",
    "np.linalg.norm(a)        # Norma euclidiana\n",
    "np.linalg.solve(a, b)    # Resolver sistema de ecuaciones lineales Ax = b\n",
    "```\n",
    "\n",
    "## Funciones matemáticas\n",
    "\n",
    "```python\n",
    "np.abs(a)        # Valor absoluto\n",
    "np.sqrt(a)       # Raíz cuadrada\n",
    "np.exp(a)        # Exponencial (e^x)\n",
    "np.log(a)        # Logaritmo natural\n",
    "np.log10(a)      # Logaritmo base 10\n",
    "np.sin(a)        # Seno\n",
    "np.cos(a)        # Coseno\n",
    "np.tan(a)        # Tangente\n",
    "np.round(a, 2)   # Redondeo a 2 decimales\n",
    "np.floor(a)      # Redondeo hacia abajo\n",
    "np.ceil(a)       # Redondeo hacia arriba\n",
    "```\n",
    "\n",
    "## Broadcasting\n",
    "\n",
    "```python\n",
    "# Broadcasting permite operar arrays de diferentes formas\n",
    "a = np.array([[1, 2, 3], [4, 5, 6]])   # Forma (2, 3)\n",
    "b = np.array([10, 20, 30])             # Forma (3,)\n",
    "\n",
    "# NumPy hace broadcasting automáticamente\n",
    "c = a + b     # b es \"expandido\" para coincidir con la forma de a\n",
    "```\n",
    "\n",
    "## Máscaras booleanas\n",
    "\n",
    "```python\n",
    "# Filtrado de elementos\n",
    "mask = a > 2                  # Crea array booleano\n",
    "filtered = a[mask]            # Selecciona solo elementos donde mask es True\n",
    "filtered = a[a > 2]           # Forma compacta\n",
    "\n",
    "# Reemplazo condicional\n",
    "a[a < 0] = 0                  # Reemplaza valores negativos con cero\n",
    "\n",
    "# Funciones with where\n",
    "np.where(a > 2, a, 0)         # Mantiene valores >2, reemplaza otros con 0\n",
    "```\n",
    "\n",
    "## Operaciones de conjunto\n",
    "\n",
    "```python\n",
    "np.unique(a)                  # Valores únicos\n",
    "np.intersect1d(a, b)          # Intersección de dos arrays\n",
    "np.union1d(a, b)              # Unión\n",
    "np.setdiff1d(a, b)            # Diferencia (elementos en a pero no en b)\n",
    "np.in1d(a, b)                 # Comprueba si elementos de a están en b\n",
    "```\n",
    "\n",
    "## Guardar y cargar arrays\n",
    "\n",
    "```python\n",
    "# Guardar\n",
    "np.save('array.npy', a)                     # Formato binario de NumPy\n",
    "np.savez('arrays.npz', x=a, y=b)            # Múltiples arrays en un archivo\n",
    "np.savetxt('array.csv', a, delimiter=',')   # Formato texto\n",
    "\n",
    "# Cargar\n",
    "loaded_array = np.load('array.npy')\n",
    "arrays = np.load('arrays.npz')              # Devuelve objeto tipo diccionario\n",
    "from_text = np.loadtxt('array.csv', delimiter=',')\n",
    "```"
   ]
  },
  {
   "cell_type": "markdown",
   "id": "c8e3e72d",
   "metadata": {},
   "source": []
  }
 ],
 "metadata": {
  "kernelspec": {
   "display_name": "Python 3",
   "language": "python",
   "name": "python3"
  },
  "language_info": {
   "codemirror_mode": {
    "name": "ipython",
    "version": 3
   },
   "file_extension": ".py",
   "mimetype": "text/x-python",
   "name": "python",
   "nbconvert_exporter": "python",
   "pygments_lexer": "ipython3",
   "version": "3.12.3"
  }
 },
 "nbformat": 4,
 "nbformat_minor": 5
}
