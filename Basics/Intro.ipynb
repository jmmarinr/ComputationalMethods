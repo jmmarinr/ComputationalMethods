{
 "cells": [
  {
   "cell_type": "code",
   "execution_count": 4,
   "id": "1dc5a297",
   "metadata": {},
   "outputs": [],
   "source": [
    "import numpy as np\n",
    "import matplotlib.pyplot as plt"
   ]
  },
  {
   "cell_type": "markdown",
   "id": "99473323",
   "metadata": {},
   "source": [
    "# Introducción a Python"
   ]
  },
  {
   "cell_type": "markdown",
   "id": "60acbecc",
   "metadata": {},
   "source": [
    "## Variables"
   ]
  },
  {
   "cell_type": "code",
   "execution_count": 5,
   "id": "5261c282",
   "metadata": {},
   "outputs": [],
   "source": [
    "x = 1 # Entero\n",
    "y = 2.0 # Flotante\n",
    "z = 3 + 4j # Complejo"
   ]
  },
  {
   "cell_type": "code",
   "execution_count": 6,
   "id": "edc695ef",
   "metadata": {},
   "outputs": [
    {
     "name": "stdout",
     "output_type": "stream",
     "text": [
      "Entero x: 1\n",
      "Flotante y: 2.0\n",
      "Complejo z: (3+4j)\n"
     ]
    }
   ],
   "source": [
    "print('Entero x:', x)\n",
    "print('Flotante y:', y)\n",
    "print('Complejo z:', z)"
   ]
  },
  {
   "cell_type": "code",
   "execution_count": null,
   "id": "5a075001",
   "metadata": {},
   "outputs": [],
   "source": []
  }
 ],
 "metadata": {
  "kernelspec": {
   "display_name": "Python 3",
   "language": "python",
   "name": "python3"
  },
  "language_info": {
   "codemirror_mode": {
    "name": "ipython",
    "version": 3
   },
   "file_extension": ".py",
   "mimetype": "text/x-python",
   "name": "python",
   "nbconvert_exporter": "python",
   "pygments_lexer": "ipython3",
   "version": "3.13.1"
  }
 },
 "nbformat": 4,
 "nbformat_minor": 5
}
