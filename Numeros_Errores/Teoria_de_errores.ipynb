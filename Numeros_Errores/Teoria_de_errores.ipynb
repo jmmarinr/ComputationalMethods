{
  "cells": [
    {
      "cell_type": "code",
      "execution_count": 1,
      "metadata": {
        "cellView": "form",
        "id": "sdqB3OM8JW5N"
      },
      "outputs": [],
      "source": [
        "#@title Librerias\n",
        "import numpy as np\n",
        "import matplotlib.pyplot as plt\n",
        "import math\n",
        "import sympy as sp\n",
        "from sympy import init_printing\n",
        "init_printing()\n"
      ]
    },
    {
      "cell_type": "markdown",
      "metadata": {
        "id": "ULzRSO3DPEV2"
      },
      "source": [
        "# Teoría de errores en computación\n",
        "\n",
        "---\n",
        "### Profesor: Juan Marcos Marín\n",
        "\n",
        "---"
      ]
    },
    {
      "cell_type": "markdown",
      "metadata": {
        "id": "o80qXYyxJX2D"
      },
      "source": [
        "\n",
        "\n",
        "# Underflow y Overflow\n",
        "\n",
        "**Underflow** y **overflow** son conceptos relacionados con la representación de números en computadoras, especialmente en aritmética de punto flotante y enteros. El rango de un doble (64 bits) está en el intervalo $10^{-322} < x < 10^{308}$, es decir,  cualquier número fuera de este rango necesita más de 64 bits para ser representado, si $x$ es muy grande hay *overflow* y si es muy pequeño hay *underflow*.\n",
        "\n",
        "Si hay *overflow* `python` imprime `inf` que significa infinito y si hay underflow python imprime `0.0`.\n",
        "\n",
        "## Overflow\n",
        "\n",
        "**Overflow** ocurre cuando un cálculo produce un número que es más grande que el valor máximo que puede ser representado en un tipo de dato específico.\n",
        "\n",
        "### Ejemplo de Overflow en Python\n",
        "\n",
        "```python\n",
        "import numpy as np\n",
        "\n",
        "max_value = np.finfo(np.float16).max\n",
        "overflow_result = np.float16(max_value * 2)\n",
        "print(f\"Resultado del overflow: {overflow_result}\")\n"
      ]
    },
    {
      "cell_type": "code",
      "execution_count": 2,
      "metadata": {
        "colab": {
          "base_uri": "https://localhost:8080/"
        },
        "id": "3oPy2sKhKBaN",
        "outputId": "f04f4567-2681-48f0-d0b2-b0c4bf5110c9"
      },
      "outputs": [
        {
          "name": "stdout",
          "output_type": "stream",
          "text": [
            "Resultado del overflow: inf\n"
          ]
        },
        {
          "name": "stderr",
          "output_type": "stream",
          "text": [
            "/var/folders/5w/ny11d5qd64l4wnm6y_8w4wk80000gn/T/ipykernel_8259/3637204658.py:2: RuntimeWarning: overflow encountered in scalar multiply\n",
            "  overflow_result = np.float128(max_value * 2)\n"
          ]
        }
      ],
      "source": [
        "max_value = np.finfo(np.float32).max\n",
        "overflow_result = np.float128(max_value * 2)\n",
        "print(f\"Resultado del overflow: {overflow_result}\")"
      ]
    },
    {
      "cell_type": "markdown",
      "metadata": {
        "id": "JL8exDF1JbH6"
      },
      "source": [
        "## Underflow\n",
        "\n",
        "**Underflow** ocurre cuando un cálculo produce un número que es más pequeño que el valor mínimo representable en un tipo de dato específico, especialmente en la aritmética de punto flotante. En este caso, el número puede ser redondeado a cero o al valor más cercano que se puede representar.\n",
        "\n",
        "### Ejemplo de Underflow en Python\n",
        "\n",
        "### Código\n",
        "\n",
        "```python\n",
        "import numpy as np\n",
        "\n",
        "small_value = np.float32(1e-45)  # Un valor muy pequeño\n",
        "underflow_result = np.float32(small_value / 10)  # Dividiendo por un número grande\n",
        "print(f\"Resultado del underflow: {underflow_result}\")  # Salida: 0.0\n"
      ]
    },
    {
      "cell_type": "code",
      "execution_count": 3,
      "metadata": {
        "colab": {
          "base_uri": "https://localhost:8080/"
        },
        "id": "suPFDyzyK8qq",
        "outputId": "2abb5d2d-855c-48bf-842c-1e955856b834"
      },
      "outputs": [
        {
          "name": "stdout",
          "output_type": "stream",
          "text": [
            "Resultado del underflow: 0.0\n"
          ]
        }
      ],
      "source": [
        "small_value = np.float32(1e-45)  # Un valor muy pequeño\n",
        "underflow_result = np.float64(small_value / 10)  # Dividiendo por un número grande\n",
        "print(f\"Resultado del underflow: {underflow_result}\")  # Salida: 0.0"
      ]
    },
    {
      "cell_type": "markdown",
      "metadata": {
        "id": "qlpK3AfSOEOE"
      },
      "source": [
        "# Epsilon de la Máquina\n",
        "\n",
        "El **epsilon de la máquina** (a menudo denotado como $\\epsilon$) es un valor que representa la diferencia más pequeña entre 1 y el siguiente número que se puede representar en un sistema numérico en punto flotante. En otras palabras, es la cantidad más pequeña que, al sumarse a 1, produce un resultado distinto de 1. Este valor es fundamental en la aritmética de punto flotante y es crucial para comprender la precisión y la representación de números en las computadoras.\n",
        "\n",
        "## Importancia del Epsilon de la Máquina\n",
        "\n",
        "1. **Precisión Numérica**:\n",
        "   - El epsilon de la máquina ayuda a determinar la precisión de los cálculos en un sistema numérico. Permite entender cuán cerca pueden estar los resultados de los cálculos respecto a los valores reales.\n",
        "\n",
        "2. **Control de Errores**:\n",
        "   - Al conocer el epsilon, los programadores pueden establecer umbrales para determinar si dos números son \"suficientemente cercanos\" para ser considerados iguales. Esto es especialmente útil en aplicaciones donde la precisión es crítica, como en cálculos científicos o financieros.\n",
        "\n",
        "3. **Estabilidad Numérica**:\n",
        "   - El epsilon de la máquina es una medida de la estabilidad numérica de un algoritmo. Un algoritmo que produce errores en comparación con el epsilon puede ser inestable y no confiable.\n",
        "\n",
        "4. **Comparaciones de Números**:\n",
        "   - Permite realizar comparaciones entre números en punto flotante de manera más efectiva. En lugar de usar comparaciones directas (que pueden fallar debido a la imprecisión), se pueden usar comparaciones relativas con el epsilon.\n",
        "\n",
        "## Ejemplo\n",
        "\n",
        "```python\n",
        "import numpy as np\n",
        "\n",
        "# Epsilon de la máquina para float32\n",
        "epsilon_float32 = np.finfo(np.float32).eps\n",
        "print(f\"Epsilon de la máquina (float32): {epsilon_float32}\")\n",
        "\n",
        "# Epsilon de la máquina para float64\n",
        "epsilon_float64 = np.finfo(np.float64).eps\n",
        "print(f\"Epsilon de la máquina (float64): {epsilon_float64}\")\n"
      ]
    },
    {
      "cell_type": "code",
      "execution_count": 4,
      "metadata": {
        "colab": {
          "base_uri": "https://localhost:8080/"
        },
        "id": "x2GqsTo8OE19",
        "outputId": "2585a4eb-7987-4291-b2ee-b8f65beb0010"
      },
      "outputs": [
        {
          "name": "stdout",
          "output_type": "stream",
          "text": [
            "Epsilon de la máquina (float32): 1.1920928955078125e-07\n",
            "Epsilon de la máquina (float64): 2.220446049250313e-16\n"
          ]
        }
      ],
      "source": [
        "# Epsilon de la máquina para float32\n",
        "epsilon_float32 = np.finfo(np.float32).eps\n",
        "print(f\"Epsilon de la máquina (float32): {epsilon_float32}\")\n",
        "\n",
        "# Epsilon de la máquina para float64\n",
        "epsilon_float64 = np.finfo(np.float64).eps\n",
        "print(f\"Epsilon de la máquina (float64): {epsilon_float64}\")"
      ]
    },
    {
      "cell_type": "markdown",
      "metadata": {
        "id": "bS1ElKOqOfnQ"
      },
      "source": [
        "## Ejemplo Numérico\n",
        "\n",
        "Supongamos que tenemos el epsilon de la máquina para un tipo de dato de punto flotante de precisión simple (`float32`) que es aproximadamente $1.1920929 \\times 10^{-7}$.\n",
        "\n",
        "1. **Valor de Epsilon**:\n",
        "   $$\\epsilon \\approx 1.1920929 \\times 10^{-7}$$\n",
        "\n",
        "2. **Suma con 1**:\n",
        "   - Si sumamos $\\epsilon$ a 1:\n",
        "   $$1 + \\epsilon \\approx 1 + 1.1920929 \\times 10^{-7} \\approx 1.00000011920929$$\n",
        "   - Este resultado es diferente de 1.\n",
        "\n",
        "3. **Comparación sin Epsilon**:\n",
        "   - Si sumamos un número menor que $\\epsilon$ a 1:\n",
        "   $$1 + \\frac{\\epsilon}{2} \\approx 1 + 5.9604645 \\times 10^{-8} \\approx 1.000000059604645$$\n",
        "   - En este caso, el resultado es considerado como 1, ya que no supera el umbral de precisión.\n",
        "\n",
        "## Comparaciones Prácticas\n",
        "\n",
        "- **Cálculo Exacto**:\n",
        "  - $x = 1 + \\epsilon$ se puede considerar como **diferente** de 1.\n",
        "  \n",
        "- **Cálculo Inexacto**:\n",
        "  - $y = 1 + \\frac{\\epsilon}{2}$ se considera como **igual a** 1.\n",
        "\n",
        "En aplicaciones donde se requiere alta precisión, conocer el epsilon de la máquina permite implementar controles de errores adecuados.\n"
      ]
    },
    {
      "cell_type": "code",
      "execution_count": 5,
      "metadata": {
        "colab": {
          "base_uri": "https://localhost:8080/"
        },
        "id": "UeCKmiuZOiGn",
        "outputId": "a4c00cfb-4982-4609-e81d-3ce772dc6984"
      },
      "outputs": [
        {
          "name": "stdout",
          "output_type": "stream",
          "text": [
            "El epsilon de la máquina es 1.0842021724855044e-19\n",
            "##################################################\n",
            "a = 1.00\n",
            "b = 1.00\n",
            "a es igual a b (comparación directa)\n",
            "a es igual a b (comparación relativa)\n"
          ]
        }
      ],
      "source": [
        "# Epsilon de la máquina\n",
        "epsilon = np.finfo(np.float128).eps\n",
        "\n",
        "print(f'El epsilon de la máquina es {epsilon}')\n",
        "print(50*'#')\n",
        "# Dos números que deberían ser iguales\n",
        "a = 1.0\n",
        "print(f'a = {a:.2f}')\n",
        "b = 1.0 + epsilon/2\n",
        "print(f'b = {b:.2f}')\n",
        "\n",
        "\n",
        "# Comparación directa\n",
        "if a == b:\n",
        "    print(\"a es igual a b (comparación directa)\")\n",
        "else:\n",
        "    print(\"a no es igual a b (comparación directa)\")\n",
        "\n",
        "\n",
        "# Comparación relativa\n",
        "if abs(a - b) < epsilon:\n",
        "    print(\"a es igual a b (comparación relativa)\")\n",
        "else:\n",
        "    print(\"a no es igual a b (comparación relativa)\")\n",
        "\n"
      ]
    },
    {
      "cell_type": "code",
      "execution_count": 6,
      "metadata": {
        "colab": {
          "base_uri": "https://localhost:8080/"
        },
        "id": "wrlxwOWqP7Sa",
        "outputId": "764219d1-ddf6-45ac-eb14-b8f8e9fa656f"
      },
      "outputs": [
        {
          "name": "stdout",
          "output_type": "stream",
          "text": [
            "El resultado no es 1.0, es: 1.000000000007918\n"
          ]
        }
      ],
      "source": [
        "# Epsilon de la máquina para float64\n",
        "epsilon = np.finfo(float).eps\n",
        "\n",
        "# Sumar 1e-6 un millón de veces\n",
        "result = 0.0\n",
        "for i in range(1000000):\n",
        "    result += 1e-6\n",
        "\n",
        "# Verificar si el resultado es aproximadamente igual a 1\n",
        "if abs(result - 1.0) < epsilon:\n",
        "    print(\"El resultado es aproximadamente 1.0\")\n",
        "else:\n",
        "    print(f\"El resultado no es 1.0, es: {result}\")\n"
      ]
    },
    {
      "cell_type": "markdown",
      "metadata": {
        "id": "hP6SicSKSuOR"
      },
      "source": [
        "# ¿Por qué 0.7 + 0.6 no es igual a 1.3?\n",
        "\n",
        "El motivo por el cual la suma de `0.7 + 0.6` en algunas ocasiones **no es exactamente igual a 1.3** en los cálculos de las computadoras se debe a las **limitaciones de la representación en punto flotante**.\n",
        "\n",
        "## Representación de Números en Punto Flotante\n",
        "\n",
        "Las computadoras representan los números en punto flotante utilizando el estándar **IEEE 754**, que almacena los números como una combinación de bits para la mantisa, el exponente y el signo. Esto permite representar un rango muy amplio de números, pero **no todos los números decimales pueden representarse con exactitud** debido a la naturaleza binaria de los sistemas de cómputo.\n",
        "\n",
        "- **Números como 0.7 y 0.6 no tienen una representación exacta en binario.** Son valores periódicos en binario, lo que significa que se almacenan con una aproximación.\n",
        "  \n",
        "Por ejemplo:\n",
        "- `0.7` en binario es aproximadamente:\n",
        "\n",
        "$$0.1011001100110011\\ldots$$\n",
        "\n",
        "- `0.6` en binario es aproximadamente:\n",
        "  \n",
        "$$0.1001100110011001\\ldots$$\n",
        "\n",
        "  Ambos son valores periódicos que no pueden ser representados exactamente en un número finito de bits. Como resultado, **al sumar estos valores, el resultado también es una aproximación**.\n",
        "\n"
      ]
    },
    {
      "cell_type": "code",
      "execution_count": 7,
      "metadata": {
        "colab": {
          "base_uri": "https://localhost:8080/"
        },
        "id": "UyRBVC2VSQN_",
        "outputId": "8e5694ce-0a76-48bd-9d39-32b6ae83b49a"
      },
      "outputs": [
        {
          "name": "stdout",
          "output_type": "stream",
          "text": [
            "False\n",
            "1.2999999999999998\n",
            "1.3\n"
          ]
        }
      ],
      "source": [
        "a = 0.7\n",
        "b = 0.6\n",
        "c = 1.3\n",
        "\n",
        "print(a + b == c)   # Verifica si 0.7 + 0.6 es igual a 1.3\n",
        "print(a + b)        # Imprime el resultado de 0.7 + 0.6\n",
        "print(c)            # Imprime 1.3"
      ]
    },
    {
      "cell_type": "code",
      "execution_count": 8,
      "metadata": {
        "colab": {
          "base_uri": "https://localhost:8080/"
        },
        "id": "F1Hd92QFTbgb",
        "outputId": "4db6a8cd-94c6-40c6-9f99-c9afb30f1353"
      },
      "outputs": [
        {
          "name": "stdout",
          "output_type": "stream",
          "text": [
            "El epsilon de la máquina es 2.220446049250313e-16\n",
            "##################################################\n",
            "0.7 + 0.6 es aproximadamente igual a 1.3 con tolerancia 1e-15\n",
            "0.7 + 0.6 no es igual a 1.3, es: 1.2999999999999998\n"
          ]
        }
      ],
      "source": [
        "# Epsilon de la máquina\n",
        "epsilon = np.finfo(float).eps\n",
        "print(f'El epsilon de la máquina es {epsilon}')\n",
        "print(50*'#')\n",
        "\n",
        "# Margen de tolerancia (epsilon) adecuado\n",
        "tolerancia = 1e-15\n",
        "\n",
        "\n",
        "# Sumar 0.7 + 0.6\n",
        "resultado = 0.7 + 0.6\n",
        "esperado = 1.3\n",
        "\n",
        "# Comparar con una tolerancia adecuada\n",
        "if abs(resultado - esperado) < tolerancia:\n",
        "    print(f\"0.7 + 0.6 es aproximadamente igual a 1.3 con tolerancia {tolerancia}\")\n",
        "else:\n",
        "    print(f\"0.7 + 0.6 no es igual a 1.3, es: {resultado}\")\n",
        "\n",
        "# Comparar con el epsilon\n",
        "if abs(resultado - esperado) < epsilon:\n",
        "    print(\"0.7 + 0.6 es aproximadamente igual a 1.3\")\n",
        "else:\n",
        "    print(f\"0.7 + 0.6 no es igual a 1.3, es: {resultado}\")\n",
        "\n"
      ]
    },
    {
      "cell_type": "markdown",
      "metadata": {
        "id": "sme7YAGlmbfA"
      },
      "source": [
        "# Errores de Aproximación\n",
        "\n",
        "Los errores de aproximación ocurren cuando usamos una estimación o aproximación en lugar de un valor exacto en cálculos o mediciones. Estos errores son a menudo inevitables debido a limitaciones en la precisión, recursos computacionales o la naturaleza del problema en sí.\n",
        "\n",
        "Hay dos tipos principales de errores de aproximación:\n",
        "\n",
        "1. **Error Absoluto**: La diferencia entre el valor exacto y la aproximación.\n",
        "   \n",
        "   $$\\text{Error Absoluto} = |\\text{Valor Exacto} - \\text{Aproximación}|$$\n",
        "\n",
        "2. **Error Relativo**: La proporción del error absoluto respecto al valor exacto, a menudo expresado como porcentaje (error porcentual $\\times 100\\%$).\n",
        "   \n",
        "   $$\\text{Error Relativo} = \\left(\\frac{|\\text{Valor Exacto} - \\text{Aproximación}|}{\\text{|Valor Exacto|}}\\right) $$\n",
        "\n",
        "3. **Error en series**: El error para truncar una serie se toma como\n",
        "\\begin{equation*}\n",
        "\\epsilon_{aprox}= \\left|\\frac{nth\\hbox{-term}}{\\hbox{suma}}\\right|< \\hbox{eps}\n",
        "\\end{equation*}\n",
        "La tolerancia normalmente se toma como un número pequeño, por ejemplo `eps` $=10^{-10}$. Note que no se trunca la serie usando $|{nth}\\hbox{-term}|<$ eps,   usar esta forma puede conducir a errores debido a que no se compara con el valor de la suma (un millón comparado a uno es grande, pero comparado a diez mil millones es pequeño).\n",
        "\n",
        "#### Ejemplo\n",
        "\n",
        "Consideremos la aproximación de π usando una fracción simple:\n",
        "\n",
        "* Valor exacto de π ≈ 3.14159265359...\n",
        "* Aproximación: 22/7 ≈ 3.14285714286...\n",
        "\n",
        "* Error Absoluto = |3.14159265359 - 3.14285714286| ≈ 0.00126448927\n",
        "\n",
        "* Error Relativo = (0.00126448927 / 3.14159265359) * 100% ≈ 0.0402%\n",
        "\n",
        "Esto significa que nuestra aproximación de π como 22/7 tiene un error absoluto de aproximadamente 0.00126 y un error relativo de aproximadamente 0.0402%.\n",
        "\n"
      ]
    },
    {
      "cell_type": "markdown",
      "metadata": {
        "id": "iUeRHTtDv9mv"
      },
      "source": [
        "### Ejemplo con Serie de π\n",
        "\n",
        "La serie de Leibniz es una serie infinita que converge a $\\pi/4$. Se expresa como:\n",
        "\n",
        "$\\pi/4 = 1 - 1/3 + 1/5 - 1/7 + 1/9 - 1/11 + ...$\n",
        "\n",
        "O en forma más general:\n",
        "\n",
        "$$\\frac{\\pi}{4} = \\sum_{n=0}^{\\infty} \\frac{(-1)^n}{(2n + 1)}$$\n",
        "\n",
        "Para obtener $\\pi$, multiplicamos el resultado por 4.\n",
        "\n",
        "## Ejemplo: Aproximación de π\n",
        "\n",
        "Calcularemos $\\pi$ usando diferentes números de términos de la serie de Leibniz y analizaremos el error de aproximación.\n",
        "\n",
        "Valor real de $\\pi \\approx 3.141592653589793\\ldots$\n",
        "\n",
        "Observaciones:\n",
        "1. La serie de Leibniz converge muy lentamente a $\\pi$. Incluso con 100,000 términos, el error relativo sigue siendo del orden de 0.0003%.\n",
        "2. Con 10 términos, tenemos un error relativo de más del 3%.\n",
        "3. Cada vez que multiplicamos por 10 el número de términos, ganamos aproximadamente un decimal de precisión.\n",
        "4. Esta convergencia lenta ilustra por qué, aunque la serie de Leibniz es matemáticamente elegante, no es práctica para calcular $\\pi$ con alta precisión en aplicaciones reales.\n",
        "\n"
      ]
    },
    {
      "cell_type": "code",
      "execution_count": 9,
      "metadata": {
        "colab": {
          "base_uri": "https://localhost:8080/"
        },
        "id": "KgurZEB7TfGs",
        "outputId": "ce080745-2386-45e8-b2b6-308c9aeaa0f8"
      },
      "outputs": [
        {
          "name": "stdout",
          "output_type": "stream",
          "text": [
            "Valor real de π: 3.1415926536\n",
            "\n",
            "Número de términos: 10\n",
            "Aproximación de π: 3.0418396189\n",
            "Error Absoluto: 0.0997530347\n",
            "Error Relativo: 3.17523771%\n",
            "\n",
            "Número de términos: 100\n",
            "Aproximación de π: 3.1315929036\n",
            "Error Absoluto: 0.0099997500\n",
            "Error Relativo: 0.31830193%\n",
            "\n",
            "Número de términos: 1000\n",
            "Aproximación de π: 3.1405926538\n",
            "Error Absoluto: 0.0009999997\n",
            "Error Relativo: 0.03183098%\n",
            "\n",
            "Número de términos: 10000\n",
            "Aproximación de π: 3.1414926536\n",
            "Error Absoluto: 0.0001000000\n",
            "Error Relativo: 0.00318310%\n",
            "\n",
            "Número de términos: 100000\n",
            "Aproximación de π: 3.1415826536\n",
            "Error Absoluto: 0.0000100000\n",
            "Error Relativo: 0.00031831%\n",
            "\n"
          ]
        }
      ],
      "source": [
        "def aproximar_pi(n_terminos):\n",
        "    suma = 0\n",
        "    for n in range(n_terminos):\n",
        "        termino = (-1)**n / (2*n + 1)\n",
        "        suma += termino\n",
        "    return 4 * suma\n",
        "\n",
        "def calcular_errores(n_terminos):\n",
        "    valor_real = math.pi\n",
        "    aproximacion = aproximar_pi(n_terminos)\n",
        "    error_absoluto = abs(valor_real - aproximacion)\n",
        "    error_relativo = (error_absoluto / valor_real) * 100\n",
        "\n",
        "    print(f\"Número de términos: {n_terminos}\")\n",
        "    print(f\"Aproximación de π: {aproximacion:.10f}\")\n",
        "    print(f\"Error Absoluto: {error_absoluto:.10f}\")\n",
        "    print(f\"Error Relativo: {error_relativo:.8f}%\")\n",
        "    print()\n",
        "\n",
        "print(f\"Valor real de π: {math.pi:.10f}\")\n",
        "print()\n",
        "\n",
        "# Calcular errores para diferentes números de términos\n",
        "for n in [10, 100, 1000, 10000, 100000]:\n",
        "    calcular_errores(n)"
      ]
    },
    {
      "cell_type": "markdown",
      "metadata": {},
      "source": [
        "## Convergencia\n",
        "\n",
        "La tolerancia puede ser usado como un criterio para evaluar la convergencia de nuestra aproximación, ya que recordemos, nuestros métodos al ser númericos deben tener un límite de precisión asociada a la representación númerica utilizada"
      ]
    },
    {
      "cell_type": "code",
      "execution_count": 29,
      "metadata": {},
      "outputs": [
        {
          "data": {
            "image/png": "[encoded data removed]",
            "text/plain": [
              "<Figure size 640x480 with 2 Axes>"
            ]
          },
          "metadata": {},
          "output_type": "display_data"
        }
      ],
      "source": [
        "def calcular_pi_historia(tolerancia):\n",
        "  \"\"\"\n",
        "  Calcula el valor de pi usando la serie de Leibniz y guarda los valores\n",
        "  intermedios en una lista.\n",
        "  \"\"\"\n",
        "  # Inicializa la suma y el contador de términos\n",
        "\n",
        "  suma = 0\n",
        "  n = 0\n",
        "  # Lista para almacenar los valores de pi\n",
        "  valor_pi = []\n",
        "  while True:\n",
        "    # Calcula el término de la serie\n",
        "    termino = (-1)**n / (2*n + 1)\n",
        "    # Actualiza la suma\n",
        "    suma += termino\n",
        "    # Almacena el valor de pi\n",
        "    valor_pi.append(4 * suma)\n",
        "    # Verifica si el término es menor que la tolerancia\n",
        "    if abs(termino/suma) < tolerancia:\n",
        "      break\n",
        "    # Si no se cumple la tolerancia, incrementa el contador continuando al siguiente término\n",
        "    n += 1\n",
        "  return 4 * suma, n, valor_pi\n",
        "\n",
        "# Definimos la tolerancia\n",
        "tol = 1e-5\n",
        "\n",
        "# Calculamos el valor de pi y la cantidad de términos necesarios\n",
        "valor, n, anteriores = calcular_pi_historia(tol)\n",
        "\n",
        "# Graficamos los resultados\n",
        "figs, axs = plt.subplots(1, 2)\n",
        "\n",
        "axs[0].plot(range(n+1), anteriores, label = f'{n} terminos')\n",
        "axs[0].legend()\n",
        "axs[0].set_ylabel('Valor de $\\\\pi$')\n",
        "axs[0].set_xlabel('Iteraciones (n)')\n",
        "axs[0].axhline(np.pi, color = 'red')\n",
        "axs[0].grid()\n",
        "\n",
        "axs[1].plot(range(n+1), anteriores)\n",
        "axs[1].set_ylabel('Valor de $\\\\pi$')\n",
        "axs[1].set_xlabel('Iteraciones (n)')\n",
        "axs[1].set_xlim(0, 100)\n",
        "axs[1].axhline(np.pi, color = 'red')\n",
        "axs[1].grid()\n",
        "\n",
        "figs.suptitle(f'Valor de π: {valor:.10f} con tolerancia {tol}')\n",
        "plt.tight_layout()\n",
        "plt.show()\n",
        "\n"
      ]
    },
    {
      "cell_type": "markdown",
      "metadata": {},
      "source": [
        "## Truncamiento de la serie\n",
        "\n",
        "En ocasiones alcanzar la convergencia deseada (dentro de cierta tolerancia), se hace una tarea compleja y computacionalmente costosa. Es por esto, que podemos definir un criterio de truncamiento que no exceda el número máximo de iteraciones (ciclos o términos) que queremos computar. Con esto, podemos controlar la eficiencia y el tiempo asociado a nuestros algoritmos."
      ]
    },
    {
      "cell_type": "code",
      "execution_count": 31,
      "metadata": {},
      "outputs": [
        {
          "name": "stdout",
          "output_type": "stream",
          "text": [
            "El valor de pi es 3.1415925535897915 con 10000000 términos\n"
          ]
        }
      ],
      "source": [
        "def calcular_pi_truncado(tolerancia, max_iteraciones):\n",
        "  '''\n",
        "    Calcula el valor de pi usando la serie de Leibniz y guarda los valores\n",
        "    intermedios en una lista. Se detiene cuando el término es menor que la\n",
        "    tolerancia o se alcanza el número máximo de iteraciones.\n",
        "    Parámetros:\n",
        "    tolerancia: La tolerancia para detener el cálculo.\n",
        "    max_iteraciones: El número máximo de iteraciones a realizar.\n",
        "    Devuelve:\n",
        "    - El valor aproximado de pi.\n",
        "    - Una lista con los valores intermedios de pi.\n",
        "  '''\n",
        "  suma = 0\n",
        "  n = 0\n",
        "  valores_pi = []\n",
        "  termino_ant = 0\n",
        "  # Bucle para calcular los términos de la serie\n",
        "  while n < max_iteraciones:\n",
        "    termino = (-1)**n / (2*n + 1)\n",
        "    suma += termino\n",
        "    valores_pi.append(4 * suma)\n",
        "    # Verifica si el término es menor que la tolerancia\n",
        "    if n > 0 and abs(termino - termino_ant) < tolerancia:\n",
        "      break\n",
        "    # Si no se cumple la tolerancia, incrementa el contador continuando al siguiente término\n",
        "    # y guarda el término anterior\n",
        "    termino_ant = termino\n",
        "    n += 1\n",
        "  return 4 * suma, valores_pi\n",
        "\n",
        "valor, anteriores = calcular_pi_truncado(1e-8, 10000000)\n",
        "print(f'El valor de pi es {valor} con {len(anteriores)} términos')"
      ]
    },
    {
      "cell_type": "markdown",
      "metadata": {},
      "source": [
        "## Actividad en clase\n",
        "\n",
        "La serie de Taylor para la función seno ($\\sin(x)$) centrada en $a=0$ (también conocida como la serie de Maclaurin) se expresa de la siguiente manera:\n",
        "\n",
        "$$\\sin(x) = \\sum_{n=0}^{\\infty} \\frac{(-1)^n}{(2n+1)!} x^{2n+1} = x - \\frac{x^3}{3!} + \\frac{x^5}{5!} - \\frac{x^7}{7!} + \\cdots$$\n",
        "\n",
        "* Encontrar la aproximación para $x = \\pi/4$ cambiando el valor de tolerancia, ¿Qué puede concluir de la serie?\n",
        "* Hallar el error relativo y porcentual.\n",
        "* Grafique los valores asociados a la serie después de cada iteración.\n",
        "* Repita para la serie:\n",
        "$$\\ln(1+x) = \\sum_{n=1}^{\\infty} \\frac{(-1)^{n-1}}{n} x^n$$"
      ]
    },
    {
      "cell_type": "markdown",
      "metadata": {
        "id": "mJwEwPcqon1u"
      },
      "source": [
        "### Ejemplo con Serie Exponencial\n",
        "\n",
        "La función exponencial $e^x$ puede ser aproximada mediante su serie de Taylor:\n",
        "\n",
        "$$e^x = 1 + x + x^2/2! + x^3/3! + x^4/4! + ...$$\n",
        "\n",
        "En la práctica, truncamos esta serie infinita para obtener una aproximación. El error de aproximación surge de este truncamiento.\n",
        "\n",
        "* Aproximación de $e^1$\n",
        "\n",
        "Calcularemos $e^1$ usando diferentes números de términos de la serie y analizaremos el error.\n",
        "\n",
        "Valor real de $e^1 ≈ 2.71828182845904$\n",
        "\n",
        "Observaciones:\n",
        "1. A medida que aumentamos el número de términos, la aproximación mejora significativamente.\n",
        "2. Con solo 2 términos, tenemos un error relativo de más del 26%.\n",
        "3. Al usar 10 términos, el error relativo se reduce a menos del 0.00002%.\n",
        "4. La convergencia es rápida para $e^1$, pero para valores más grandes de $x$, se necesitarían más términos para lograr la misma precisión.\n",
        "\n",
        "\n",
        "Usualmente $\\pi$ se calcula usando el [Algoritmo de Chudnovsky](https://es.wikipedia.org/wiki/Algoritmo_de_Chudnovsky)\n",
        "\n"
      ]
    },
    {
      "cell_type": "code",
      "execution_count": 11,
      "metadata": {
        "colab": {
          "base_uri": "https://localhost:8080/"
        },
        "id": "kLon0HGNmvqv",
        "outputId": "5efbd59c-24d1-4259-951b-70881f94201c"
      },
      "outputs": [
        {
          "name": "stdout",
          "output_type": "stream",
          "text": [
            "Valor real de e^1: 2.7182818285\n",
            "\n",
            "Número de términos: 2\n",
            "Aproximación: 2.0000000000\n",
            "Error Absoluto: 0.7182818285\n",
            "Error Relativo: 26.42411177%\n",
            "\n",
            "Número de términos: 3\n",
            "Aproximación: 2.5000000000\n",
            "Error Absoluto: 0.2182818285\n",
            "Error Relativo: 8.03013971%\n",
            "\n",
            "Número de términos: 5\n",
            "Aproximación: 2.7083333333\n",
            "Error Absoluto: 0.0099484951\n",
            "Error Relativo: 0.36598468%\n",
            "\n",
            "Número de términos: 10\n",
            "Aproximación: 2.7182815256\n",
            "Error Absoluto: 0.0000003029\n",
            "Error Relativo: 0.00001114%\n",
            "\n"
          ]
        }
      ],
      "source": [
        "def factorial(n):\n",
        "    if n == 0 or n == 1:\n",
        "        return 1\n",
        "    return n * factorial(n-1)\n",
        "\n",
        "def aproximar_exp(x, n_terminos):\n",
        "    aproximacion = sum(x**i / factorial(i) for i in range(n_terminos))\n",
        "    return aproximacion\n",
        "\n",
        "def calcular_errores(x, n_terminos):\n",
        "    valor_real = math.exp(x)\n",
        "    aproximacion = aproximar_exp(x, n_terminos)\n",
        "    error_absoluto = abs(valor_real - aproximacion)\n",
        "    error_relativo = (error_absoluto / valor_real) * 100\n",
        "\n",
        "    print(f\"Número de términos: {n_terminos}\")\n",
        "    print(f\"Aproximación: {aproximacion:.10f}\")\n",
        "    print(f\"Error Absoluto: {error_absoluto:.10f}\")\n",
        "    print(f\"Error Relativo: {error_relativo:.8f}%\")\n",
        "    print()\n",
        "\n",
        "# Valor a aproximar\n",
        "x = 1  # e^1\n",
        "\n",
        "print(f\"Valor real de e^{x}: {math.exp(x):.10f}\")\n",
        "print()\n",
        "\n",
        "# Calcular errores para diferentes números de términos\n",
        "for n in [2, 3, 5, 10]:\n",
        "    calcular_errores(x, n)"
      ]
    },
    {
      "cell_type": "markdown",
      "metadata": {
        "id": "qQOMIsTtE_3N"
      },
      "source": [
        "## Error por Cancelación Sustractiva\n",
        "\n",
        "El **error por cancelación sustractiva** ocurre cuando se restan dos números muy cercanos en magnitud, lo que puede generar una pérdida significativa de precisión debido a las limitaciones de representación numérica de punto flotante.\n",
        "\n",
        "#### Ejemplo teórico:\n",
        "\n",
        "Supongamos que tenemos los siguientes números en punto flotante de precisión simple:\n",
        "\n",
        "$$\n",
        "a = 1.23456789 \\times 10^6\n",
        "$$\n",
        "\n",
        "$$\n",
        "b = 1.23456780 \\times 10^6\n",
        "$$\n",
        "\n",
        "Si restamos \\( a - b \\), deberíamos obtener:\n",
        "\n",
        "$$\n",
        "a - b = (1.23456789 \\times 10^6) - (1.23456780 \\times 10^6) = 9\n",
        "$$\n",
        "\n",
        "Pero en un sistema de punto flotante, los números no se pueden representar con precisión infinita, lo que lleva a una pérdida de precisión en la operación de resta. La respuesta puede no ser exactamente 9, sino algo como:\n",
        "\n",
        "$$\n",
        "8.0\n",
        "$$\n",
        "\n",
        "Este error se debe a la **cancelación de los dígitos significativos** comunes entre $a$ y $b$, y el sistema solo puede mantener la precisión limitada de los dígitos menos significativos, lo que introduce una inestabilidad."
      ]
    },
    {
      "cell_type": "code",
      "execution_count": 12,
      "metadata": {
        "colab": {
          "base_uri": "https://localhost:8080/"
        },
        "id": "kOCh2Qy3o87G",
        "outputId": "2e7fa1f0-5b14-48f1-f165-de4ad979267b"
      },
      "outputs": [
        {
          "name": "stdout",
          "output_type": "stream",
          "text": [
            "9.0\n",
            "8.0\n"
          ]
        }
      ],
      "source": [
        "# Operación con 64 bits\n",
        "x = 123456789.\n",
        "y = 123456780.\n",
        "print(x - y)   # da 9\n",
        "\n",
        "# Operación con 32 bits\n",
        "x32 = np.float32(x)\n",
        "y32 = np.float32(y)\n",
        "print(x32 - y32) # da 8.0"
      ]
    },
    {
      "cell_type": "code",
      "execution_count": 13,
      "metadata": {
        "colab": {
          "base_uri": "https://localhost:8080/"
        },
        "id": "wYgDR8lmH-2R",
        "outputId": "8c066155-d0a6-438c-df29-9ffe83f7a4dc"
      },
      "outputs": [
        {
          "name": "stdout",
          "output_type": "stream",
          "text": [
            "Diferencia directa: 9.992007221626409e-16\n",
            "Diferencia alternativa: 9.992007221626413e-16\n",
            "Valor exacto: 1e-15\n"
          ]
        }
      ],
      "source": [
        "# Dos números muy cercanos\n",
        "a = 1.0\n",
        "b = 0.999999999999999\n",
        "\n",
        "# Operación que puede llevar a cancelación sustractiva\n",
        "diferencia_directa = a - b\n",
        "print(\"Diferencia directa:\", diferencia_directa)\n",
        "\n",
        "# Utilizando una fórmula alternativa para evitar la cancelación\n",
        "diferencia_alternativa = (a**2 - b**2) / (a + b)\n",
        "print(\"Diferencia alternativa:\", diferencia_alternativa)\n",
        "\n",
        "# Comparando con el valor exacto (que conocemos en este caso)\n",
        "valor_exacto = 0.000000000000001\n",
        "print(\"Valor exacto:\", valor_exacto)"
      ]
    },
    {
      "cell_type": "markdown",
      "metadata": {
        "id": "zkWEGNKeQZa_"
      },
      "source": [
        "### Ejemplo usando la raíz cuadrada\n",
        "\n",
        "Consideremos la función:\n",
        "\n",
        "$$\n",
        "f(x) = \\sqrt{x+1} - \\sqrt{x}\n",
        "$$\n",
        "\n",
        "Para valores grandes de $x$, el valor de $ \\sqrt{x+1} $ y $ \\sqrt{x} $ son muy cercanos, lo que puede llevar a una **cancelación sustractiva**.\n",
        "\n",
        "* Forma original de la expresión\n",
        "\n",
        "$$\n",
        "f(x) = \\sqrt{x+1} - \\sqrt{x}\n",
        "$$\n",
        "\n",
        "Cuando $x$ es grande, las raíces cuadradas de $x+1$ y $x$ son muy cercanas, lo que lleva a la cancelación de cifras significativas al restarlas.\n",
        "\n",
        "* Forma reescrita para evitar cancelación\n",
        "\n",
        "Multiplicamos por el conjugado para evitar la cancelación sustractiva:\n",
        "\n",
        "$$\n",
        "f(x) = \\frac{(\\sqrt{x+1} - \\sqrt{x})(\\sqrt{x+1} + \\sqrt{x})}{\\sqrt{x+1} + \\sqrt{x}} = \\frac{(x+1) - x}{\\sqrt{x+1} + \\sqrt{x}} = \\frac{1}{\\sqrt{x+1} + \\sqrt{x}}\n",
        "$$\n",
        "\n",
        "Esta forma evita la cancelación al reescribir la expresión de una manera más estable."
      ]
    },
    {
      "cell_type": "code",
      "execution_count": 14,
      "metadata": {
        "colab": {
          "base_uri": "https://localhost:8080/"
        },
        "id": "YEx5x7ttQdXu",
        "outputId": "88a1ff76-4610-48fc-9703-f1a85017a76a"
      },
      "outputs": [
        {
          "name": "stdout",
          "output_type": "stream",
          "text": [
            "Resultado usando la forma original: 5.000000055588316e-05\n",
            "Resultado usando la forma reescrita: 4.9999999874999996e-05\n"
          ]
        }
      ],
      "source": [
        "# Definimos la función original\n",
        "def f_original(x):\n",
        "    return math.sqrt(x + 1) - math.sqrt(x)\n",
        "\n",
        "# Definimos la función reescrita que evita cancelación\n",
        "def f_reescrita(x):\n",
        "    return 1 / (math.sqrt(x + 1) + math.sqrt(x))\n",
        "\n",
        "# Valor grande de x\n",
        "x = 1e8\n",
        "\n",
        "# Cálculo con ambas formas\n",
        "resultado_original = f_original(x)\n",
        "resultado_reescrito = f_reescrita(x)\n",
        "\n",
        "print(f\"Resultado usando la forma original: {resultado_original}\")\n",
        "print(f\"Resultado usando la forma reescrita: {resultado_reescrito}\")"
      ]
    },
    {
      "cell_type": "code",
      "execution_count": 15,
      "metadata": {
        "colab": {
          "base_uri": "https://localhost:8080/"
        },
        "id": "nXdCji6KSxRn",
        "outputId": "1551621f-938d-42f9-fd69-8c6810752c87"
      },
      "outputs": [
        {
          "name": "stdout",
          "output_type": "stream",
          "text": [
            "Resultado usando la forma original: 0.0000500000005558832\n",
            "Error: 0.00000136176631606897\n"
          ]
        }
      ],
      "source": [
        "x = sp.Symbol('x')\n",
        "f_original = sp.sqrt(x + 1) - sp.sqrt(x)\n",
        "f_original_evaluada = f_original.subs(x, 1e8)\n",
        "print(f\"Resultado usando la forma original: {f_original_evaluada}\")\n",
        "\n",
        "error = abs(f_original_evaluada - resultado_reescrito)/abs(f_original_evaluada)\n",
        "print(f\"Error: {error*100}\")"
      ]
    },
    {
      "cell_type": "markdown",
      "metadata": {
        "id": "n0sJUB_6LNvl"
      },
      "source": [
        "## Error de Acumulación en Computación\n",
        "\n",
        "El **error de acumulación** en computación ocurre cuando pequeñas imprecisiones en las operaciones aritméticas, generalmente debido a la representación finita de números en punto flotante, se acumulan a lo largo de varias operaciones. Con el tiempo, estas pequeñas inexactitudes pueden generar un error significativo en los resultados finales.\n",
        "\n",
        "$$\\epsilon_{re}=\\sqrt{N}\\epsilon_m$$\n",
        "\n",
        "donde $\\epsilon_m$ es el error de la maquina. Así por ejemplo, se puede afirmar que el error total en un proceso de convergencia será,\n",
        "\n",
        "$$\\epsilon_{total}=\\epsilon_{tr}+\\sqrt{N}\\epsilon_m,$$\n",
        "\n",
        "donde $\\epsilon_{tr}$ es el error de truncación después de $N$ pasos.\n",
        "\n",
        "Los números en punto flotante tienen una precisión limitada porque están representados por un número finito de bits. Esta limitación puede llevar a imprecisiones en los cálculos, que se agravan con el número de operaciones.\n",
        "\n",
        "### Ejemplo\n",
        "\n",
        "Supongamos que queremos sumar el número $0.1$ diez veces y esperamos obtener como resultado $1.0$. Sin embargo, debido a la imprecisión en la representación del número $0.1$, el resultado final puede diferir del valor esperado.\n",
        "\n"
      ]
    },
    {
      "cell_type": "code",
      "execution_count": 16,
      "metadata": {
        "colab": {
          "base_uri": "https://localhost:8080/"
        },
        "id": "td2eJfjPIaNb",
        "outputId": "52280893-fa77-4990-c818-dfa972c7080d"
      },
      "outputs": [
        {
          "name": "stdout",
          "output_type": "stream",
          "text": [
            "Resultado de sumar 0.1 diez veces: 0.9999999999999999\n"
          ]
        }
      ],
      "source": [
        "# Inicializamos la variable\n",
        "suma = 0.0\n",
        "\n",
        "# Sumar 0.1 diez veces\n",
        "for _ in range(10):\n",
        "    suma += 0.1\n",
        "\n",
        "# Mostrar el resultado\n",
        "print(f\"Resultado de sumar 0.1 diez veces: {suma}\")"
      ]
    },
    {
      "cell_type": "markdown",
      "metadata": {
        "id": "K-iYA-WS54M1"
      },
      "source": [
        "# Comparación de métodos para resolver ecuaciones cuadráticas\n",
        "\n",
        "En este ejemplo, compararemos tres métodos para resolver ecuaciones cuadráticas:\n",
        "1. Fórmula cuadrática estándar\n",
        "2. Fórmula cuadrática alternativa\n",
        "3. Solución simbólica con SymPy\n"
      ]
    },
    {
      "cell_type": "markdown",
      "metadata": {
        "id": "0hauTcXU7BDA"
      },
      "source": [
        "La ecuación cuadrática general es:\n",
        "\n",
        "$$\n",
        "ax^2 + bx + c = 0\n",
        "$$\n",
        "\n",
        "La fórmula estándar para encontrar las raíces es:\n",
        "\n",
        "$$\n",
        "x = \\frac{-b \\pm \\sqrt{b^2 - 4ac}}{2a}\n",
        "$$\n",
        "\n",
        "### Problema de cancelación sustractiva\n",
        "\n",
        "El problema surge cuando $b^2$ es mucho mayor que $4ac$. En estos casos, al calcular $-b \\pm \\sqrt{b^2 - 4ac}$, puede ocurrir una cancelación sustractiva, lo que genera una pérdida de precisión cuando se restan dos números cercanos en magnitud.\n",
        "\n",
        "### Fórmula alternativa\n",
        "\n",
        "Para evitar esta cancelación, podemos utilizar la siguiente fórmula modificada. En lugar de calcular ambas raíces usando la fórmula cuadrática estándar, calculamos una raíz de forma tradicional y la otra usando la relación entre las raíces.\n",
        "\n",
        "1. Si $b > 0$, la primera raíz se calcula como:\n",
        "\n",
        "   $$\n",
        "   x_1 = \\frac{-b - \\sqrt{b^2 - 4ac}}{2a}\n",
        "   $$\n",
        "\n",
        "   La segunda raíz se puede calcular usando la relación:\n",
        "\n",
        "   $$\n",
        "   x_2 = \\frac{2c}{-b - \\sqrt{b^2 - 4ac}}\n",
        "   $$\n",
        "\n",
        "2. Si $b < 0$, la primera raíz se calcula como:\n",
        "\n",
        "   $$\n",
        "   x_1 = \\frac{-b + \\sqrt{b^2 - 4ac}}{2a}\n",
        "   $$\n",
        "\n",
        "   Y la segunda raíz se calcula como:\n",
        "\n",
        "   $$\n",
        "   x_2 = \\frac{2c}{-b + \\sqrt{b^2 - 4ac}}\n",
        "   $$\n",
        "\n",
        "### ¿Por qué esta fórmula es más estable?\n",
        "\n",
        "Esta técnica evita la cancelación sustractiva al minimizar la resta directa entre dos números cercanos. En lugar de restar directamente $b$ y $\\sqrt{b^2 - 4ac}$, utilizamos la fórmula modificada para calcular una raíz, y luego obtenemos la otra raíz de manera más precisa usando la relación entre las raíces.\n"
      ]
    },
    {
      "cell_type": "code",
      "execution_count": 17,
      "metadata": {
        "id": "6Zs91ZtN5Hz9"
      },
      "outputs": [],
      "source": [
        "import sympy as sp\n",
        "def sympy_solve(a, b, c):\n",
        "    x = sp.Symbol('x')\n",
        "    equation = a*x**2 + b*x + c\n",
        "    return sp.solve(equation, x)"
      ]
    },
    {
      "cell_type": "code",
      "execution_count": 18,
      "metadata": {
        "id": "_9B-DhG-8SdM"
      },
      "outputs": [],
      "source": [
        "def cuadratica(a, b, c):\n",
        "    discriminante = (b**2 - 4*a*c)**0.5\n",
        "    x1 = (-b - discriminante) / (2*a)\n",
        "    x2 = (-b + discriminante) / (2*a)\n",
        "    return x1, x2"
      ]
    },
    {
      "cell_type": "code",
      "execution_count": 19,
      "metadata": {
        "id": "OInCIyCX805Q"
      },
      "outputs": [],
      "source": [
        "def cuadratica_alternativa(a, b, c):\n",
        "  discriminante = (b**2 - 4*a*c)**0.5\n",
        "  if b > 0:\n",
        "    x1 = (-b - discriminante) / (2*a)\n",
        "    x2 = 2*c / (-b - discriminante)\n",
        "  else:\n",
        "    x1 = (-b + discriminante) / (2*a)\n",
        "    x2 = 2*c / (-b + discriminante)\n",
        "  return x1, x2"
      ]
    },
    {
      "cell_type": "code",
      "execution_count": 20,
      "metadata": {
        "colab": {
          "base_uri": "https://localhost:8080/"
        },
        "id": "pLOO3LTp9RpI",
        "outputId": "54c113cf-798d-4ebc-8a19-6c5f2064fe1c"
      },
      "outputs": [
        {
          "name": "stdout",
          "output_type": "stream",
          "text": [
            "Resultados usando la fórmula cuadrática estándar:\n",
            "x1 = -100000000.0\n",
            "x2 = -7.450580596923828e-09\n",
            "\n",
            "Resultados usando la fórmula cuadrática alternativa:\n",
            "x1 = -100000000.0\n",
            "x2 = -1e-08\n",
            "\n",
            "Resultados usando SymPy:\n",
            "x1 = -100000000.000000\n",
            "x2 = -1.00000000000000E-8\n"
          ]
        }
      ],
      "source": [
        "a = 1\n",
        "b = 1e8\n",
        "c = 1\n",
        "\n",
        "resultado = cuadratica(a, b, c)\n",
        "resultado_alt = cuadratica_alternativa(a, b, c)\n",
        "solucion = sympy_solve(a, b, c)\n",
        "\n",
        "print(\"Resultados usando la fórmula cuadrática estándar:\")\n",
        "print(f\"x1 = {resultado[0]}\")\n",
        "print(f\"x2 = {resultado[1]}\")\n",
        "\n",
        "print(\"\\nResultados usando la fórmula cuadrática alternativa:\")\n",
        "print(f\"x1 = {resultado_alt[0]}\")\n",
        "print(f\"x2 = {resultado_alt[1]}\")\n",
        "\n",
        "print(\"\\nResultados usando SymPy:\")\n",
        "print(f\"x1 = {solucion[0]}\")\n",
        "print(f\"x2 = {solucion[1]}\")"
      ]
    },
    {
      "cell_type": "code",
      "execution_count": 21,
      "metadata": {
        "colab": {
          "base_uri": "https://localhost:8080/"
        },
        "id": "3-BjYePe9nb1",
        "outputId": "68286fb9-1e9e-44e5-a5d8-3e4a317641d7"
      },
      "outputs": [
        {
          "name": "stdout",
          "output_type": "stream",
          "text": [
            "\n",
            "Verificación de resultados:\n",
            "Estándar x1: 1.0\n",
            "Estándar x2: 0.2549419403076172\n",
            "Alternativa x1: 1.0\n",
            "Alternativa x2: 1.1102230246251565e-16\n",
            "SymPy x1: 1\n",
            "SymPy x2: 1.11022302462516E-16\n"
          ]
        }
      ],
      "source": [
        "# Función para verificar los resultados\n",
        "def verify_result(x, a, b, c):\n",
        "    return a*x**2 + b*x + c\n",
        "\n",
        "print(\"\\nVerificación de resultados:\")\n",
        "print(f\"Estándar x1: {verify_result(resultado[0], a, b, c)}\")\n",
        "print(f\"Estándar x2: {verify_result(resultado[1], a, b, c)}\")\n",
        "print(f\"Alternativa x1: {verify_result(resultado_alt[0], a, b, c)}\")\n",
        "print(f\"Alternativa x2: {verify_result(resultado_alt[1], a, b, c)}\")\n",
        "print(f\"SymPy x1: {verify_result(solucion[0], a, b, c)}\")\n",
        "print(f\"SymPy x2: {verify_result(solucion[1], a, b, c)}\")"
      ]
    }
  ],
  "metadata": {
    "colab": {
      "provenance": []
    },
    "kernelspec": {
      "display_name": "Python 3",
      "name": "python3"
    },
    "language_info": {
      "codemirror_mode": {
        "name": "ipython",
        "version": 3
      },
      "file_extension": ".py",
      "mimetype": "text/x-python",
      "name": "python",
      "nbconvert_exporter": "python",
      "pygments_lexer": "ipython3",
      "version": "3.13.1"
    }
  },
  "nbformat": 4,
  "nbformat_minor": 0
}
