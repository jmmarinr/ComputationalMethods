{
  "nbformat": 4,
  "nbformat_minor": 0,
  "metadata": {
    "colab": {
      "provenance": [],
      "authorship_tag": "ABX9TyPorBJLP1R/5wGW5z00yJ0N",
      "include_colab_link": true
    },
    "kernelspec": {
      "name": "python3",
      "display_name": "Python 3"
    },
    "language_info": {
      "name": "python"
    }
  },
  "cells": [
    {
      "cell_type": "markdown",
      "metadata": {
        "id": "view-in-github",
        "colab_type": "text"
      },
      "source": [
        "<a href=\"https://colab.research.google.com/github/jmmarinr/ComputationalMethods/blob/master/Librerias/Introduccion_Sympy.ipynb\" target=\"_parent\"><img src=\"https://colab.research.google.com/assets/colab-badge.svg\" alt=\"Open In Colab\"/></a>"
      ]
    },
    {
      "cell_type": "code",
      "execution_count": null,
      "metadata": {
        "id": "STUg3dks3_TO",
        "cellView": "form"
      },
      "outputs": [],
      "source": [
        "#@title Librerias\n",
        "import numpy as np\n",
        "import matplotlib.pyplot as plt\n",
        "import sympy as sp\n",
        "\n",
        "sp.init_printing(use_latex='mathjax')"
      ]
    },
    {
      "cell_type": "markdown",
      "source": [
        "# SymPy - Funciones Fundamentales\n",
        "\n",
        "## Introducción\n",
        "\n",
        "SymPy es una biblioteca de Python para matemáticas simbólicas. A diferencia de NumPy que trabaja con números, SymPy trabaja con símbolos matemáticos, permitiendo realizar cálculos algebraicos exactos.\n",
        "\n",
        "## Instalación\n",
        "\n",
        "```bash\n",
        "pip install sympy\n",
        "```\n",
        "\n",
        "## 1. Símbolos\n",
        "\n",
        "Los símbolos son la base de SymPy. Representan variables matemáticas que pueden manipularse algebraicamente.\n",
        "\n"
      ],
      "metadata": {
        "id": "HqyV6g_njemK"
      }
    },
    {
      "cell_type": "code",
      "source": [
        "# Crear símbolos individuales\n",
        "x = sp.Symbol('x')\n",
        "y = sp.Symbol('y')\n",
        "z = sp.Symbol('z')\n",
        "\n",
        "# Crear múltiples símbolos a la vez\n",
        "a, b, c = sp.symbols('a b c')\n",
        "\n",
        "# Símbolos con propiedades específicas\n",
        "n = sp.Symbol('n', integer=True)  # n es un entero\n",
        "r = sp.Symbol('r', real=True)     # r es un número real\n",
        "p = sp.Symbol('p', positive=True) # p es positivo\n",
        "\n",
        "print(f\"Símbolo x: {x}\")\n",
        "print(f\"Tipo de x: {type(x)}\")"
      ],
      "metadata": {
        "id": "xCTAWL1q4McN",
        "colab": {
          "base_uri": "https://localhost:8080/"
        },
        "outputId": "c4153c35-510e-4fa3-afe4-89ab98be8f19"
      },
      "execution_count": null,
      "outputs": [
        {
          "output_type": "stream",
          "name": "stdout",
          "text": [
            "Símbolo x: x\n",
            "Tipo de x: <class 'sympy.core.symbol.Symbol'>\n"
          ]
        }
      ]
    },
    {
      "cell_type": "markdown",
      "source": [
        "## 2. Funciones\n",
        "\n",
        "SymPy permite crear expresiones matemáticas complejas usando símbolos y operaciones.\n",
        "\n"
      ],
      "metadata": {
        "id": "hOOSaHAgjvff"
      }
    },
    {
      "cell_type": "code",
      "source": [
        "# Expresiones básicas\n",
        "expr1 = x**2 + 2*x + 1\n",
        "expr2 = sp.sin(x) + sp.cos(y)\n",
        "expr3 = sp.exp(x) * sp.log(y)\n",
        "\n",
        "print(f\"Expresión cuadrática: {expr1}\")\n",
        "print(f\"Expresión trigonométrica: {expr2}\")\n",
        "print(f\"Expresión exponencial-logarítmica: {expr3}\")\n",
        "\n",
        "# Funciones más complejas\n",
        "f = x**3 - 3*x**2 + 2*x - 1\n",
        "g = sp.sqrt(x**2 + y**2)\n",
        "h = sp.factorial(n)\n",
        "\n",
        "\n",
        "display(f)\n",
        "display(g)\n",
        "display(h)"
      ],
      "metadata": {
        "colab": {
          "base_uri": "https://localhost:8080/",
          "height": 136
        },
        "id": "RUWvyIrej9y4",
        "outputId": "34272ee9-ceab-4e0b-b208-18d131f7cf31"
      },
      "execution_count": null,
      "outputs": [
        {
          "output_type": "stream",
          "name": "stdout",
          "text": [
            "Expresión cuadrática: x**2 + 2*x + 1\n",
            "Expresión trigonométrica: sin(x) + cos(y)\n",
            "Expresión exponencial-logarítmica: exp(x)*log(y)\n"
          ]
        },
        {
          "output_type": "display_data",
          "data": {
            "text/plain": [
              " 3      2          \n",
              "x  - 3⋅x  + 2⋅x - 1"
            ],
            "text/latex": "$\\displaystyle x^{3} - 3 x^{2} + 2 x - 1$"
          },
          "metadata": {}
        },
        {
          "output_type": "display_data",
          "data": {
            "text/plain": [
              "   _________\n",
              "  ╱  2    2 \n",
              "╲╱  x  + y  "
            ],
            "text/latex": "$\\displaystyle \\sqrt{x^{2} + y^{2}}$"
          },
          "metadata": {}
        },
        {
          "output_type": "display_data",
          "data": {
            "text/plain": [
              "n!"
            ],
            "text/latex": "$\\displaystyle n!$"
          },
          "metadata": {}
        }
      ]
    },
    {
      "cell_type": "markdown",
      "source": [
        "## 3. Evaluación de Funciones\n",
        "\n",
        "Las expresiones simbólicas pueden evaluarse sustituyendo valores específicos para las variables."
      ],
      "metadata": {
        "id": "NpVBnvi-k5LZ"
      }
    },
    {
      "cell_type": "code",
      "source": [
        "# Definir una expresión\n",
        "expr = x**2 + 2*x + 1\n",
        "\n",
        "# Evaluar en un punto específico\n",
        "resultado1 = expr.subs(x, 2)\n",
        "print(f\"f(2) = {resultado1}\")\n",
        "\n",
        "# Evaluar en múltiples puntos\n",
        "resultado2 = expr.subs(x, -1)\n",
        "resultado3 = expr.subs(x, 0)\n",
        "print(f\"f(-1) = {resultado2}\")\n",
        "print(f\"f(0) = {resultado3}\")\n",
        "\n",
        "# Sustituciones múltiples\n",
        "expr_multi = x**2 + y**2 + 2*x*y\n",
        "resultado_multi = expr_multi.subs([(x, 1), (y, 2)])\n",
        "print(f\"f(1,2) = {resultado_multi}\")\n",
        "\n",
        "# Evaluación numérica\n",
        "expr_trig = sp.sin(x) + sp.cos(x)\n",
        "resultado_numerico = expr_trig.subs(x, sp.pi/4).evalf()\n",
        "print(f\"sin(π/4) + cos(π/4) = {resultado_numerico}\")\n",
        "\n"
      ],
      "metadata": {
        "colab": {
          "base_uri": "https://localhost:8080/"
        },
        "id": "7YAIe-xAk5v2",
        "outputId": "5a21b7d8-56ad-4db4-9667-8da54844f851"
      },
      "execution_count": null,
      "outputs": [
        {
          "output_type": "stream",
          "name": "stdout",
          "text": [
            "f(2) = 9\n",
            "f(-1) = 0\n",
            "f(0) = 1\n",
            "f(1,2) = 9\n",
            "sin(π/4) + cos(π/4) = 1.41421356237310\n"
          ]
        }
      ]
    },
    {
      "cell_type": "markdown",
      "source": [
        "## 4. Expandir y Simplificar\n",
        "\n",
        "SymPy puede expandir productos y simplificar expresiones algebraicas."
      ],
      "metadata": {
        "id": "gOBL3PdSlNm4"
      }
    },
    {
      "cell_type": "code",
      "source": [
        "# Expandir expresiones\n",
        "expr_factor = (x + 1)**3\n",
        "expr_expandida = sp.expand(expr_factor)\n",
        "print(f\"(x+1)³ expandido: {expr_expandida}\")\n",
        "\n",
        "# Expandir productos trigonométricos\n",
        "expr_trig = sp.sin(x + y)\n",
        "expr_trig_expandida = sp.expand_trig(expr_trig)\n",
        "print(f\"sin(x+y) expandido: {expr_trig_expandida}\")\n",
        "\n",
        "# Simplificar expresiones\n",
        "expr_compleja = (x**2 - 1)/(x - 1)\n",
        "expr_simplificada = sp.simplify(expr_compleja)\n",
        "print(f\"Expresión original: {expr_compleja}\")\n",
        "print(f\"Expresión simplificada: {expr_simplificada}\")\n",
        "\n",
        "# Factorizar\n",
        "expr_cuadratica = x**2 - 4\n",
        "expr_factorizada = sp.factor(expr_cuadratica)\n",
        "print(f\"x² - 4 factorizada: {expr_factorizada}\")\n",
        "\n",
        "# Simplificar expresiones trigonométricas\n",
        "expr_trig_compleja = sp.sin(x)**2 + sp.cos(x)**2\n",
        "expr_trig_simple = sp.simplify(expr_trig_compleja)\n",
        "print(f\"sin²(x) + cos²(x) = {expr_trig_simple}\")\n"
      ],
      "metadata": {
        "colab": {
          "base_uri": "https://localhost:8080/"
        },
        "id": "Cfk2sSrQlN4E",
        "outputId": "52b0c928-c6af-4c1b-fb77-25115b764c45"
      },
      "execution_count": null,
      "outputs": [
        {
          "output_type": "stream",
          "name": "stdout",
          "text": [
            "(x+1)³ expandido: x**3 + 3*x**2 + 3*x + 1\n",
            "sin(x+y) expandido: sin(x)*cos(y) + sin(y)*cos(x)\n",
            "Expresión original: (x**2 - 1)/(x - 1)\n",
            "Expresión simplificada: x + 1\n",
            "x² - 4 factorizada: (x - 2)*(x + 2)\n",
            "sin²(x) + cos²(x) = 1\n"
          ]
        }
      ]
    },
    {
      "cell_type": "markdown",
      "source": [
        "## 5. Derivar\n",
        "\n",
        "El cálculo diferencial es una de las fortalezas principales de SymPy.\n",
        "\n"
      ],
      "metadata": {
        "id": "AWZ-iNPQj-ed"
      }
    },
    {
      "cell_type": "code",
      "source": [
        "# Derivadas básicas\n",
        "f = x**3 + 2*x**2 + x + 1\n",
        "f_prima = sp.diff(f, x)\n",
        "print(f\"f(x) = {f}\")\n",
        "print(f\"f'(x) = {f_prima}\")\n",
        "\n",
        "# Derivadas de orden superior\n",
        "f_segunda = sp.diff(f, x, 2)  # Segunda derivada\n",
        "f_tercera = sp.diff(f, x, 3)  # Tercera derivada\n",
        "print(f\"f''(x) = {f_segunda}\")\n",
        "print(f\"f'''(x) = {f_tercera}\")\n",
        "\n",
        "# Derivadas parciales\n",
        "g = x**2 + y**2 + x*y\n",
        "dg_dx = sp.diff(g, x)  # ∂g/∂x\n",
        "dg_dy = sp.diff(g, y)  # ∂g/∂y\n",
        "print(f\"g(x,y) = {g}\")\n",
        "print(f\"∂g/∂x = {dg_dx}\")\n",
        "print(f\"∂g/∂y = {dg_dy}\")\n",
        "\n",
        "# Derivadas mixtas\n",
        "d2g_dxdy = sp.diff(g, x, y)  # ∂²g/∂x∂y\n",
        "print(f\"∂²g/∂x∂y = {d2g_dxdy}\")\n",
        "\n",
        "# Funciones trigonométricas y exponenciales\n",
        "h = sp.sin(x) * sp.exp(x)\n",
        "h_prima = sp.diff(h, x)\n",
        "print(f\"h(x) = {h}\")\n",
        "print(f\"h'(x) = {h_prima}\")"
      ],
      "metadata": {
        "colab": {
          "base_uri": "https://localhost:8080/"
        },
        "id": "Qwbv2RB0ldH-",
        "outputId": "dde6ad07-a30e-4bc2-b166-a6bea1354cad"
      },
      "execution_count": null,
      "outputs": [
        {
          "output_type": "stream",
          "name": "stdout",
          "text": [
            "f(x) = x**3 + 2*x**2 + x + 1\n",
            "f'(x) = 3*x**2 + 4*x + 1\n",
            "f''(x) = 2*(3*x + 2)\n",
            "f'''(x) = 6\n",
            "g(x,y) = x**2 + x*y + y**2\n",
            "∂g/∂x = 2*x + y\n",
            "∂g/∂y = x + 2*y\n",
            "∂²g/∂x∂y = 1\n",
            "h(x) = exp(x)*sin(x)\n",
            "h'(x) = exp(x)*sin(x) + exp(x)*cos(x)\n"
          ]
        }
      ]
    },
    {
      "cell_type": "markdown",
      "source": [
        "## 6. Generar Funciones Tipo Lambda\n",
        "\n",
        "SymPy puede convertir expresiones simbólicas en funciones de Python evaluables numéricamente.\n",
        "\n"
      ],
      "metadata": {
        "id": "unu8iOJJlZNM"
      }
    },
    {
      "cell_type": "code",
      "source": [
        "# Crear una expresión simbólica\n",
        "expr = x**2 - 2*x + 1\n",
        "\n",
        "# Convertir a función lambda\n",
        "f_lambda = sp.lambdify(x, expr, 'numpy')\n",
        "\n",
        "# Ahora podemos usar la función con arrays de NumPy\n",
        "x_vals = np.linspace(-2, 4, 100)\n",
        "y_vals = f_lambda(x_vals)\n",
        "\n",
        "print(f\"Expresión simbólica: {expr}\")\n",
        "print(f\"Función lambda creada: {f_lambda}\")\n",
        "print(f\"f(2) = {f_lambda(2)}\")\n",
        "\n",
        "# Función con múltiples variables\n",
        "expr_multi = x**2 + y**2\n",
        "f_multi = sp.lambdify((x, y), expr_multi, 'numpy')\n",
        "resultado = f_multi(3, 4)\n",
        "print(f\"f(3,4) = {resultado}\")\n",
        "\n",
        "# Ejemplo más complejo con funciones trigonométricas\n",
        "expr_trig = sp.sin(x) * sp.exp(-x/2)\n",
        "f_trig = sp.lambdify(x, expr_trig, 'numpy')\n",
        "\n",
        "# Evaluar en un rango de valores\n",
        "x_range = np.linspace(0, 10, 50)\n",
        "y_range = f_trig(x_range)\n",
        "print(f\"Evaluación en rango: primeros 5 valores = {y_range[:5]}\")\n",
        "\n",
        "# Para derivadas también\n",
        "expr_derivada = sp.diff(expr, x)\n",
        "f_derivada = sp.lambdify(x, expr_derivada, 'numpy')\n",
        "print(f\"Derivada como lambda: f'(2) = {f_derivada(2)}\")"
      ],
      "metadata": {
        "colab": {
          "base_uri": "https://localhost:8080/"
        },
        "id": "hdd2B_HclYZT",
        "outputId": "a7637fa6-18e8-4fbd-822c-db23cdcf8f9c"
      },
      "execution_count": null,
      "outputs": [
        {
          "output_type": "stream",
          "name": "stdout",
          "text": [
            "Expresión simbólica: x**2 - 2*x + 1\n",
            "Función lambda creada: <function _lambdifygenerated at 0x78ebdfb69260>\n",
            "f(2) = 1\n",
            "f(3,4) = 25\n",
            "Evaluación en rango: primeros 5 valores = [0.         0.18300767 0.32365029 0.42315402 0.48444764]\n",
            "Derivada como lambda: f'(2) = 2\n"
          ]
        }
      ]
    },
    {
      "cell_type": "markdown",
      "source": [
        "## Ejemplo\n",
        "\n",
        "La posición de un vehiculo sigue la siguiente raleción:\n",
        "\n",
        "$$x(t) = 2t^3 - 6t^2 + 4t + 1$$\n",
        "\n",
        "Encuentre de manera simbolica:\n",
        "* Velocidad\n",
        "* Aceleración\n",
        "* Los puntos críticos donde la velocidad se hace cero\n",
        "* Grafique las funciones para $0\\leq t\\leq 2$"
      ],
      "metadata": {
        "id": "EOwgo3N7phCG"
      }
    },
    {
      "cell_type": "code",
      "source": [
        "# Definir símbolos\n",
        "t = sp.Symbol('t')\n",
        "\n",
        "# Definir una función de posición\n",
        "posicion = 2*t**3 - 6*t**2 + 4*t + 1\n",
        "\n",
        "print('Posición')\n",
        "display(posicion)\n",
        "\n",
        "# Calcular velocidad (primera derivada)\n",
        "velocidad = sp.diff(posicion, t)\n",
        "print('\\nVelocidad')\n",
        "display(velocidad)\n",
        "\n",
        "# Calcular aceleración (segunda derivada)\n",
        "aceleracion = sp.diff(posicion, t, 2)\n",
        "print('\\nAceleración')\n",
        "display(aceleracion)\n",
        "\n",
        "# Encontrar cuando la velocidad es cero\n",
        "puntos_criticos = sp.solve(velocidad, t)\n",
        "print('\\nPuntos críticos (v=0)')\n",
        "display(puntos_criticos)\n",
        "\n",
        "# Convertir a funciones\n",
        "\n",
        "posicion_func = sp.lambdify(t, posicion, 'numpy')\n",
        "velocidad_func = sp.lambdify(t, velocidad, 'numpy')\n",
        "aceleracion_func = sp.lambdify(t, aceleracion, 'numpy')\n",
        "\n",
        "# Evaluar en puntos específicos\n",
        "t_vals = np.linspace(0, 2, 100)\n",
        "p_vals = posicion_func(t_vals)\n",
        "v_vals = velocidad_func(t_vals)\n",
        "a_vals = aceleracion_func(t_vals)\n",
        "\n",
        "\n",
        "# Graficar\n",
        "\n",
        "figs, axs = plt.subplots(1, 3, figsize=(8, 4))\n",
        "axs[0].plot(t_vals, p_vals, label='Posición')\n",
        "axs[0].set_xlabel('t')\n",
        "axs[0].set_ylabel('x(t)')\n",
        "axs[0].legend()\n",
        "\n",
        "axs[1].plot(t_vals, v_vals, label='Velocidad')\n",
        "axs[1].set_xlabel('t')\n",
        "axs[1].set_ylabel('v(t)')\n",
        "axs[1].legend()\n",
        "\n",
        "axs[2].plot(t_vals, a_vals, label='Aceleración')\n",
        "axs[2].set_xlabel('t')\n",
        "axs[2].set_ylabel('a(t)')\n",
        "axs[2].legend()\n",
        "\n",
        "plt.tight_layout()\n",
        "plt.show()\n"
      ],
      "metadata": {
        "colab": {
          "base_uri": "https://localhost:8080/",
          "height": 648
        },
        "id": "344hQn72qCBj",
        "outputId": "f4bc30e3-a406-4dc4-a18c-4f980d45db9c"
      },
      "execution_count": null,
      "outputs": [
        {
          "output_type": "stream",
          "name": "stdout",
          "text": [
            "Posición\n"
          ]
        },
        {
          "output_type": "display_data",
          "data": {
            "text/plain": [
              "   3      2          \n",
              "2⋅t  - 6⋅t  + 4⋅t + 1"
            ],
            "text/latex": "$\\displaystyle 2 t^{3} - 6 t^{2} + 4 t + 1$"
          },
          "metadata": {}
        },
        {
          "output_type": "stream",
          "name": "stdout",
          "text": [
            "\n",
            "Velocidad\n"
          ]
        },
        {
          "output_type": "display_data",
          "data": {
            "text/plain": [
              "   2           \n",
              "6⋅t  - 12⋅t + 4"
            ],
            "text/latex": "$\\displaystyle 6 t^{2} - 12 t + 4$"
          },
          "metadata": {}
        },
        {
          "output_type": "stream",
          "name": "stdout",
          "text": [
            "\n",
            "Aceleración\n"
          ]
        },
        {
          "output_type": "display_data",
          "data": {
            "text/plain": [
              "12⋅(t - 1)"
            ],
            "text/latex": "$\\displaystyle 12 \\left(t - 1\\right)$"
          },
          "metadata": {}
        },
        {
          "output_type": "stream",
          "name": "stdout",
          "text": [
            "\n",
            "Puntos críticos (v=0)\n"
          ]
        },
        {
          "output_type": "display_data",
          "data": {
            "text/plain": [
              "⎡    √3  √3    ⎤\n",
              "⎢1 - ──, ── + 1⎥\n",
              "⎣    3   3     ⎦"
            ],
            "text/latex": "$\\displaystyle \\left[ 1 - \\frac{\\sqrt{3}}{3}, \\  \\frac{\\sqrt{3}}{3} + 1\\right]$"
          },
          "metadata": {}
        },
        {
          "output_type": "display_data",
          "data": {
            "text/plain": [
              "<Figure size 800x400 with 3 Axes>"
            ],
            "image/png": "[encoded data removed]"
          },
          "metadata": {}
        }
      ]
    },
    {
      "cell_type": "markdown",
      "source": [
        "## Actividades\n",
        "\n",
        "1. Crea una expresión que represente la ecuación de una circunferencia de radio `r` centrada en el origen.\n",
        "\n",
        "2. Encuentra la derivada de $f(x) = xsin(x) + cos(x)$ y evalúala en $x = π/2$.\n",
        "\n",
        "3. Simplifica la expresión $(x²-9)/(x²-6x+9)$.\n",
        "\n",
        "4. Crea una función lambda para $f(x,y) = x²y + xy²$ y evalúala en el punto (2,3).\n",
        "\n",
        "5. Modela la altura de un proyectil con $h(t) = -4.9t² + 20t + 2$. Encuentra cuándo alcanza la altura máxima y cuál es esa altura.\n"
      ],
      "metadata": {
        "id": "fCT0CIzalome"
      }
    },
    {
      "cell_type": "code",
      "source": [],
      "metadata": {
        "id": "f2XkkiCRrRMe"
      },
      "execution_count": null,
      "outputs": []
    }
  ]
}