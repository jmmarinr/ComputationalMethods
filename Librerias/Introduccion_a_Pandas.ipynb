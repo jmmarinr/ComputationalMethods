{
 "cells": [
  {
   "cell_type": "markdown",
   "id": "c2a81adf",
   "metadata": {},
   "source": [
    "# Introducción a Pandas\n",
    "\n",
    "Pandas es una librería de Python especializada en el manejo y análisis de datos estructurados. Es una herramienta fundamental en el análisis de datos y la ciencia de datos."
   ]
  },
  {
   "cell_type": "markdown",
   "id": "48bf7a69",
   "metadata": {},
   "source": [
    "## Importación de la librería\n",
    "\n",
    "Es común importar pandas con el alias `pd`:"
   ]
  },
  {
   "cell_type": "code",
   "execution_count": null,
   "id": "5f7c6821",
   "metadata": {},
   "outputs": [],
   "source": [
    "import pandas as pd\n",
    "import numpy as np  # También importaremos numpy ya que se usa frecuentemente con pandas\n",
    "\n",
    "# Verificar la versión de pandas instalada\n",
    "print(\"Versión de Pandas:\", pd.__version__)"
   ]
  },
  {
   "cell_type": "markdown",
   "id": "3d133f55",
   "metadata": {},
   "source": [
    "## Estructuras de Datos en Pandas\n",
    "\n",
    "Pandas tiene dos estructuras de datos principales:\n",
    "\n",
    "1. **Series**: Arrays unidimensionales etiquetados\n",
    "2. **DataFrame**: Tablas bidimensionales con columnas que pueden ser de diferentes tipos"
   ]
  },
  {
   "cell_type": "markdown",
   "id": "a2e7fb9c",
   "metadata": {},
   "source": [
    "### Series\n",
    "Una Serie es similar a un array unidimensional o una columna en una tabla:"
   ]
  },
  {
   "cell_type": "code",
   "execution_count": null,
   "id": "6327f040",
   "metadata": {},
   "outputs": [],
   "source": [
    "# Crear una Serie desde una lista\n",
    "serie = pd.Series([1, 2, 3, 4, 5], index=['a', 'b', 'c', 'd', 'e'])\n",
    "print(\"Serie simple:\")\n",
    "print(serie)\n",
    "\n",
    "# Acceder a elementos\n",
    "print(\"\\nValor en índice 'c':\", serie['c'])\n",
    "\n",
    "# Operaciones con Series\n",
    "print(\"\\nSerie multiplicada por 2:\")\n",
    "print(serie * 2)"
   ]
  },
  {
   "cell_type": "markdown",
   "id": "6fd1e528",
   "metadata": {},
   "source": [
    "### DataFrame\n",
    "Un DataFrame es una estructura tabular bidimensional:"
   ]
  },
  {
   "cell_type": "code",
   "execution_count": null,
   "id": "c6373089",
   "metadata": {},
   "outputs": [],
   "source": [
    "# Crear un DataFrame desde un diccionario\n",
    "data = {\n",
    "    'Nombre': ['Juan', 'Ana', 'Carlos', 'María'],\n",
    "    'Edad': [25, 28, 22, 30],\n",
    "    'Ciudad': ['Madrid', 'Barcelona', 'Sevilla', 'Valencia']\n",
    "}\n",
    "\n",
    "df = pd.DataFrame(data)\n",
    "print(\"DataFrame de ejemplo:\")\n",
    "print(df)"
   ]
  },
  {
   "cell_type": "markdown",
   "id": "12aaa174",
   "metadata": {},
   "source": [
    "## Operaciones Básicas con DataFrames"
   ]
  },
  {
   "cell_type": "code",
   "execution_count": null,
   "id": "80735975",
   "metadata": {},
   "outputs": [],
   "source": [
    "# Información básica del DataFrame\n",
    "print(\"Información del DataFrame:\")\n",
    "print(df.info())\n",
    "\n",
    "print(\"\\nPrimeras 2 filas:\")\n",
    "print(df.head(2))\n",
    "\n",
    "print(\"\\nÚltimas 2 filas:\")\n",
    "print(df.tail(2))\n",
    "\n",
    "print(\"\\nEstadísticas descriptivas:\")\n",
    "print(df.describe())"
   ]
  },
  {
   "cell_type": "markdown",
   "id": "7ace00cb",
   "metadata": {},
   "source": [
    "## Selección y Filtrado de Datos"
   ]
  },
  {
   "cell_type": "code",
   "execution_count": null,
   "id": "57bdabea",
   "metadata": {},
   "outputs": [],
   "source": [
    "# Seleccionar una columna\n",
    "print(\"Columna 'Nombre':\")\n",
    "print(df['Nombre'])\n",
    "\n",
    "# Seleccionar múltiples columnas\n",
    "print(\"\\nColumnas 'Nombre' y 'Edad':\")\n",
    "print(df[['Nombre', 'Edad']])\n",
    "\n",
    "# Filtrar filas\n",
    "print(\"\\nPersonas mayores de 25 años:\")\n",
    "print(df[df['Edad'] > 25])"
   ]
  },
  {
   "cell_type": "markdown",
   "id": "ff68364a",
   "metadata": {},
   "source": [
    "## Manejo de Datos Faltantes"
   ]
  },
  {
   "cell_type": "code",
   "execution_count": null,
   "id": "bd12785b",
   "metadata": {},
   "outputs": [],
   "source": [
    "# Crear DataFrame con valores faltantes\n",
    "df_nan = pd.DataFrame({\n",
    "    'A': [1, 2, np.nan, 4],\n",
    "    'B': [5, np.nan, np.nan, 8],\n",
    "    'C': [9, 10, 11, 12]\n",
    "})\n",
    "\n",
    "print(\"DataFrame con valores faltantes:\")\n",
    "print(df_nan)\n",
    "\n",
    "# Verificar valores faltantes\n",
    "print(\"\\nVerificar valores faltantes:\")\n",
    "print(df_nan.isnull())\n",
    "\n",
    "# Eliminar filas con valores faltantes\n",
    "print(\"\\nEliminar filas con valores faltantes:\")\n",
    "print(df_nan.dropna())\n",
    "\n",
    "# Rellenar valores faltantes\n",
    "print(\"\\nRellenar valores faltantes con 0:\")\n",
    "print(df_nan.fillna(0))"
   ]
  },
  {
   "cell_type": "markdown",
   "id": "ab9d8f90",
   "metadata": {},
   "source": [
    "## Operaciones de Agrupación y Agregación"
   ]
  },
  {
   "cell_type": "code",
   "execution_count": null,
   "id": "9ad637d8",
   "metadata": {},
   "outputs": [],
   "source": [
    "# Crear un DataFrame más grande para ejemplos de agrupación\n",
    "data_ventas = {\n",
    "    'Vendedor': ['Juan', 'Ana', 'Juan', 'María', 'Ana', 'María'],\n",
    "    'Producto': ['A', 'B', 'B', 'A', 'A', 'B'],\n",
    "    'Ventas': [100, 150, 200, 300, 250, 175]\n",
    "}\n",
    "\n",
    "df_ventas = pd.DataFrame(data_ventas)\n",
    "print(\"DataFrame de ventas:\")\n",
    "print(df_ventas)\n",
    "\n",
    "# Agrupar por vendedor y calcular suma de ventas\n",
    "print(\"\\nVentas totales por vendedor:\")\n",
    "print(df_ventas.groupby('Vendedor')['Ventas'].sum())\n",
    "\n",
    "# Agrupar por vendedor y producto\n",
    "print(\"\\nVentas promedio por vendedor y producto:\")\n",
    "print(df_ventas.groupby(['Vendedor', 'Producto'])['Ventas'].mean())"
   ]
  },
  {
   "cell_type": "markdown",
   "id": "aecd65d6",
   "metadata": {},
   "source": [
    "## Fusión y Combinación de DataFrames"
   ]
  },
  {
   "cell_type": "code",
   "execution_count": null,
   "id": "d3c9d0c1",
   "metadata": {},
   "outputs": [],
   "source": [
    "# Crear dos DataFrames para combinar\n",
    "df1 = pd.DataFrame({\n",
    "    'ID': [1, 2, 3, 4],\n",
    "    'Nombre': ['Juan', 'Ana', 'Carlos', 'María']\n",
    "})\n",
    "\n",
    "df2 = pd.DataFrame({\n",
    "    'ID': [1, 2, 3, 5],\n",
    "    'Salario': [30000, 35000, 40000, 45000]\n",
    "})\n",
    "\n",
    "print(\"DataFrame 1:\")\n",
    "print(df1)\n",
    "print(\"\\nDataFrame 2:\")\n",
    "print(df2)\n",
    "\n",
    "# Merge (unión) de DataFrames\n",
    "print(\"\\nUnión inner de DataFrames:\")\n",
    "print(pd.merge(df1, df2, on='ID'))\n",
    "\n",
    "print(\"\\nUnión outer de DataFrames:\")\n",
    "print(pd.merge(df1, df2, on='ID', how='outer'))"
   ]
  },
  {
   "cell_type": "markdown",
   "id": "bff7ff3f",
   "metadata": {},
   "source": [
    "## Obtención de Datos desde la Web\n",
    "\n",
    "NumPy puede trabajar con datos obtenidos de páginas web. Para esto, generalmente se combina con otras librerías como `requests` y `pandas`:"
   ]
  },
  {
   "cell_type": "code",
   "execution_count": 1,
   "id": "a5ec225f",
   "metadata": {},
   "outputs": [
    {
     "name": "stdout",
     "output_type": "stream",
     "text": [
      "Primeras 5 filas de los datos:\n",
      "[['2020-01-22' 'Afghanistan' 0 0 0]\n",
      " ['2020-01-23' 'Afghanistan' 0 0 0]\n",
      " ['2020-01-24' 'Afghanistan' 0 0 0]\n",
      " ['2020-01-25' 'Afghanistan' 0 0 0]\n",
      " ['2020-01-26' 'Afghanistan' 0 0 0]]\n"
     ]
    }
   ],
   "source": [
    "import numpy as np\n",
    "import requests\n",
    "import pandas as pd\n",
    "from io import StringIO\n",
    "\n",
    "# Ejemplo 1: Obtener datos CSV desde una URL\n",
    "url = 'https://raw.githubusercontent.com/datasets/covid-19/master/data/countries-aggregated.csv'\n",
    "\n",
    "try:\n",
    "    # Descargar los datos\n",
    "    response = requests.get(url)\n",
    "    response.raise_for_status()  # Verificar si hubo errores\n",
    "    \n",
    "    # Convertir a DataFrame y luego a array de NumPy\n",
    "    df = pd.read_csv(StringIO(response.text))\n",
    "    datos_array = df.to_numpy()\n",
    "    \n",
    "    print(\"Primeras 5 filas de los datos:\")\n",
    "    print(datos_array[:5])\n",
    "\n",
    "except requests.exceptions.RequestException as e:\n",
    "    print(f\"Error al descargar los datos: {e}\")"
   ]
  },
  {
   "cell_type": "code",
   "execution_count": 8,
   "id": "100dbae6",
   "metadata": {},
   "outputs": [
    {
     "data": {
      "image/png": "[encoded data removed]",
      "text/plain": [
       "<Figure size 1000x500 with 1 Axes>"
      ]
     },
     "metadata": {},
     "output_type": "display_data"
    }
   ],
   "source": [
    "# Filtrar por país\n",
    "pais = 'Colombia'\n",
    "df_colombia = df[df['Country'] == pais]\n",
    "# Graficar los datos\n",
    "import matplotlib.pyplot as plt\n",
    "plt.figure(figsize=(10, 5))\n",
    "plt.plot( df_colombia['Confirmed'], label='Confirmados')\n",
    "plt.plot(df_colombia['Deaths'], label='Muertos')\n",
    "plt.title(f'COVID-19 en {pais}')\n",
    "plt.xlabel('Fecha')\n",
    "plt.ylabel('Número de casos')\n",
    "plt.xticks(rotation=45)\n",
    "plt.legend()\n",
    "plt.tight_layout()"
   ]
  },
  {
   "cell_type": "markdown",
   "id": "bb52ad90",
   "metadata": {},
   "source": [
    "## Exportación e Importación de Datos\n",
    "\n",
    "Pandas puede leer y escribir datos en varios formatos:"
   ]
  },
  {
   "cell_type": "code",
   "execution_count": null,
   "id": "0851742f",
   "metadata": {},
   "outputs": [],
   "source": [
    "# Guardar DataFrame en diferentes formatos\n",
    "df.to_csv('datos.csv', index=False)  # CSV\n",
    "df.to_excel('datos.xlsx', index=False)  # Excel (requiere openpyxl)\n",
    "\n",
    "# Leer datos desde diferentes formatos\n",
    "# df_csv = pd.read_csv('datos.csv')\n",
    "# df_excel = pd.read_excel('datos.xlsx')\n",
    "\n",
    "print(\"DataFrame guardado en CSV y Excel\")"
   ]
  },
  {
   "cell_type": "markdown",
   "id": "9685be46",
   "metadata": {},
   "source": [
    "## Resumen de Funciones Importantes en Pandas\n",
    "\n",
    "### Creación de Datos\n",
    "```python\n",
    "pd.DataFrame(data)           # Crear DataFrame\n",
    "pd.Series(data)              # Crear Serie\n",
    "pd.date_range()              # Crear rango de fechas\n",
    "pd.read_csv()                # Leer archivo CSV\n",
    "pd.read_excel()              # Leer archivo Excel\n",
    "```\n",
    "\n",
    "### Información y Selección\n",
    "```python\n",
    "df.info()                    # Información del DataFrame\n",
    "df.describe()                # Estadísticas descriptivas\n",
    "df.head()                    # Primeras filas\n",
    "df.tail()                    # Últimas filas\n",
    "df['columna']                # Seleccionar columna\n",
    "df.loc[]                     # Selección por etiqueta\n",
    "df.iloc[]                    # Selección por posición\n",
    "```\n",
    "\n",
    "### Limpieza de Datos\n",
    "```python\n",
    "df.dropna()                  # Eliminar valores faltantes\n",
    "df.fillna()                  # Rellenar valores faltantes\n",
    "df.drop_duplicates()         # Eliminar duplicados\n",
    "df.rename()                  # Renombrar columnas\n",
    "```\n",
    "\n",
    "### Manipulación\n",
    "```python\n",
    "df.sort_values()             # Ordenar valores\n",
    "df.groupby()                 # Agrupar datos\n",
    "pd.merge()                   # Combinar DataFrames\n",
    "pd.concat()                  # Concatenar DataFrames\n",
    "df.pivot_table()             # Crear tabla pivote\n",
    "```\n",
    "\n",
    "### Análisis\n",
    "```python\n",
    "df.mean()                    # Media\n",
    "df.median()                  # Mediana\n",
    "df.std()                     # Desviación estándar\n",
    "df.corr()                    # Correlación\n",
    "df.value_counts()            # Contar valores únicos\n",
    "```\n",
    "\n",
    "### Exportación\n",
    "```python\n",
    "df.to_csv()                  # Exportar a CSV\n",
    "df.to_excel()                # Exportar a Excel\n",
    "df.to_json()                 # Exportar a JSON\n",
    "df.to_sql()                  # Exportar a SQL\n",
    "```"
   ]
  }
 ],
 "metadata": {
  "kernelspec": {
   "display_name": "Python 3",
   "language": "python",
   "name": "python3"
  },
  "language_info": {
   "codemirror_mode": {
    "name": "ipython",
    "version": 3
   },
   "file_extension": ".py",
   "mimetype": "text/x-python",
   "name": "python",
   "nbconvert_exporter": "python",
   "pygments_lexer": "ipython3",
   "version": "3.12.3"
  }
 },
 "nbformat": 4,
 "nbformat_minor": 5
}
