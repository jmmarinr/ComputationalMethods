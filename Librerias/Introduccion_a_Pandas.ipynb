{
 "cells": [
  {
   "cell_type": "markdown",
   "id": "c2a81adf",
   "metadata": {},
   "source": [
    "# Introducción a Pandas\n",
    "\n",
    "Pandas es una librería de Python especializada en el manejo y análisis de datos estructurados. Es una herramienta fundamental en el análisis de datos y la ciencia de datos."
   ]
  },
  {
   "cell_type": "markdown",
   "id": "48bf7a69",
   "metadata": {},
   "source": [
    "## Importación de la librería\n",
    "\n",
    "Es común importar pandas con el alias `pd`:"
   ]
  },
  {
   "cell_type": "code",
   "execution_count": 14,
   "id": "5f7c6821",
   "metadata": {},
   "outputs": [
    {
     "name": "stdout",
     "output_type": "stream",
     "text": [
      "Versión de Pandas: 2.2.3\n"
     ]
    }
   ],
   "source": [
    "import pandas as pd\n",
    "import numpy as np  # También importaremos numpy ya que se usa frecuentemente con pandas\n",
    "\n",
    "# Verificar la versión de pandas instalada\n",
    "print(\"Versión de Pandas:\", pd.__version__)"
   ]
  },
  {
   "cell_type": "markdown",
   "id": "3d133f55",
   "metadata": {},
   "source": [
    "## Estructuras de Datos en Pandas\n",
    "\n",
    "Pandas tiene dos estructuras de datos principales:\n",
    "\n",
    "1. **Series**: Arrays unidimensionales etiquetados\n",
    "2. **DataFrame**: Tablas bidimensionales con columnas que pueden ser de diferentes tipos"
   ]
  },
  {
   "cell_type": "markdown",
   "id": "a2e7fb9c",
   "metadata": {},
   "source": [
    "### Series\n",
    "Una Serie es similar a un array unidimensional o una columna en una tabla:"
   ]
  },
  {
   "cell_type": "code",
   "execution_count": 15,
   "id": "6327f040",
   "metadata": {},
   "outputs": [
    {
     "name": "stdout",
     "output_type": "stream",
     "text": [
      "Serie simple:\n",
      "a    1\n",
      "b    2\n",
      "c    3\n",
      "d    4\n",
      "e    5\n",
      "dtype: int64\n",
      "\n",
      "Valor en índice 'c': 3\n",
      "\n",
      "Serie multiplicada por 2:\n",
      "a     2\n",
      "b     4\n",
      "c     6\n",
      "d     8\n",
      "e    10\n",
      "dtype: int64\n"
     ]
    }
   ],
   "source": [
    "# Crear una Serie desde una lista\n",
    "serie = pd.Series([1, 2, 3, 4, 5], index=['a', 'b', 'c', 'd', 'e'])\n",
    "print(\"Serie simple:\")\n",
    "print(serie)\n",
    "\n",
    "# Acceder a elementos\n",
    "print(\"\\nValor en índice 'c':\", serie['c'])\n",
    "\n",
    "# Operaciones con Series\n",
    "print(\"\\nSerie multiplicada por 2:\")\n",
    "print(serie * 2)"
   ]
  },
  {
   "cell_type": "markdown",
   "id": "6fd1e528",
   "metadata": {},
   "source": [
    "### DataFrame\n",
    "Un DataFrame es una estructura tabular bidimensional:"
   ]
  },
  {
   "cell_type": "code",
   "execution_count": 16,
   "id": "c6373089",
   "metadata": {},
   "outputs": [
    {
     "name": "stdout",
     "output_type": "stream",
     "text": [
      "DataFrame de ejemplo:\n",
      "   Nombre  Edad     Ciudad\n",
      "0    Juan    25     Madrid\n",
      "1     Ana    28  Barcelona\n",
      "2  Carlos    22    Sevilla\n",
      "3   María    30   Valencia\n"
     ]
    }
   ],
   "source": [
    "# Crear un DataFrame desde un diccionario\n",
    "data = {\n",
    "    'Nombre': ['Juan', 'Ana', 'Carlos', 'María'],\n",
    "    'Edad': [25, 28, 22, 30],\n",
    "    'Ciudad': ['Madrid', 'Barcelona', 'Sevilla', 'Valencia']\n",
    "}\n",
    "\n",
    "df = pd.DataFrame(data)\n",
    "print(\"DataFrame de ejemplo:\")\n",
    "print(df)"
   ]
  },
  {
   "cell_type": "markdown",
   "id": "12aaa174",
   "metadata": {},
   "source": [
    "## Operaciones Básicas con DataFrames"
   ]
  },
  {
   "cell_type": "code",
   "execution_count": 17,
   "id": "80735975",
   "metadata": {},
   "outputs": [
    {
     "name": "stdout",
     "output_type": "stream",
     "text": [
      "Información del DataFrame:\n",
      "<class 'pandas.core.frame.DataFrame'>\n",
      "RangeIndex: 4 entries, 0 to 3\n",
      "Data columns (total 3 columns):\n",
      " #   Column  Non-Null Count  Dtype \n",
      "---  ------  --------------  ----- \n",
      " 0   Nombre  4 non-null      object\n",
      " 1   Edad    4 non-null      int64 \n",
      " 2   Ciudad  4 non-null      object\n",
      "dtypes: int64(1), object(2)\n",
      "memory usage: 228.0+ bytes\n",
      "None\n",
      "\n",
      "Primeras 2 filas:\n",
      "  Nombre  Edad     Ciudad\n",
      "0   Juan    25     Madrid\n",
      "1    Ana    28  Barcelona\n",
      "\n",
      "Últimas 2 filas:\n",
      "   Nombre  Edad    Ciudad\n",
      "2  Carlos    22   Sevilla\n",
      "3   María    30  Valencia\n",
      "\n",
      "Estadísticas descriptivas:\n",
      "        Edad\n",
      "count   4.00\n",
      "mean   26.25\n",
      "std     3.50\n",
      "min    22.00\n",
      "25%    24.25\n",
      "50%    26.50\n",
      "75%    28.50\n",
      "max    30.00\n"
     ]
    }
   ],
   "source": [
    "# Información básica del DataFrame\n",
    "print(\"Información del DataFrame:\")\n",
    "print(df.info())\n",
    "\n",
    "print(\"\\nPrimeras 2 filas:\")\n",
    "print(df.head(2))\n",
    "\n",
    "print(\"\\nÚltimas 2 filas:\")\n",
    "print(df.tail(2))\n",
    "\n",
    "print(\"\\nEstadísticas descriptivas:\")\n",
    "print(df.describe())"
   ]
  },
  {
   "cell_type": "markdown",
   "id": "7ace00cb",
   "metadata": {},
   "source": [
    "## Selección y Filtrado de Datos"
   ]
  },
  {
   "cell_type": "code",
   "execution_count": 18,
   "id": "57bdabea",
   "metadata": {},
   "outputs": [
    {
     "name": "stdout",
     "output_type": "stream",
     "text": [
      "Columna 'Nombre':\n",
      "0      Juan\n",
      "1       Ana\n",
      "2    Carlos\n",
      "3     María\n",
      "Name: Nombre, dtype: object\n",
      "\n",
      "Columnas 'Nombre' y 'Edad':\n",
      "   Nombre  Edad\n",
      "0    Juan    25\n",
      "1     Ana    28\n",
      "2  Carlos    22\n",
      "3   María    30\n",
      "\n",
      "Personas mayores de 25 años:\n",
      "  Nombre  Edad     Ciudad\n",
      "1    Ana    28  Barcelona\n",
      "3  María    30   Valencia\n"
     ]
    }
   ],
   "source": [
    "# Seleccionar una columna\n",
    "print(\"Columna 'Nombre':\")\n",
    "print(df['Nombre'])\n",
    "\n",
    "# Seleccionar múltiples columnas\n",
    "print(\"\\nColumnas 'Nombre' y 'Edad':\")\n",
    "print(df[['Nombre', 'Edad']])\n",
    "\n",
    "# Filtrar filas\n",
    "print(\"\\nPersonas mayores de 25 años:\")\n",
    "print(df[df['Edad'] > 25])"
   ]
  },
  {
   "cell_type": "markdown",
   "id": "ff68364a",
   "metadata": {},
   "source": [
    "## Manejo de Datos Faltantes"
   ]
  },
  {
   "cell_type": "code",
   "execution_count": 19,
   "id": "bd12785b",
   "metadata": {},
   "outputs": [
    {
     "name": "stdout",
     "output_type": "stream",
     "text": [
      "DataFrame con valores faltantes:\n",
      "     A    B   C\n",
      "0  1.0  5.0   9\n",
      "1  2.0  NaN  10\n",
      "2  NaN  NaN  11\n",
      "3  4.0  8.0  12\n",
      "\n",
      "Verificar valores faltantes:\n",
      "       A      B      C\n",
      "0  False  False  False\n",
      "1  False   True  False\n",
      "2   True   True  False\n",
      "3  False  False  False\n",
      "\n",
      "Eliminar filas con valores faltantes:\n",
      "     A    B   C\n",
      "0  1.0  5.0   9\n",
      "3  4.0  8.0  12\n",
      "\n",
      "Rellenar valores faltantes con 0:\n",
      "     A    B   C\n",
      "0  1.0  5.0   9\n",
      "1  2.0  0.0  10\n",
      "2  0.0  0.0  11\n",
      "3  4.0  8.0  12\n"
     ]
    }
   ],
   "source": [
    "# Crear DataFrame con valores faltantes\n",
    "df_nan = pd.DataFrame({\n",
    "    'A': [1, 2, np.nan, 4],\n",
    "    'B': [5, np.nan, np.nan, 8],\n",
    "    'C': [9, 10, 11, 12]\n",
    "})\n",
    "\n",
    "print(\"DataFrame con valores faltantes:\")\n",
    "print(df_nan)\n",
    "\n",
    "# Verificar valores faltantes\n",
    "print(\"\\nVerificar valores faltantes:\")\n",
    "print(df_nan.isnull())\n",
    "\n",
    "# Eliminar filas con valores faltantes\n",
    "print(\"\\nEliminar filas con valores faltantes:\")\n",
    "print(df_nan.dropna())\n",
    "\n",
    "# Rellenar valores faltantes\n",
    "print(\"\\nRellenar valores faltantes con 0:\")\n",
    "print(df_nan.fillna(0))"
   ]
  },
  {
   "cell_type": "markdown",
   "id": "ab9d8f90",
   "metadata": {},
   "source": [
    "## Operaciones de Agrupación y Agregación"
   ]
  },
  {
   "cell_type": "code",
   "execution_count": 20,
   "id": "9ad637d8",
   "metadata": {},
   "outputs": [
    {
     "name": "stdout",
     "output_type": "stream",
     "text": [
      "DataFrame de ventas:\n",
      "  Vendedor Producto  Ventas\n",
      "0     Juan        A     100\n",
      "1      Ana        B     150\n",
      "2     Juan        B     200\n",
      "3    María        A     300\n",
      "4      Ana        A     250\n",
      "5    María        B     175\n",
      "\n",
      "Ventas totales por vendedor:\n",
      "Vendedor\n",
      "Ana      400\n",
      "Juan     300\n",
      "María    475\n",
      "Name: Ventas, dtype: int64\n",
      "\n",
      "Ventas promedio por vendedor y producto:\n",
      "Vendedor  Producto\n",
      "Ana       A           250.0\n",
      "          B           150.0\n",
      "Juan      A           100.0\n",
      "          B           200.0\n",
      "María     A           300.0\n",
      "          B           175.0\n",
      "Name: Ventas, dtype: float64\n"
     ]
    }
   ],
   "source": [
    "# Crear un DataFrame más grande para ejemplos de agrupación\n",
    "data_ventas = {\n",
    "    'Vendedor': ['Juan', 'Ana', 'Juan', 'María', 'Ana', 'María'],\n",
    "    'Producto': ['A', 'B', 'B', 'A', 'A', 'B'],\n",
    "    'Ventas': [100, 150, 200, 300, 250, 175]\n",
    "}\n",
    "\n",
    "df_ventas = pd.DataFrame(data_ventas)\n",
    "print(\"DataFrame de ventas:\")\n",
    "print(df_ventas)\n",
    "\n",
    "# Agrupar por vendedor y calcular suma de ventas\n",
    "print(\"\\nVentas totales por vendedor:\")\n",
    "print(df_ventas.groupby('Vendedor')['Ventas'].sum())\n",
    "\n",
    "# Agrupar por vendedor y producto\n",
    "print(\"\\nVentas promedio por vendedor y producto:\")\n",
    "print(df_ventas.groupby(['Vendedor', 'Producto'])['Ventas'].mean())"
   ]
  },
  {
   "cell_type": "markdown",
   "id": "aecd65d6",
   "metadata": {},
   "source": [
    "## Fusión y Combinación de DataFrames"
   ]
  },
  {
   "cell_type": "code",
   "execution_count": 21,
   "id": "d3c9d0c1",
   "metadata": {},
   "outputs": [
    {
     "name": "stdout",
     "output_type": "stream",
     "text": [
      "DataFrame 1:\n",
      "   ID  Nombre\n",
      "0   1    Juan\n",
      "1   2     Ana\n",
      "2   3  Carlos\n",
      "3   4   María\n",
      "\n",
      "DataFrame 2:\n",
      "   ID  Salario\n",
      "0   1    30000\n",
      "1   2    35000\n",
      "2   3    40000\n",
      "3   5    45000\n",
      "\n",
      "Unión inner de DataFrames:\n",
      "   ID  Nombre  Salario\n",
      "0   1    Juan    30000\n",
      "1   2     Ana    35000\n",
      "2   3  Carlos    40000\n",
      "\n",
      "Unión outer de DataFrames:\n",
      "   ID  Nombre  Salario\n",
      "0   1    Juan  30000.0\n",
      "1   2     Ana  35000.0\n",
      "2   3  Carlos  40000.0\n",
      "3   4   María      NaN\n",
      "4   5     NaN  45000.0\n"
     ]
    }
   ],
   "source": [
    "# Crear dos DataFrames para combinar\n",
    "df1 = pd.DataFrame({\n",
    "    'ID': [1, 2, 3, 4],\n",
    "    'Nombre': ['Juan', 'Ana', 'Carlos', 'María']\n",
    "})\n",
    "\n",
    "df2 = pd.DataFrame({\n",
    "    'ID': [1, 2, 3, 5],\n",
    "    'Salario': [30000, 35000, 40000, 45000]\n",
    "})\n",
    "\n",
    "print(\"DataFrame 1:\")\n",
    "print(df1)\n",
    "print(\"\\nDataFrame 2:\")\n",
    "print(df2)\n",
    "\n",
    "# Merge (unión) de DataFrames\n",
    "print(\"\\nUnión inner de DataFrames:\")\n",
    "print(pd.merge(df1, df2, on='ID'))\n",
    "\n",
    "print(\"\\nUnión outer de DataFrames:\")\n",
    "print(pd.merge(df1, df2, on='ID', how='outer'))"
   ]
  },
  {
   "cell_type": "markdown",
   "id": "bff7ff3f",
   "metadata": {},
   "source": [
    "## Obtención de Datos desde la Web\n",
    "\n",
    "NumPy puede trabajar con datos obtenidos de páginas web. Para esto, generalmente se combina con otras librerías como `requests` y `pandas`:"
   ]
  },
  {
   "cell_type": "code",
   "execution_count": 27,
   "id": "a5ec225f",
   "metadata": {},
   "outputs": [
    {
     "data": {
      "text/html": [
       "<div>\n",
       "<style scoped>\n",
       "    .dataframe tbody tr th:only-of-type {\n",
       "        vertical-align: middle;\n",
       "    }\n",
       "\n",
       "    .dataframe tbody tr th {\n",
       "        vertical-align: top;\n",
       "    }\n",
       "\n",
       "    .dataframe thead th {\n",
       "        text-align: right;\n",
       "    }\n",
       "</style>\n",
       "<table border=\"1\" class=\"dataframe\">\n",
       "  <thead>\n",
       "    <tr style=\"text-align: right;\">\n",
       "      <th></th>\n",
       "      <th>Date</th>\n",
       "      <th>Country</th>\n",
       "      <th>Confirmed</th>\n",
       "      <th>Recovered</th>\n",
       "      <th>Deaths</th>\n",
       "    </tr>\n",
       "  </thead>\n",
       "  <tbody>\n",
       "    <tr>\n",
       "      <th>0</th>\n",
       "      <td>2020-01-22</td>\n",
       "      <td>Afghanistan</td>\n",
       "      <td>0</td>\n",
       "      <td>0</td>\n",
       "      <td>0</td>\n",
       "    </tr>\n",
       "    <tr>\n",
       "      <th>1</th>\n",
       "      <td>2020-01-23</td>\n",
       "      <td>Afghanistan</td>\n",
       "      <td>0</td>\n",
       "      <td>0</td>\n",
       "      <td>0</td>\n",
       "    </tr>\n",
       "    <tr>\n",
       "      <th>2</th>\n",
       "      <td>2020-01-24</td>\n",
       "      <td>Afghanistan</td>\n",
       "      <td>0</td>\n",
       "      <td>0</td>\n",
       "      <td>0</td>\n",
       "    </tr>\n",
       "    <tr>\n",
       "      <th>3</th>\n",
       "      <td>2020-01-25</td>\n",
       "      <td>Afghanistan</td>\n",
       "      <td>0</td>\n",
       "      <td>0</td>\n",
       "      <td>0</td>\n",
       "    </tr>\n",
       "    <tr>\n",
       "      <th>4</th>\n",
       "      <td>2020-01-26</td>\n",
       "      <td>Afghanistan</td>\n",
       "      <td>0</td>\n",
       "      <td>0</td>\n",
       "      <td>0</td>\n",
       "    </tr>\n",
       "  </tbody>\n",
       "</table>\n",
       "</div>"
      ],
      "text/plain": [
       "         Date      Country  Confirmed  Recovered  Deaths\n",
       "0  2020-01-22  Afghanistan          0          0       0\n",
       "1  2020-01-23  Afghanistan          0          0       0\n",
       "2  2020-01-24  Afghanistan          0          0       0\n",
       "3  2020-01-25  Afghanistan          0          0       0\n",
       "4  2020-01-26  Afghanistan          0          0       0"
      ]
     },
     "execution_count": 27,
     "metadata": {},
     "output_type": "execute_result"
    }
   ],
   "source": [
    "import numpy as np\n",
    "import requests\n",
    "import pandas as pd\n",
    "from io import StringIO\n",
    "\n",
    "# Ejemplo 1: Obtener datos CSV desde una URL\n",
    "url = 'https://raw.githubusercontent.com/datasets/covid-19/master/data/countries-aggregated.csv'\n",
    "\n",
    "try:\n",
    "    # Descargar los datos\n",
    "    response = requests.get(url)\n",
    "    response.raise_for_status()  # Verificar si hubo errores\n",
    "    \n",
    "    # Convertir a DataFrame y luego a array de NumPy\n",
    "    df = pd.read_csv(StringIO(response.text))\n",
    "    datos_array = df.to_numpy()\n",
    "\n",
    "\n",
    "except requests.exceptions.RequestException as e:\n",
    "    print(f\"Error al descargar los datos: {e}\")\n",
    "\n",
    "df.head()"
   ]
  },
  {
   "cell_type": "code",
   "execution_count": 23,
   "id": "100dbae6",
   "metadata": {},
   "outputs": [
    {
     "data": {
      "image/png": "[encoded data removed]",
      "text/plain": [
       "<Figure size 1000x500 with 1 Axes>"
      ]
     },
     "metadata": {},
     "output_type": "display_data"
    }
   ],
   "source": [
    "# Filtrar por país\n",
    "pais = 'Colombia'\n",
    "df_colombia = df[df['Country'] == pais]\n",
    "# Graficar los datos\n",
    "import matplotlib.pyplot as plt\n",
    "plt.figure(figsize=(10, 5))\n",
    "plt.plot( df_colombia['Confirmed'], label='Confirmados')\n",
    "plt.plot(df_colombia['Deaths'], label='Muertos')\n",
    "plt.title(f'COVID-19 en {pais}')\n",
    "plt.xlabel('Fecha')\n",
    "plt.ylabel('Número de casos')\n",
    "plt.xticks(rotation=45)\n",
    "plt.legend()\n",
    "plt.tight_layout()"
   ]
  },
  {
   "cell_type": "markdown",
   "id": "bb52ad90",
   "metadata": {},
   "source": [
    "## Exportación e Importación de Datos\n",
    "\n",
    "Pandas puede leer y escribir datos en varios formatos:"
   ]
  },
  {
   "cell_type": "code",
   "execution_count": 24,
   "id": "0851742f",
   "metadata": {},
   "outputs": [
    {
     "name": "stdout",
     "output_type": "stream",
     "text": [
      "DataFrame guardado en CSV\n"
     ]
    }
   ],
   "source": [
    "# Guardar DataFrame en diferentes formatos\n",
    "df.to_csv('datos.csv', index=False)  # CSV\n",
    "#df.to_excel('datos.xlsx', index=False)  # Excel (requiere openpyxl)\n",
    "\n",
    "# Leer datos desde diferentes formatos\n",
    "df_csv = pd.read_csv('datos.csv')\n",
    "# df_excel = pd.read_excel('datos.xlsx')\n",
    "\n",
    "print(\"DataFrame guardado en CSV\")"
   ]
  },
  {
   "cell_type": "markdown",
   "id": "9685be46",
   "metadata": {},
   "source": [
    "## Resumen de Funciones Importantes en Pandas\n",
    "\n",
    "### Creación de Datos\n",
    "```python\n",
    "pd.DataFrame(data)           # Crear DataFrame\n",
    "pd.Series(data)              # Crear Serie\n",
    "pd.date_range()              # Crear rango de fechas\n",
    "pd.read_csv()                # Leer archivo CSV\n",
    "pd.read_excel()              # Leer archivo Excel\n",
    "```\n",
    "\n",
    "### Información y Selección\n",
    "```python\n",
    "df.info()                    # Información del DataFrame\n",
    "df.describe()                # Estadísticas descriptivas\n",
    "df.head()                    # Primeras filas\n",
    "df.tail()                    # Últimas filas\n",
    "df['columna']                # Seleccionar columna\n",
    "df.loc[]                     # Selección por etiqueta\n",
    "df.iloc[]                    # Selección por posición\n",
    "```\n",
    "\n",
    "### Limpieza de Datos\n",
    "```python\n",
    "df.dropna()                  # Eliminar valores faltantes\n",
    "df.fillna()                  # Rellenar valores faltantes\n",
    "df.drop_duplicates()         # Eliminar duplicados\n",
    "df.rename()                  # Renombrar columnas\n",
    "```\n",
    "\n",
    "### Manipulación\n",
    "```python\n",
    "df.sort_values()             # Ordenar valores\n",
    "df.groupby()                 # Agrupar datos\n",
    "pd.merge()                   # Combinar DataFrames\n",
    "pd.concat()                  # Concatenar DataFrames\n",
    "df.pivot_table()             # Crear tabla pivote\n",
    "```\n",
    "\n",
    "### Análisis\n",
    "```python\n",
    "df.mean()                    # Media\n",
    "df.median()                  # Mediana\n",
    "df.std()                     # Desviación estándar\n",
    "df.corr()                    # Correlación\n",
    "df.value_counts()            # Contar valores únicos\n",
    "```\n",
    "\n",
    "### Exportación\n",
    "```python\n",
    "df.to_csv()                  # Exportar a CSV\n",
    "df.to_excel()                # Exportar a Excel\n",
    "df.to_json()                 # Exportar a JSON\n",
    "df.to_sql()                  # Exportar a SQL\n",
    "```"
   ]
  }
 ],
 "metadata": {
  "kernelspec": {
   "display_name": "Python 3",
   "language": "python",
   "name": "python3"
  },
  "language_info": {
   "codemirror_mode": {
    "name": "ipython",
    "version": 3
   },
   "file_extension": ".py",
   "mimetype": "text/x-python",
   "name": "python",
   "nbconvert_exporter": "python",
   "pygments_lexer": "ipython3",
   "version": "3.13.1"
  }
 },
 "nbformat": 4,
 "nbformat_minor": 5
}
