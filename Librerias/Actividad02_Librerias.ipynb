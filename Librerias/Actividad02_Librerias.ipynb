{
  "nbformat": 4,
  "nbformat_minor": 0,
  "metadata": {
    "colab": {
      "provenance": [],
      "authorship_tag": "ABX9TyNvc2pKyN6iG6HdmZzD/JD2",
      "include_colab_link": true
    },
    "kernelspec": {
      "name": "python3",
      "display_name": "Python 3"
    },
    "language_info": {
      "name": "python"
    }
  },
  "cells": [
    {
      "cell_type": "markdown",
      "metadata": {
        "id": "view-in-github",
        "colab_type": "text"
      },
      "source": [
        "<a href=\"https://colab.research.google.com/github/jmmarinr/ComputationalMethods/blob/master/Librerias/Actividad02_Librerias.ipynb\" target=\"_parent\"><img src=\"https://colab.research.google.com/assets/colab-badge.svg\" alt=\"Open In Colab\"/></a>"
      ]
    },
    {
      "cell_type": "markdown",
      "source": [
        "# Actividad 02: Librerias y modelamiento básico\n",
        "\n",
        "### Profesor: Juan Marcos Marín Ramírez\n",
        "#### Métodos Computacionales\n",
        "---\n",
        "\n"
      ],
      "metadata": {
        "id": "rdLoJ5zATglY"
      }
    },
    {
      "cell_type": "markdown",
      "source": [
        "## 1.\n",
        "Una persona conduce una moto con rapidez constante $v_m$, mientras que un policia lo hace con aceleración constante $a_p$ (iniciando desde el reposo). Suponga que ambos movimientos inician en $t=0$, haga una gráfica para el movimiento de la moto y del policia, donde el usuario ingrese la velocidad (moto) y aceleración (policia). Además determine el instante $t$ en el cual se encuentran ambos. Ambos movimientos iniciarán en $x_i = 0$\n",
        "\n",
        "**Pruebe**: para $v_m$ = 15m/s y $a_p$ = 3 m/s², el tiempo deberia ser 10 s\n",
        "\n",
        "\n",
        "$$x_f = x_i + v_m\\cdot t$$\n",
        "\n",
        "$$x_f = x_i + v_o\\cdot t + \\frac{1}{2}a_p\\cdot t^2$$\n",
        "\n"
      ],
      "metadata": {
        "id": "uVGJiXFxTvci"
      }
    },
    {
      "cell_type": "code",
      "source": [],
      "metadata": {
        "id": "OLpnGwMTTuhn"
      },
      "execution_count": null,
      "outputs": []
    },
    {
      "cell_type": "markdown",
      "source": [
        "---\n",
        "\n",
        "##2.\n",
        "El potencial Lennard-Jones es un modelo simple que aproxima la interacción entre un par de moléculas neutras. Este está definido como:\n",
        "\n",
        "$$\n",
        "V(r) = 4\\epsilon \\left[ \\left( \\frac{\\sigma}{r} \\right)^{12} - \\left( \\frac{\\sigma}{r} \\right)^{6} \\right]\n",
        "$$\n",
        "\n",
        "Donde:\n",
        "- $V(r)$ es el potencial en función de la distancia interatómica $r$.\n",
        "- $\\epsilon$ es la profundidad del pozo de potencial, es decir, la energía mínima que describe la interacción entre dos partículas.\n",
        "- $\\sigma$ es la distancia a la cual el potencial es cero, también conocido como el parámetro de distancia.\n",
        "- $r$ es la distancia entre las dos partículas.\n",
        "\n",
        "a. Escriba una función para encontrar modelar el potencial LJ.\n",
        "\n",
        "\n",
        "b. Usando $\\sigma = \\epsilon = 1$ demuestre que la distancia de equilibrio $r_m$ es aproximadamente $r_m = 2^{1/16}\\sigma$. Para esto realice un gráfico del potencial, especificando los ejes. Trunque la serie en $r_c = 2.5\\sigma$.\n",
        "\n",
        "\n",
        "c. Verifique que $r_m = 2^{1/16}\\sigma$ se cumple para diferentes valores de $\\sigma$, dejando $\\epsilon$ constante.\n",
        "\n",
        "\n"
      ],
      "metadata": {
        "id": "wz47Be5-TyvA"
      }
    },
    {
      "cell_type": "code",
      "source": [],
      "metadata": {
        "id": "hVOzrf8HT0Zx"
      },
      "execution_count": null,
      "outputs": []
    },
    {
      "cell_type": "markdown",
      "source": [
        "##3.  \n",
        "El siguiente código exporta tablas html de sitios web\n",
        "\n",
        "```python\n",
        "import pandas as pd\n",
        "\n",
        "# Dataset 1\n",
        "# URL of the webpage\n",
        "url = \"https://worldpopulationreview.com/country-rankings/average-height-by-country\"\n",
        "\n",
        "# Read the HTML content\n",
        "html_content = pd.read_html(url)\n",
        "\n",
        "alturas = html_content[2]\n",
        "\n",
        "# Dataset 2\n",
        "# URL of the webpage\n",
        "url = \"https://worldpopulationreview.com/country-rankings/average-net-worth-by-country\"\n",
        "\n",
        "# Read the HTML content\n",
        "html_content = pd.read_html(url)\n",
        "\n",
        "income = html_content[0]\n",
        "````\n",
        "\n",
        "El primer dataset muestra las alturas medias de niñ@s de 5, 10, 15 y 19 años.\n",
        "\n",
        "a. Limpie los datos, eliminando columnas en *(in)* y cambie todos los nombres de las columnas al español.\n",
        "\n",
        "b. Realice un gráfico de barras, donde se muestre una comparación de la estatura media para niños y niñas en ambas categorias. Esto para los primeros 10 paises con mayor y menor altura, además agregue a Colombia.\n",
        "\n",
        "c. ¿Existirá una relación entre la riqueza y la altura? Usando el dataset `income`, haga un merge con el dataset `alturas`. Ahora, empleando los datos de altura para los 10 mayores (19 años) y 10 menores (19 años). Realice un gráfico donde relacione la altura media con el GDP y concluya si existe alguna relación.\n"
      ],
      "metadata": {
        "id": "DPQ-NPD7T0-g"
      }
    },
    {
      "cell_type": "code",
      "source": [],
      "metadata": {
        "id": "dVA2eX5qT2qS"
      },
      "execution_count": null,
      "outputs": []
    }
  ]
}